{
  "nbformat": 4,
  "nbformat_minor": 0,
  "metadata": {
    "colab": {
      "provenance": []
    },
    "kernelspec": {
      "name": "python3",
      "display_name": "Python 3"
    },
    "language_info": {
      "name": "python"
    }
  },
  "cells": [
    {
      "cell_type": "code",
      "execution_count": 1,
      "metadata": {
        "colab": {
          "base_uri": "https://localhost:8080/"
        },
        "id": "ch0XaUzr8_SU",
        "outputId": "c920bb18-62d7-4119-86c1-a5d119cf22df"
      },
      "outputs": [
        {
          "output_type": "stream",
          "name": "stdout",
          "text": [
            "Requirement already satisfied: pyspark in /usr/local/lib/python3.10/dist-packages (3.5.0)\n",
            "Requirement already satisfied: py4j in /usr/local/lib/python3.10/dist-packages (0.10.9.7)\n"
          ]
        }
      ],
      "source": [
        "!pip install pyspark py4j"
      ]
    },
    {
      "cell_type": "code",
      "source": [
        "#Create a Spark Session\n",
        "from pyspark.sql import SparkSession\n",
        "\n",
        "spark= SparkSession.builder.appName(\"description\").getOrCreate()\n"
      ],
      "metadata": {
        "id": "yT-ZQiET9L6y"
      },
      "execution_count": 2,
      "outputs": []
    },
    {
      "cell_type": "code",
      "source": [
        "from pyspark.sql.types import StructType, StructField, IntegerType, StringType\n",
        "\n",
        "# Schema defined as infering  it directly with spark alters the content in my case.\n",
        "schema = StructType([\n",
        "    StructField(\"book_id\", IntegerType(), True),\n",
        "    StructField(\"name\", StringType(), True),\n",
        "    StructField(\"description\", StringType(), True)\n",
        "])\n",
        "\n",
        "\n",
        "file_path = \"/content/drive/MyDrive/Data Mining/description.csv\"\n",
        "\n",
        "# Allows for multiple lines in a given row\n",
        "df_description = spark.read.option(\"multiline\", \"true\").option(\"escape\", \"\\\"\").csv(file_path, schema=schema, header=True)\n",
        "\n",
        "\n",
        "# Show all rows\n",
        "df_description.show(df_description.count())\n",
        "\n"
      ],
      "metadata": {
        "id": "3gLcMNxq9Ro8",
        "colab": {
          "base_uri": "https://localhost:8080/"
        },
        "outputId": "b5aa8d4f-d484-46f2-c318-9e4145db7dd7"
      },
      "execution_count": 3,
      "outputs": [
        {
          "output_type": "stream",
          "name": "stdout",
          "text": [
            "+-------+--------------------+--------------------+\n",
            "|book_id|                name|         description|\n",
            "+-------+--------------------+--------------------+\n",
            "|   4833|    The Glass Castle|A tender, moving ...|\n",
            "|    590|Night (The Night ...|Born into a Jewis...|\n",
            "|   4264|Angela's Ashes (F...|Imbued on every p...|\n",
            "|   3361|    Eat, Pray, Love |A celebrated writ...|\n",
            "|   4535|Into Thin Air: A ...|A bank of clouds ...|\n",
            "|    518|Tuesdays with Morrie|Maybe it was a gr...|\n",
            "|   3781|Running with Scis...|The true story of...|\n",
            "|   3190|       Into the Wild|In April 1992 a y...|\n",
            "|   3147|I Know Why the Ca...|Sent by their mot...|\n",
            "|    225|A Child Called \"I...|This book chronic...|\n",
            "|   3035|Chickens, Mules a...|Perhaps if Joe an...|\n",
            "|     99|Persepolis: The S...|Wise, funny, and ...|\n",
            "|   3594|The Autobiography...|Through a life of...|\n",
            "|   4971|The Hiding Place:...|At one time Corri...|\n",
            "|   1381|All Creatures Gre...|Delve into the ma...|\n",
            "|   3099|         Confessions|Augustine's Confe...|\n",
            "|     45|Me Talk Pretty On...|David Sedaris' mo...|\n",
            "|   3269|Marley and Me: Li...|John and Jenny we...|\n",
            "|   2786|          John Adams|The enthralling, ...|\n",
            "|   4484|Man's Search for ...|Psychiatrist Vikt...|\n",
            "|   3042|Maus I: A Survivo...|A story of a Jewi...|\n",
            "|   2865|Wild Swans: Three...|The story of thre...|\n",
            "|   1061|A Long Way Gone: ...|The devastating s...|\n",
            "|    883|         Confessions|                NULL|\n",
            "|    847|    The Last Lecture|Based on the extr...|\n",
            "|     84|Martin Heidegger:...|One of the centur...|\n",
            "|   4222|             Infidel|One of today’s mo...|\n",
            "|   4414|          Bossypants|Before Liz Lemon,...|\n",
            "|    239|Wild: From Lost t...|At twenty-two, Ch...|\n",
            "|   1964|The Diary of a Yo...|Anne Frank's extr...|\n",
            "|   3571|Oral and Maxillof...|This is a compreh...|\n",
            "|   1847|Barron's GRE, 21s...|This edition of B...|\n",
            "|   1334|George Balanchine...|Written by the gi...|\n",
            "|   4885|A Partner in Holi...|\"The lessons in K...|\n",
            "|   1831|Construction Sche...|This text is a co...|\n",
            "|   4868|Literature and It...|Literature is a c...|\n",
            "|   1940|Straight on Till ...|Drawing on her pe...|\n",
            "|   2491|Diagrammatica: Th...|This book provide...|\n",
            "|     15|Book of Common Pr...|Available for the...|\n",
            "|   3196|  A Handful of Stars|This powerful mid...|\n",
            "|     61|Almost Anorexic: ...|Determine if your...|\n",
            "|   3769|Pre-ANDA Litigati...|All pharmaceutica...|\n",
            "|   4540|Creative, Success...|23 very well-know...|\n",
            "|   3389|Organ Transplanta...|Every day, newspa...|\n",
            "|   3034|The Age of Acquie...|A groundbreaking ...|\n",
            "|    822|The Multiples Man...|A guide for paren...|\n",
            "|    993|Oregon High: A Cl...|OREGON HIGH : A C...|\n",
            "|   3575|HTML & XHTML: The...|Put everthing you...|\n",
            "|   4931|Anti Inflammatory...|Kate has put toge...|\n",
            "|   1622|Leopard Geckos (C...|Leopard Geckos ar...|\n",
            "|    540|Botswana & Its Na...|Especially in the...|\n",
            "|   4968|Eat the Rich: A T...|America's favorit...|\n",
            "|    276|Paw Patrol Phonic...|This Step into Re...|\n",
            "|   1583|                NULL|                NULL|\n",
            "|   4208|Historical Maps o...|As a defining mom...|\n",
            "|   NULL|                NULL|                NULL|\n",
            "|     91|The Story of the ...|earn the team's o...|\n",
            "|   1618|Love in Provence:...|Love is something...|\n",
            "|   1890|Polymeric Multico...|Designed for a gr...|\n",
            "|   3828|      Fantasy League|12-year-old Charl...|\n",
            "|   2089|Be the Ultimate A...|Release date June...|\n",
            "|   4667|Parables: The Gre...|We all love a goo...|\n",
            "|   NULL|                NULL|                NULL|\n",
            "|    766|Microsoft Windows...|IT security can b...|\n",
            "|   2390|Shadowrun: Third ...|The Shadows Have ...|\n",
            "|   3913|The Crime Wave: C...|Though he is cele...|\n",
            "|   1127|The English Count...|There is somethin...|\n",
            "|   NULL|                NULL|                NULL|\n",
            "|   1577|ICD-10-CM 2015: T...|This comprehensiv...|\n",
            "|   4772| The Words of Gandhi|Gandhi's ideas ar...|\n",
            "|    322|            Shortcut|The train tracks ...|\n",
            "|   2984|Medical Mycology:...|\"Medical Mycology...|\n",
            "|   NULL|                NULL|                NULL|\n",
            "|    888|Reasons Mommy Drinks|Being a new mom i...|\n",
            "|   3744|Manual of High Ri...|The only book of ...|\n",
            "|    207|Oscillations and ...|Bridging lower-di...|\n",
            "|   3836|             DAMAGES|When Donna Sabia ...|\n",
            "|    447|Sermons on Timoth...|Calvin's exposito...|\n",
            "|   2492|Oils and Vinegars...|Oils and vinegars...|\n",
            "|     16|The Handbook of P...|In this authorita...|\n",
            "|   2523|Stage Plays from ...|One-act stage ada...|\n",
            "|   4479|Runner's World Me...|While all runners...|\n",
            "|   1557|Mosaics Inside & ...|This book makes e...|\n",
            "|   2802|She Appears! Enco...|Referred to as th...|\n",
            "|   4216|A Companion to Mu...|A Companion to Mu...|\n",
            "|    726|                NULL|                NULL|\n",
            "|    408|Indoor Marijuana ...| The classic \"Ind...|\n",
            "|   1565|This Book Is Full...|The novel is a fo...|\n",
            "|   4924|The Secret to Lon...|The Secret to Lon...|\n",
            "|   2292|Rabbi Israel Sala...|Israel Salanter w...|\n",
            "|   4732|The Healthiest Ci...|Between 1850 and ...|\n",
            "|   3018|My Fair Gentleman...|Jack would rather...|\n",
            "|   4459|Stand Up Paddling...|The first and onl...|\n",
            "|   1541|                NULL|                NULL|\n",
            "|   1627|Unnatural Talent:...|The journey from ...|\n",
            "|   1085|Brainstorm: The P...|In this groundbre...|\n",
            "|   2660| E-Commerce Concepts|This book is a mi...|\n",
            "|   3174|Well Enough Alone...|Jennifer Traig do...|\n",
            "|   4389|                NULL|                NULL|\n",
            "|   4923|How to Have a Big...|This book is load...|\n",
            "|   1570|                NULL|                NULL|\n",
            "|   2298|                NULL|                NULL|\n",
            "|      7|Principles of Mar...|This edition of t...|\n",
            "|    479|                NULL|                NULL|\n",
            "|   2685|Mercy Watson: Som...|Some may find it ...|\n",
            "|   3574|     If You're Lucky|When seventeen-ye...|\n",
            "|    145|Great-Tasting Pot...|The potato must b...|\n",
            "|   NULL|                NULL|                NULL|\n",
            "|   1505|Healing Without M...|Today's health-co...|\n",
            "|   1430|Eternity's Sunris...|William Blake, ov...|\n",
            "|   2205|Paraguay (Bradt T...|At the heart of S...|\n",
            "|   1143|Treating Trauma a...|This is the autho...|\n",
            "|    554|A Terrible Reveng...|The genocidal bar...|\n",
            "|   3694|Plastics: America...|Plastics explains...|\n",
            "|   3086|Microbiologically...|This book focuses...|\n",
            "|   2723|Life Reimagined: ...|Are you at a poin...|\n",
            "|   3075|It's St. Patrick'...|This Level 1 rhym...|\n",
            "|   4324|Strands of Sorrow...|A hardened group ...|\n",
            "|    119| Analytic Philosophy|This substantial ...|\n",
            "|   2640|The Modern Coral ...|This volume deals...|\n",
            "|     93|                NULL|                NULL|\n",
            "|   1337|                NULL|                NULL|\n",
            "|    448|Hunting the Rocki...|This 291- page bo...|\n",
            "|   4031|The Slums of Aspe...|Environmentalism ...|\n",
            "|    687|                NULL|                NULL|\n",
            "|   2840|Mobile & Social G...|The book explores...|\n",
            "|   2709|Ready, Freddy! #2...|Everyone's favori...|\n",
            "|   4365|                NULL|                NULL|\n",
            "|   2181|On the Backroad t...|On the Backroad t...|\n",
            "|   4758|Spiritual Astrolo...|The first book to...|\n",
            "|    107|Passing on Bypass...|This book describ...|\n",
            "|   1963|Walking the Walk ...|Leslie Sansone te...|\n",
            "|   1186|                NULL|                NULL|\n",
            "|    433|                NULL|                NULL|\n",
            "|   2276|God Made All of M...|It's easy to conv...|\n",
            "|   NULL|                NULL|                NULL|\n",
            "|   NULL|                NULL|                NULL|\n",
            "|   2441|Beyond Courage: T...|Under the noses o...|\n",
            "|   3549|The Scientist as ...|From Galileo to t...|\n",
            "|   2307|The Life and Love...|Once you have had...|\n",
            "|    690|Fish Tales: Stori...|From the wild sal...|\n",
            "|   3329|Health: The Basic...|This Edition of D...|\n",
            "|   1545|Unprocessed: How ...|Chef AJ has a uni...|\n",
            "+-------+--------------------+--------------------+\n",
            "\n"
          ]
        }
      ]
    },
    {
      "cell_type": "markdown",
      "source": [
        "Drop null values"
      ],
      "metadata": {
        "id": "3MrqtuBb7RoS"
      }
    },
    {
      "cell_type": "code",
      "source": [
        "# Drop NULL values from the DataFrame\n",
        "df_description= df_description.na.drop()"
      ],
      "metadata": {
        "id": "eBCvqEdp7Q9V"
      },
      "execution_count": 4,
      "outputs": []
    },
    {
      "cell_type": "markdown",
      "source": [
        "**Resulting Rows**\n",
        "\n",
        "After dropping all the NULL values, I am left with 122 ROWS of DATA."
      ],
      "metadata": {
        "id": "pE-G1W-oRTtg"
      }
    },
    {
      "cell_type": "code",
      "source": [
        "df_description.count()"
      ],
      "metadata": {
        "colab": {
          "base_uri": "https://localhost:8080/"
        },
        "id": "Nah7XlMnPI-K",
        "outputId": "c726e11a-1865-4271-be44-9d6f82d29ac6"
      },
      "execution_count": 5,
      "outputs": [
        {
          "output_type": "execute_result",
          "data": {
            "text/plain": [
              "122"
            ]
          },
          "metadata": {},
          "execution_count": 5
        }
      ]
    },
    {
      "cell_type": "code",
      "source": [
        "df_description.show(df_description.count())"
      ],
      "metadata": {
        "colab": {
          "base_uri": "https://localhost:8080/"
        },
        "id": "yO1UFOMAlpwc",
        "outputId": "a9013281-80f9-4ca1-c17d-26c259d3c6e9"
      },
      "execution_count": 6,
      "outputs": [
        {
          "output_type": "stream",
          "name": "stdout",
          "text": [
            "+-------+--------------------+--------------------+\n",
            "|book_id|                name|         description|\n",
            "+-------+--------------------+--------------------+\n",
            "|   4833|    The Glass Castle|A tender, moving ...|\n",
            "|    590|Night (The Night ...|Born into a Jewis...|\n",
            "|   4264|Angela's Ashes (F...|Imbued on every p...|\n",
            "|   3361|    Eat, Pray, Love |A celebrated writ...|\n",
            "|   4535|Into Thin Air: A ...|A bank of clouds ...|\n",
            "|    518|Tuesdays with Morrie|Maybe it was a gr...|\n",
            "|   3781|Running with Scis...|The true story of...|\n",
            "|   3190|       Into the Wild|In April 1992 a y...|\n",
            "|   3147|I Know Why the Ca...|Sent by their mot...|\n",
            "|    225|A Child Called \"I...|This book chronic...|\n",
            "|   3035|Chickens, Mules a...|Perhaps if Joe an...|\n",
            "|     99|Persepolis: The S...|Wise, funny, and ...|\n",
            "|   3594|The Autobiography...|Through a life of...|\n",
            "|   4971|The Hiding Place:...|At one time Corri...|\n",
            "|   1381|All Creatures Gre...|Delve into the ma...|\n",
            "|   3099|         Confessions|Augustine's Confe...|\n",
            "|     45|Me Talk Pretty On...|David Sedaris' mo...|\n",
            "|   3269|Marley and Me: Li...|John and Jenny we...|\n",
            "|   2786|          John Adams|The enthralling, ...|\n",
            "|   4484|Man's Search for ...|Psychiatrist Vikt...|\n",
            "|   3042|Maus I: A Survivo...|A story of a Jewi...|\n",
            "|   2865|Wild Swans: Three...|The story of thre...|\n",
            "|   1061|A Long Way Gone: ...|The devastating s...|\n",
            "|    847|    The Last Lecture|Based on the extr...|\n",
            "|     84|Martin Heidegger:...|One of the centur...|\n",
            "|   4222|             Infidel|One of today’s mo...|\n",
            "|   4414|          Bossypants|Before Liz Lemon,...|\n",
            "|    239|Wild: From Lost t...|At twenty-two, Ch...|\n",
            "|   1964|The Diary of a Yo...|Anne Frank's extr...|\n",
            "|   3571|Oral and Maxillof...|This is a compreh...|\n",
            "|   1847|Barron's GRE, 21s...|This edition of B...|\n",
            "|   1334|George Balanchine...|Written by the gi...|\n",
            "|   4885|A Partner in Holi...|\"The lessons in K...|\n",
            "|   1831|Construction Sche...|This text is a co...|\n",
            "|   4868|Literature and It...|Literature is a c...|\n",
            "|   1940|Straight on Till ...|Drawing on her pe...|\n",
            "|   2491|Diagrammatica: Th...|This book provide...|\n",
            "|     15|Book of Common Pr...|Available for the...|\n",
            "|   3196|  A Handful of Stars|This powerful mid...|\n",
            "|     61|Almost Anorexic: ...|Determine if your...|\n",
            "|   3769|Pre-ANDA Litigati...|All pharmaceutica...|\n",
            "|   4540|Creative, Success...|23 very well-know...|\n",
            "|   3389|Organ Transplanta...|Every day, newspa...|\n",
            "|   3034|The Age of Acquie...|A groundbreaking ...|\n",
            "|    822|The Multiples Man...|A guide for paren...|\n",
            "|    993|Oregon High: A Cl...|OREGON HIGH : A C...|\n",
            "|   3575|HTML & XHTML: The...|Put everthing you...|\n",
            "|   4931|Anti Inflammatory...|Kate has put toge...|\n",
            "|   1622|Leopard Geckos (C...|Leopard Geckos ar...|\n",
            "|    540|Botswana & Its Na...|Especially in the...|\n",
            "|   4968|Eat the Rich: A T...|America's favorit...|\n",
            "|    276|Paw Patrol Phonic...|This Step into Re...|\n",
            "|   4208|Historical Maps o...|As a defining mom...|\n",
            "|     91|The Story of the ...|earn the team's o...|\n",
            "|   1618|Love in Provence:...|Love is something...|\n",
            "|   1890|Polymeric Multico...|Designed for a gr...|\n",
            "|   3828|      Fantasy League|12-year-old Charl...|\n",
            "|   2089|Be the Ultimate A...|Release date June...|\n",
            "|   4667|Parables: The Gre...|We all love a goo...|\n",
            "|    766|Microsoft Windows...|IT security can b...|\n",
            "|   2390|Shadowrun: Third ...|The Shadows Have ...|\n",
            "|   3913|The Crime Wave: C...|Though he is cele...|\n",
            "|   1127|The English Count...|There is somethin...|\n",
            "|   1577|ICD-10-CM 2015: T...|This comprehensiv...|\n",
            "|   4772| The Words of Gandhi|Gandhi's ideas ar...|\n",
            "|    322|            Shortcut|The train tracks ...|\n",
            "|   2984|Medical Mycology:...|\"Medical Mycology...|\n",
            "|    888|Reasons Mommy Drinks|Being a new mom i...|\n",
            "|   3744|Manual of High Ri...|The only book of ...|\n",
            "|    207|Oscillations and ...|Bridging lower-di...|\n",
            "|   3836|             DAMAGES|When Donna Sabia ...|\n",
            "|    447|Sermons on Timoth...|Calvin's exposito...|\n",
            "|   2492|Oils and Vinegars...|Oils and vinegars...|\n",
            "|     16|The Handbook of P...|In this authorita...|\n",
            "|   2523|Stage Plays from ...|One-act stage ada...|\n",
            "|   4479|Runner's World Me...|While all runners...|\n",
            "|   1557|Mosaics Inside & ...|This book makes e...|\n",
            "|   2802|She Appears! Enco...|Referred to as th...|\n",
            "|   4216|A Companion to Mu...|A Companion to Mu...|\n",
            "|    408|Indoor Marijuana ...| The classic \"Ind...|\n",
            "|   1565|This Book Is Full...|The novel is a fo...|\n",
            "|   4924|The Secret to Lon...|The Secret to Lon...|\n",
            "|   2292|Rabbi Israel Sala...|Israel Salanter w...|\n",
            "|   4732|The Healthiest Ci...|Between 1850 and ...|\n",
            "|   3018|My Fair Gentleman...|Jack would rather...|\n",
            "|   4459|Stand Up Paddling...|The first and onl...|\n",
            "|   1627|Unnatural Talent:...|The journey from ...|\n",
            "|   1085|Brainstorm: The P...|In this groundbre...|\n",
            "|   2660| E-Commerce Concepts|This book is a mi...|\n",
            "|   3174|Well Enough Alone...|Jennifer Traig do...|\n",
            "|   4923|How to Have a Big...|This book is load...|\n",
            "|      7|Principles of Mar...|This edition of t...|\n",
            "|   2685|Mercy Watson: Som...|Some may find it ...|\n",
            "|   3574|     If You're Lucky|When seventeen-ye...|\n",
            "|    145|Great-Tasting Pot...|The potato must b...|\n",
            "|   1505|Healing Without M...|Today's health-co...|\n",
            "|   1430|Eternity's Sunris...|William Blake, ov...|\n",
            "|   2205|Paraguay (Bradt T...|At the heart of S...|\n",
            "|   1143|Treating Trauma a...|This is the autho...|\n",
            "|    554|A Terrible Reveng...|The genocidal bar...|\n",
            "|   3694|Plastics: America...|Plastics explains...|\n",
            "|   3086|Microbiologically...|This book focuses...|\n",
            "|   2723|Life Reimagined: ...|Are you at a poin...|\n",
            "|   3075|It's St. Patrick'...|This Level 1 rhym...|\n",
            "|   4324|Strands of Sorrow...|A hardened group ...|\n",
            "|    119| Analytic Philosophy|This substantial ...|\n",
            "|   2640|The Modern Coral ...|This volume deals...|\n",
            "|    448|Hunting the Rocki...|This 291- page bo...|\n",
            "|   4031|The Slums of Aspe...|Environmentalism ...|\n",
            "|   2840|Mobile & Social G...|The book explores...|\n",
            "|   2709|Ready, Freddy! #2...|Everyone's favori...|\n",
            "|   2181|On the Backroad t...|On the Backroad t...|\n",
            "|   4758|Spiritual Astrolo...|The first book to...|\n",
            "|    107|Passing on Bypass...|This book describ...|\n",
            "|   1963|Walking the Walk ...|Leslie Sansone te...|\n",
            "|   2276|God Made All of M...|It's easy to conv...|\n",
            "|   2441|Beyond Courage: T...|Under the noses o...|\n",
            "|   3549|The Scientist as ...|From Galileo to t...|\n",
            "|   2307|The Life and Love...|Once you have had...|\n",
            "|    690|Fish Tales: Stori...|From the wild sal...|\n",
            "|   3329|Health: The Basic...|This Edition of D...|\n",
            "|   1545|Unprocessed: How ...|Chef AJ has a uni...|\n",
            "+-------+--------------------+--------------------+\n",
            "\n"
          ]
        }
      ]
    },
    {
      "cell_type": "markdown",
      "source": [
        "**Tokenize Data/Remove stopwords&punctuation**"
      ],
      "metadata": {
        "id": "ylI-_Xq8C07r"
      }
    },
    {
      "cell_type": "code",
      "source": [
        "from pyspark.ml.feature import HashingTF, IDF, RegexTokenizer, StopWordsRemover\n",
        "\n",
        "from pyspark.ml.clustering import KMeans\n",
        "from pyspark.ml import Pipeline\n",
        "from pyspark.sql.functions import col, udf\n",
        "import seaborn as sns\n",
        "from matplotlib import pyplot as plt\n",
        "from pyspark.sql.types import ArrayType, StringType\n",
        "import string\n",
        "\n",
        "\n",
        "\n",
        "\n",
        "# Tokenize the text and remove white spaces\n",
        "regexTokenizer = RegexTokenizer(inputCol=\"description\", outputCol=\"words\", pattern=\"\\s+\")\n",
        "\n",
        "words = regexTokenizer.transform(df_description)\n",
        "\n",
        "\n",
        "# Remove spaces and punctuation\n",
        "remove_spaces_udf = udf(lambda tokens: [token.replace(\" \", \"\").translate(str.maketrans(\"\", \"\", string.punctuation)) for token in tokens], ArrayType(StringType()))\n",
        "\n",
        "words = words.withColumn(\"words\", remove_spaces_udf(col(\"words\")))\n",
        "\n",
        "# Remove stop words\n",
        "stopwords_remover = StopWordsRemover(inputCol=\"words\", outputCol=\"filtered_words\")\n",
        "words = stopwords_remover.transform(words)\n",
        "\n",
        "# Result\n",
        "words.select(\"book_id\", \"filtered_words\").show(truncate=False)\n"
      ],
      "metadata": {
        "id": "6E5xne4ICz-g",
        "colab": {
          "base_uri": "https://localhost:8080/"
        },
        "outputId": "3bbb35e3-26d4-4e56-ce98-2fbbdc166985"
      },
      "execution_count": 7,
      "outputs": [
        {
          "output_type": "stream",
          "name": "stdout",
          "text": [
            "+-------+----------------------------------------------------------------------------------------------------------------------------------------------------------------------------------------------------------------------------------------------------------------------------------------------------------------------------------------------------------------------------------------------------------------------------------------------------------------------------------------------------------------------------------------------------------------------------------------------------------------------------------------------------------------------------------------------------------------------------------------------------------------------------------------------------------------------------------------------------------------------------------------------------------------------------------------------------------------------------------------------------------------------------------------------------------------------------------------------------------------------------------------------------------------------------------------------------------------------------------------------------------------------------------------------------------------------------------------------------------------------------------------------------------------------------------------------------------------------------------------------------------------------------------------+\n",
            "|book_id|filtered_words                                                                                                                                                                                                                                                                                                                                                                                                                                                                                                                                                                                                                                                                                                                                                                                                                                                                                                                                                                                                                                                                                                                                                                                                                                                                                                                                                                                                                                                                                                                          |\n",
            "+-------+----------------------------------------------------------------------------------------------------------------------------------------------------------------------------------------------------------------------------------------------------------------------------------------------------------------------------------------------------------------------------------------------------------------------------------------------------------------------------------------------------------------------------------------------------------------------------------------------------------------------------------------------------------------------------------------------------------------------------------------------------------------------------------------------------------------------------------------------------------------------------------------------------------------------------------------------------------------------------------------------------------------------------------------------------------------------------------------------------------------------------------------------------------------------------------------------------------------------------------------------------------------------------------------------------------------------------------------------------------------------------------------------------------------------------------------------------------------------------------------------------------------------------------------+\n",
            "|4833   |[tender, moving, tale, unconditional, love, family, despite, profound, flaws, gave, author, fiery, determination, carve, successful, life, terms, jeannette, walls, grew, parents, whose, ideals, stubborn, nonconformity, curse, salvation, rex, rose, mary, walls, four, children, beginning, lived, like, nomads, moving, among, southwest, desert, towns, camping, mountains, rex, charismatic, brilliant, man, sober, captured, childrens, imagination, teaching, physics, geology, embrace, life, fearlessly, rose, mary, painted, wrote, couldnt, stand, responsibility, providing, family, called, excitement, addict, cooking, meal, consumed, fifteen, minutes, appeal, make, painting, might, last, forever, later, money, ran, romance, wandering, life, faded, walls, retreated, dismal, west, virginia, mining, town, , family, , rex, walls, done, everything, escape, drank, stole, grocery, money, disappeared, days, dysfunction, family, escalated, jeannette, brother, sisters, fend, supporting, one, another, weathered, parents, betrayals, finally, found, resources, leave, home, astonishing, jeannette, walls, guts, tenacity, intelligence, get, describes, parents, deep, affection, generosity, story, triumph, odds, also, tender, moving, tale, unconditional, love, family, despite, profound, flaws, gave, fiery, determination, carve, successful, life, terms, two, decades, jeannette, walls, hid, roots, tells, story]                                                                            |\n",
            "|590    |[born, jewish, ghetto, hungary, child, elie, wiesel, sent, nazi, concentration, camps, auschwitz, buchenwald, account, atrocity, everincreasing, horrors, endured, loss, family, struggle, survive, world, stripped, humanity, dignity, faith, describing, simple, terms, tragic, murder, people, survivors, perspective, night, among, personal, intimate, poignant, accounts, holocaust, compelling, consideration, darkest, side, human, nature, enduring, power, hope, remains, one, important, works, twentieth, century]                                                                                                                                                                                                                                                                                                                                                                                                                                                                                                                                                                                                                                                                                                                                                                                                                                                                                                                                                                                                          |\n",
            "|4264   |[imbued, every, page, frank, mccourts, astounding, humor, compassion, glorious, book, bears, marks, classic, look, back, childhood, wonder, managed, survive, course, miserable, childhood, happy, childhood, hardly, worth, worse, ordinary, miserable, childhood, miserable, irish, childhood, worse, yet, miserable, irish, catholic, childhood, begins, pulitzer, prize, winning, memoir, frank, mccourt, born, depressionera, brooklyn, recent, irish, immigrants, raised, slums, limerick, ireland, franks, mother, angela, money, feed, children, since, franks, father, malachy, rarely, works, drinks, wages, yet, malachy, exasperating, irresponsible, beguiling, nurture, frank, appetite, one, thing, provide, story, frank, lives, fathers, tales, cuchulain, saved, ireland, angel, seventh, step, brings, mother, babies, perhaps, story, accounts, franks, survival, wearing, rags, diapers, begging, pigs, head, christmas, dinner, gathering, coal, roadside, light, fire, frank, endures, poverty, nearstarvation, casual, cruelty, relatives, neighborsyet, lives, tell, tale, eloquence, exuberance, remarkable, forgiveness, angelas, ashes, imbued, every, page, frank, mccourts, astounding, humor, compassion, glorious, book, bears, marks, classic]                                                                                                                                                                                                                                                         |\n",
            "|3361   |[celebrated, writers, irresistible, candid, eloquent, account, pursuit, worldly, pleasure, spiritual, devotion, really, wanted, life, around, time, elizabeth, gilbert, turned, thirty, went, earlyonslaught, midlife, crisis, everything, educated, ambitious, american, woman, supposed, want—a, husband, house, successful, career, instead, feeling, happy, fulfilled, consumed, panic, grief, confusion, went, divorce, crushing, depression, another, failed, love, eradication, everything, ever, thought, supposed, recover, gilbert, took, radical, step, order, give, time, space, find, really, really, wanted, got, rid, belongings, quit, job, undertook, yearlong, journey, around, world—all, alone, eat, pray, love, absorbing, chronicle, year, aim, visit, three, places, examine, one, aspect, nature, set, backdrop, culture, traditionally, done, one, thing, well, rome, studied, art, pleasure, learning, speak, italian, gaining, twentythree, happiest, pounds, life, india, art, devotion, help, native, guru, surprisingly, wise, cowboy, texas, embarked, four, uninterrupted, months, spiritual, exploration, bali, studied, art, balance, worldly, enjoyment, divine, transcendence, became, pupil, elderly, medicine, man, also, fell, love, best, way—unexpectedly, intensely, articulate, moving, memoir, selfdiscovery, eat, pray, love, happen, claim, responsibility, contentment, stop, trying, live, imitation, society’s, ideals, certain, touch, anyone, ever, woken, unrelenting, need, change]|\n",
            "|4535   |[bank, clouds, assembling, notsodistant, horizon, journalistmountaineer, jon, krakauer, standing, summit, mt, everest, saw, nothing, suggested, murderous, storm, bearing, wrong, storm, claimed, five, lives, left, countless, moreincluding, krakauersin, guiltridden, disarray, also, provide, impetus, thin, air, krakauers, epic, account, may, 1996, disaster]                                                                                                                                                                                                                                                                                                                                                                                                                                                                                                                                                                                                                                                                                                                                                                                                                                                                                                                                                                                                                                                                                                                                                                    |\n",
            "|518    |[maybe, grandparent, teacher, colleague, someone, older, patient, wise, understood, young, searching, gave, sound, advice, help, make, way, mitch, albom, person, morrie, schwartz, college, professor, nearly, twenty, years, ago, maybe, like, mitch, lost, track, mentor, made, way, insights, faded, wouldnt, like, see, person, ask, bigger, questions, still, haunt, mitch, albom, second, chance, rediscovered, morrie, last, months, older, mans, life, knowing, dying, als, , motor, neurone, disease, , mitch, visited, morrie, study, every, tuesday, used, back, college, rekindled, relationship, turned, one, final, class, lessons, live]                                                                                                                                                                                                                                                                                                                                                                                                                                                                                                                                                                                                                                                                                                                                                                                                                                                                                |\n",
            "|3781   |[true, story, outlaw, childhood, rules, unheard, christmas, tree, stayed, year, round, valium, consumed, like, candy, things, got, dull, electroshocktherapy, machine, provide, entertainment, running, scissors, true, story, boy, whose, mother, poet, delusions, anne, sexton, gave, away, raised, unorthodox, psychiatrist, bore, striking, resemblance, santa, claus, age, twelve, burroughs, found, amidst, victorian, squalor, living, doctor’s, bizarre, family, befriending, pedophile, resided, backyard, shed, story, outlaw, childhood, rules, unheard, christmas, tree, stayed, year, round, valium, consumed, like, candy, things, got, dull, electroshock, therapy, machine, provide, entertainment, funny, harrowing, bestselling, account, ordinary, boy’s, survival, extraordinary, circumstances]                                                                                                                                                                                                                                                                                                                                                                                                                                                                                                                                                                                                                                                                                                                    |\n",
            "|3190   |[april, 1992, young, man, welltodo, family, hitchhiked, alaska, walked, alone, wilderness, north, mt, mckinley, name, christopher, johnson, mccandless, given, 25000, savings, charity, abandoned, car, possessions, burned, cash, wallet, invented, new, life, four, months, later, party, moose, hunters, found, decomposed, body, mccandless, came, die, unforgettable, story, wild, immediately, graduating, college, 1991, mccandless, roamed, west, southwest, vision, quest, like, made, heroes, jack, london, john, muir, mojave, desert, abandoned, car, stripped, license, plates, burned, cash, give, new, name, alexander, supertramp, unencumbered, money, belongings, free, wallow, raw, unfiltered, experiences, nature, presented, craving, blank, spot, map, mccandless, simply, threw, away, maps, leaving, behind, desperate, parents, sister, vanished, wild]                                                                                                                                                                                                                                                                                                                                                                                                                                                                                                                                                                                                                                                       |\n",
            "|3147   |[sent, mother, live, devout, selfsufficient, grandmother, small, southern, town, maya, brother, bailey, endure, ache, abandonment, prejudice, local, powhitetrash, eight, years, old, back, mother’s, side, st, louis, maya, attacked, man, many, times, age—and, live, consequences, lifetime, years, later, san, francisco, maya, learns, love, kindness, others, strong, spirit, ideas, great, authors, met, fell, love, william, shakespeare, allow, free, instead, imprisoned, poetic, powerful, know, caged, bird, sings, touch, hearts, change, minds, long, people, read]                                                                                                                                                                                                                                                                                                                                                                                                                                                                                                                                                                                                                                                                                                                                                                                                                                                                                                                                                       |\n",
            "|225    |[book, chronicles, unforgettable, account, one, severe, child, abuse, cases, california, history, story, dave, pelzer, brutally, beaten, starved, emotionally, unstable, alcoholic, mother, mother, played, tortuous, unpredictable, gamesgames, left, nearly, dead, learn, play, mothers, games, order, survive, longer, considered, son, slave, longer, boy, daves, bed, old, army, cot, basement, clothes, torn, raunchy, mother, allowed, luxury, food, nothing, spoiled, scraps, even, dogs, refused, eat, outside, world, knew, nothing, living, nightmare, nothing, one, turn, dreams, kept, alivedreams, someone, taking, care, loving, calling, son]                                                                                                                                                                                                                                                                                                                                                                                                                                                                                                                                                                                                                                                                                                                                                                                                                                                                           |\n",
            "|3035   |[perhaps, joe, vicky, known, relocating, tiny, village, tucked, alpujarra, mountains, really, like, might, hesitated, idea, culture, shock, store, idea, become, reluctant, chicken, farmers, dangerous, cockerel, spain, idea, befriended, 85, year, old, spliffsmoking, sexkitten, rescued, mule, life, never, dull, embark, five, year, plan, end, five, years, must, decide, stay, return, relative, sanity, england, vicky, joes, story, packed, irreverent, humour, animals, eccentric, characters, sunshine, chickens, mules, two, old, fools, awarded, harpercollins, authonomy, gold, star, november, 2008, laughoutloud, funnyespecially, spanish, women, heckling, eggs, englishhilariousengagingthe, interspersion, recipes, charming, harpercollins, wonderful, tears, eyesthe, humour, warmth, joyi, love, bookthe, two, sitting, sofa, dusty, street, listening, spanish, tunes, crackly, radio, sight, must, aleck, loker, author, 18, books, including, ancient, explorers, america, love, relaxed, writing, style, easy, humour, great, stuff, denny, gillan, author, love, tomorrow, victoria, twead, natural, storyteller, knack, charm, wit, robin, bayley, author, mango, orchard]                                                                                                                                                                                                                                                                                                                                |\n",
            "|99     |[wise, funny, heartbreaking, persepolis, marjane, satrapi’s, memoir, growing, iran, islamic, revolution, powerful, blackandwhite, comic, strip, images, satrapi, tells, story, life, tehran, ages, six, fourteen, years, saw, overthrow, shah’s, regime, triumph, islamic, revolution, devastating, effects, war, iraq, intelligent, outspoken, child, committed, marxists, greatgranddaughter, one, iran’s, last, emperors, marjane, bears, witness, childhood, uniquely, entwined, history, country, persepolis, paints, unforgettable, portrait, daily, life, iran, bewildering, contradictions, home, life, public, life, marjane’s, child’seye, view, dethroned, emperors, statesanctioned, whippings, heroes, revolution, allows, us, learn, history, fascinating, country, extraordinary, family, intensely, personal, profoundly, political, wholly, original, persepolis, story, growing, reminder, human, cost, war, political, repression, shows, carry, laughter, tears, face, absurdity, finally, introduces, us, irresistible, little, girl, help, fall, love]                                                                                                                                                                                                                                                                                                                                                                                                                                                            |\n",
            "|3594   |[life, passion, struggle, malcolm, x, became, one, influential, figures, 20th, century, riveting, account, tells, journey, prison, cell, mecca, describing, transition, hoodlum, muslim, minister, man, called, angriest, black, man, america, relates, conversion, true, islam, helped, confront, rage, recognize, brotherhood, mankind, established, classic, modern, america, autobiography, malcolm, x, hailed, new, york, times, extraordinary, brilliant, painful, important, book, still, extraordinary, still, important, electrifying, story, transformed, malcom, xs, life, legacy, strength, words, power, ideas, continue, resonate, generation, first, appeared]                                                                                                                                                                                                                                                                                                                                                                                                                                                                                                                                                                                                                                                                                                                                                                                                                                                           |\n",
            "|4971   |[one, time, corrie, ten, boom, laughed, idea, ever, story, tell, first, fifty, years, life, nothing, ordinary, ever, happened, oldmaid, watchmaker, living, contentedly, spinster, sister, elderly, father, tiny, dutch, house, shop, uneventful, days, regulated, watches, revolved, around, abiding, love, one, another, however, nazi, invasion, occupation, holland, story, ensue, corrie, ten, boom, family, became, leaders, dutch, underground, hiding, jewish, people, home, specially, built, room, aiding, escape, nazis, help, corrie, found, death, concentration, camp, hiding, place, story]                                                                                                                                                                                                                                                                                                                                                                                                                                                                                                                                                                                                                                                                                                                                                                                                                                                                                                                              |\n",
            "|1381   |[delve, magical, unforgettable, world, james, herriot, worlds, beloved, veterinarian, menagerie, heartwarming, funny, tragic, animal, patients, forty, years, generations, readers, thrilled, herriots, marvelous, tales, deep, love, life, extraordinary, storytelling, abilities, decades, herriot, roamed, remote, beautiful, yorkshire, dales, treating, every, patient, came, way, smallest, largest, observing, animals, humans, alike, keen, loving, eye, creatures, great, small, meet, young, herriot, takes, calling, discovers, realities, veterinary, practice, rural, yorkshire, different, sterile, setting, veterinary, school, visits, heartwrenchingly, difficult, one, old, man, village, whose, ill, dog, friend, companion, lighthearted, fun, herriots, periodic, visits, overfed, pampered, pekinese, tricki, woo, throws, parties, stationery, yet, others, inspirational, enlightening, herriots, recollections, poor, farmers, scrape, meager, earnings, together, able, get, proper, care, working, animals, seeing, patients, depths, winter, remotest, homesteads, dealing, uncooperative, owners, critically, ill, animals, herriot, discovers, wondrous, variety, neverending, challenges, veterinary, practice, humor, compassion, love, animal, world, shine, forth]                                                                                                                                                                                                                                    |\n",
            "|3099   |[augustines, confessions, one, influential, innovative, works, latin, literature, written, authors, early, forties, last, years, fourth, century, ad, first, years, bishop, reflect, life, activity, remembering, interpreting, life, books, iiv, concerned, infancy, learning, talk, schooldays, sexual, desire, adolescent, rebellion, intense, friendships, intellectual, exploration, augustine, evolves, analyses, past, resources, reading, shaped, mind, virgil, cicero, neoplatonism, bible, volume, aims, usable, students, new, augustine, alerts, readers, verbal, echoes, allusions, augustines, brilliant, varied, latin, explains, theological, philosophical, questioning, god, human, edition, intended, use, students, scholars, latin, literature, theology, church, history]                                                                                                                                                                                                                                                                                                                                                                                                                                                                                                                                                                                                                                                                                                                                         |\n",
            "|45     |[david, sedaris, move, paris, new, york, inspired, hilarious, pieces, including, title, essay, attempts, learn, french, sadistic, teacher, declares, every, day, spent, like, caesarean, section, family, another, inspiration, cant, kill, rooster, portrait, brother, talks, incessant, hiphop, slang, bewildered, father, one, hones, finer, fury, response, modern, annoyances, restaurant, meals, presented, ludicrous, towers, food, cashiers, sixinch, fingernails]                                                                                                                                                                                                                                                                                                                                                                                                                                                                                                                                                                                                                                                                                                                                                                                                                                                                                                                                                                                                                                                              |\n",
            "|3269   |[john, jenny, beginning, life, together, young, love, perfect, little, house, care, world, brought, home, marley, wiggly, yellow, furball, puppy, life, never, marley, quickly, grew, barreling, ninetysevenpound, streamroller, labrador, retriever, dog, like, crashed, screen, doors, gouged, drywall, flung, drool, guests, stole, womens, undergarments, ate, nearly, everything, get, mouth, around, including, couches, fine, jewelry, obedience, school, good—marley, expelled, neither, tranquilizers, veterinarian, prescribed, admonishment, dont, hesitate, use, yet, marleys, heart, pure, joyfully, refused, limits, behavior, love, loyalty, boundless, marley, shared, couples, joy, first, pregnancy, heartbreak, miscarriage, babies, finally, arrived, screams, seventeenyearold, stabbing, victim, pierced, night, marley, shut, public, beach, managed, land, role, featurelength, movie, always, winning, hearts, made, mess, things, remained, steadfast, model, devotion, even, family, wits, end, unconditional, love, learn, comes, many, forms]                                                                                                                                                                                                                                                                                                                                                                                                                                                              |\n",
            "|2786   |[enthralling, often, surprising, story, john, adams, one, important, fascinating, americans, ever, lived, powerful, epic, biography, david, mccullough, unfolds, adventurous, lifejourney, john, adams, brilliant, fiercely, independent, often, irascible, always, honest, yankee, patriot, , colossus, independence, thomas, jefferson, called, , spared, nothing, zeal, american, revolution, rose, become, second, president, united, states, saved, country, blundering, unnecessary, war, learned, beyond, regarded, senses, whose, marriage, wise, valiant, abigail, adams, one, moving, love, stories, american, history]                                                                                                                                                                                                                                                                                                                                                                                                                                                                                                                                                                                                                                                                                                                                                                                                                                                                                                       |\n",
            "|4484   |[psychiatrist, viktor, frankls, memoir, riveted, generations, readers, descriptions, life, nazi, death, camps, lessons, spiritual, survival, 1942, 1945, frankl, labored, four, different, camps, including, auschwitz, parents, brother, pregnant, wife, perished, based, experience, experiences, others, treated, later, practice, frankl, argues, avoid, suffering, choose, cope, find, meaning, move, forward, renewed, purpose, frankls, theoryknown, logotherapy, greek, word, logos, meaningholds, primary, drive, life, pleasure, freud, maintained, discovery, pursuit, personally, find, meaningful, time, frankls, death, 1997, mans, search, meaning, sold, 10, million, copies, twentyfour, languages, 1991, reader, survey, library, congress, asked, readers, name, book, made, difference, life, found, mans, search, meaning, among, ten, influential, books, america]                                                                                                                                                                                                                                                                                                                                                                                                                                                                                                                                                                                                                                                |\n",
            "+-------+----------------------------------------------------------------------------------------------------------------------------------------------------------------------------------------------------------------------------------------------------------------------------------------------------------------------------------------------------------------------------------------------------------------------------------------------------------------------------------------------------------------------------------------------------------------------------------------------------------------------------------------------------------------------------------------------------------------------------------------------------------------------------------------------------------------------------------------------------------------------------------------------------------------------------------------------------------------------------------------------------------------------------------------------------------------------------------------------------------------------------------------------------------------------------------------------------------------------------------------------------------------------------------------------------------------------------------------------------------------------------------------------------------------------------------------------------------------------------------------------------------------------------------------+\n",
            "only showing top 20 rows\n",
            "\n"
          ]
        }
      ]
    },
    {
      "cell_type": "markdown",
      "source": [
        "**Lemmatize**"
      ],
      "metadata": {
        "id": "VeW4WGO8vMO9"
      }
    },
    {
      "cell_type": "code",
      "source": [
        "from pyspark.sql.functions import col, udf\n",
        "from pyspark.sql.types import ArrayType, StringType\n",
        "import spacy\n",
        "\n",
        "\n",
        "nlp = spacy.load(\"en_core_web_sm\")\n",
        "\n",
        "def lemmatize_tokens(tokens):\n",
        "    return [token.lemma_ for token in nlp(\" \".join(tokens))]\n",
        "\n",
        "lemmatize_udf = udf(lemmatize_tokens, ArrayType(StringType()))\n",
        "words = words.withColumn(\"lemmatized_words\", lemmatize_udf(col(\"filtered_words\")))\n"
      ],
      "metadata": {
        "id": "-XM8MtTjt2IG"
      },
      "execution_count": 8,
      "outputs": []
    },
    {
      "cell_type": "code",
      "source": [
        "words.select(\"book_id\", \"lemmatized_words\").show(10, truncate=False)\n"
      ],
      "metadata": {
        "colab": {
          "base_uri": "https://localhost:8080/"
        },
        "id": "KMjhrFOn2YrV",
        "outputId": "0b641488-8226-416c-eae5-5bc9e2336b7d"
      },
      "execution_count": 9,
      "outputs": [
        {
          "output_type": "stream",
          "name": "stdout",
          "text": [
            "+-------+------------------------------------------------------------------------------------------------------------------------------------------------------------------------------------------------------------------------------------------------------------------------------------------------------------------------------------------------------------------------------------------------------------------------------------------------------------------------------------------------------------------------------------------------------------------------------------------------------------------------------------------------------------------------------------------------------------------------------------------------------------------------------------------------------------------------------------------------------------------------------------------------------------------------------------------------------------------------------------------------------------------------------------------------------------------------------------------------------------------------------------------------------------------------------------------------------------------------------------------------------------------------------------------------------------------------------------------------------------------------------------------------------------------------------------------------------------------------------------------------+\n",
            "|book_id|lemmatized_words                                                                                                                                                                                                                                                                                                                                                                                                                                                                                                                                                                                                                                                                                                                                                                                                                                                                                                                                                                                                                                                                                                                                                                                                                                                                                                                                                                                                                                                                                |\n",
            "+-------+------------------------------------------------------------------------------------------------------------------------------------------------------------------------------------------------------------------------------------------------------------------------------------------------------------------------------------------------------------------------------------------------------------------------------------------------------------------------------------------------------------------------------------------------------------------------------------------------------------------------------------------------------------------------------------------------------------------------------------------------------------------------------------------------------------------------------------------------------------------------------------------------------------------------------------------------------------------------------------------------------------------------------------------------------------------------------------------------------------------------------------------------------------------------------------------------------------------------------------------------------------------------------------------------------------------------------------------------------------------------------------------------------------------------------------------------------------------------------------------------+\n",
            "|4833   |[tender, move, tale, unconditional, love, family, despite, profound, flaw, give, author, fiery, determination, carve, successful, life, term, jeannette, wall, grow, parent, whose, ideal, stubborn, nonconformity, curse, salvation, rex, rise, mary, wall, four, child, begin, live, like, nomad, move, among, southwest, desert, town, camp, mountain, rex, charismatic, brilliant, man, sober, capture, children, imagination, teaching, physics, geology, embrace, life, fearlessly, rise, mary, paint, write, could, not, stand, responsibility, provide, family, call, excitement, addict, cooking, meal, consume, fifteen, minute, appeal, make, painting, might, last, forever, later, money, run, romance, wander, life, fade, wall, retreat, dismal, west, virginia, mining, town,  , family,  , rex, wall, do, everything, escape, drank, stole, grocery, money, disappear, day, dysfunction, family, escalate, jeannette, brother, sister, fend, support, one, another, weather, parent, betrayal, finally, find, resource, leave, home, astonishing, jeannette, wall, gut, tenacity, intelligence, get, describe, parent, deep, affection, generosity, story, triumph, odd, also, tender, move, tale, unconditional, love, family, despite, profound, flaw, give, fiery, determination, carve, successful, life, term, two, decade, jeannette, wall, hide, root, tell, story]                                                                                                     |\n",
            "|590    |[bear, jewish, ghetto, hungary, child, elie, wiesel, send, nazi, concentration, camp, auschwitz, buchenwald, account, atrocity, everincrease, horror, endure, loss, family, struggle, survive, world, strip, humanity, dignity, faith, describe, simple, term, tragic, murder, people, survivor, perspective, night, among, personal, intimate, poignant, account, holocaust, compelling, consideration, darkest, side, human, nature, endure, power, hope, remain, one, important, work, twentieth, century]                                                                                                                                                                                                                                                                                                                                                                                                                                                                                                                                                                                                                                                                                                                                                                                                                                                                                                                                                                                   |\n",
            "|4264   |[imbue, every, page, frank, mccourt, astounding, humor, compassion, glorious, book, bear, mark, classic, look, back, childhood, wonder, manage, survive, course, miserable, childhood, happy, childhood, hardly, worth, bad, ordinary, miserable, childhood, miserable, irish, childhood, bad, yet, miserable, irish, catholic, childhood, begin, pulitzer, prize, win, memoir, frank, mccourt, bear, depressionera, brooklyn, recent, irish, immigrant, raise, slums, limerick, ireland, franks, mother, angela, money, feed, child, since, franks, father, malachy, rarely, work, drink, wage, yet, malachy, exasperate, irresponsible, beguiling, nurture, frank, appetite, one, thing, provide, story, frank, live, father, tale, cuchulain, save, ireland, angel, seventh, step, bring, mother, baby, perhaps, story, account, frank, survival, wear, rag, diaper, beg, pig, head, christmas, dinner, gather, coal, roadside, light, fire, frank, endures, poverty, nearstarvation, casual, cruelty, relative, neighborsyet, live, tell, tale, eloquence, exuberance, remarkable, forgiveness, angela, ashe, imbue, every, page, frank, mccourt, astounding, humor, compassion, glorious, book, bear, mark, classic]                                                                                                                                                                                                                                                                       |\n",
            "|3361   |[celebrate, writer, irresistible, candid, eloquent, account, pursuit, worldly, pleasure, spiritual, devotion, really, want, life, around, time, elizabeth, gilbert, turn, thirty, go, earlyonslaught, midlife, crisis, everything, educate, ambitious, american, woman, suppose, want, —, a, husband, house, successful, career, instead, feel, happy, fulfil, consume, panic, grief, confusion, go, divorce, crush, depression, another, fail, love, eradication, everything, ever, think, suppose, recover, gilbert, take, radical, step, order, give, time, space, find, really, really, want, get, rid, belonging, quit, job, undertake, yearlong, journey, around, world, —, all, alone, eat, pray, love, absorbing, chronicle, year, aim, visit, three, place, examine, one, aspect, nature, set, backdrop, culture, traditionally, do, one, thing, well, rome, study, art, pleasure, learning, speak, italian, gain, twentythree, happy, pound, life, india, art, devotion, help, native, guru, surprisingly, wise, cowboy, texas, embark, four, uninterrupted, month, spiritual, exploration, bali, study, art, balance, worldly, enjoyment, divine, transcendence, become, pupil, elderly, medicine, man, also, fall, love, good, way, —, unexpectedly, intensely, articulate, move, memoir, selfdiscovery, eat, pray, love, happen, claim, responsibility, contentment, stop, try, live, imitation, society, ’s, ideal, certain, touch, anyone, ever, wake, unrelenting, need, change]|\n",
            "|4535   |[bank, cloud, assemble, notsodistant, horizon, journalistmountaineer, jon, krakauer, standing, summit, mt, everest, see, nothing, suggest, murderous, storm, bear, wrong, storm, claim, five, life, leave, countless, moreinclude, krakauersin, guiltridden, disarray, also, provide, impetus, thin, air, krakauer, epic, account, may, 1996, disaster]                                                                                                                                                                                                                                                                                                                                                                                                                                                                                                                                                                                                                                                                                                                                                                                                                                                                                                                                                                                                                                                                                                                                         |\n",
            "|518    |[maybe, grandparent, teacher, colleague, someone, old, patient, wise, understand, young, searching, give, sound, advice, help, make, way, mitch, albom, person, morrie, schwartz, college, professor, nearly, twenty, year, ago, maybe, like, mitch, lose, track, mentor, make, way, insight, fade, would, not, like, see, person, ask, big, question, still, haunt, mitch, albom, second, chance, rediscover, morrie, last, month, old, man, life, know, die, al,  , motor, neurone, disease,  , mitch, visit, morrie, study, every, tuesday, use, back, college, rekindle, relationship, turn, one, final, class, lesson, live]                                                                                                                                                                                                                                                                                                                                                                                                                                                                                                                                                                                                                                                                                                                                                                                                                                                               |\n",
            "|3781   |[true, story, outlaw, childhood, rule, unheard, christmas, tree, stay, year, round, valium, consume, like, candy, thing, get, dull, electroshocktherapy, machine, provide, entertainment, run, scissor, true, story, boy, whose, mother, poet, delusion, anne, sexton, give, away, raise, unorthodox, psychiatrist, bore, strike, resemblance, santa, claus, age, twelve, burrough, find, amidst, victorian, squalor, living, doctor, ’s, bizarre, family, befriend, pedophile, reside, backyard, shed, story, outlaw, childhood, rule, unheard, christmas, tree, stay, year, round, valium, consume, like, candy, thing, get, dull, electroshock, therapy, machine, provide, entertainment, funny, harrowing, bestselle, account, ordinary, boy, ’s, survival, extraordinary, circumstance]                                                                                                                                                                                                                                                                                                                                                                                                                                                                                                                                                                                                                                                                                                    |\n",
            "|3190   |[april, 1992, young, man, welltodo, family, hitchhiked, alaska, walk, alone, wilderness, north, mt, mckinley, name, christopher, johnson, mccandless, give, 25000, saving, charity, abandon, car, possession, burn, cash, wallet, invent, new, life, four, month, later, party, moose, hunter, find, decomposed, body, mccandless, come, die, unforgettable, story, wild, immediately, graduate, college, 1991, mccandless, roam, west, southwest, vision, quest, like, make, hero, jack, london, john, muir, mojave, desert, abandon, car, strip, license, plate, burn, cash, give, new, name, alexander, supertramp, unencumbered, money, belonging, free, wallow, raw, unfiltered, experience, nature, present, crave, blank, spot, map, mccandless, simply, throw, away, map, leave, behind, desperate, parent, sister, vanish, wild]                                                                                                                                                                                                                                                                                                                                                                                                                                                                                                                                                                                                                                                       |\n",
            "|3147   |[send, mother, live, devout, selfsufficient, grandmother, small, southern, town, maya, brother, bailey, endure, ache, abandonment, prejudice, local, powhitetrash, eight, year, old, back, mother, ’s, side, st, louis, maya, attack, man, many, time, age, —, and, live, consequence, lifetime, year, later, san, francisco, maya, learn, love, kindness, other, strong, spirit, idea, great, author, meet, fell, love, william, shakespeare, allow, free, instead, imprison, poetic, powerful, know, cage, bird, sing, touch, heart, change, mind, long, people, read]                                                                                                                                                                                                                                                                                                                                                                                                                                                                                                                                                                                                                                                                                                                                                                                                                                                                                                                        |\n",
            "|225    |[book, chronicle, unforgettable, account, one, severe, child, abuse, case, california, history, story, dave, pelzer, brutally, beat, starve, emotionally, unstable, alcoholic, mother, mother, play, tortuous, unpredictable, gamesgame, leave, nearly, dead, learn, play, mother, game, order, survive, long, consider, son, slave, long, boy, dave, bed, old, army, cot, basement, clothe, tear, raunchy, mother, allow, luxury, food, nothing, spoil, scrap, even, dog, refuse, eat, outside, world, know, nothing, live, nightmare, nothing, one, turn, dream, keep, alivedream, someone, take, care, love, call, son]                                                                                                                                                                                                                                                                                                                                                                                                                                                                                                                                                                                                                                                                                                                                                                                                                                                                      |\n",
            "+-------+------------------------------------------------------------------------------------------------------------------------------------------------------------------------------------------------------------------------------------------------------------------------------------------------------------------------------------------------------------------------------------------------------------------------------------------------------------------------------------------------------------------------------------------------------------------------------------------------------------------------------------------------------------------------------------------------------------------------------------------------------------------------------------------------------------------------------------------------------------------------------------------------------------------------------------------------------------------------------------------------------------------------------------------------------------------------------------------------------------------------------------------------------------------------------------------------------------------------------------------------------------------------------------------------------------------------------------------------------------------------------------------------------------------------------------------------------------------------------------------------+\n",
            "only showing top 10 rows\n",
            "\n"
          ]
        }
      ]
    },
    {
      "cell_type": "markdown",
      "source": [
        "**Vectorize Tokenized Data**\n",
        "\n",
        "\n",
        "In Spark ML, TF-IDF is separate into two parts: TF (+hashing) and IDF. TF: HashingTF is a Transformer which takes sets of terms and converts those sets into fixed-length feature vectors.\n"
      ],
      "metadata": {
        "id": "4WXvYXvoDH7K"
      }
    },
    {
      "cell_type": "code",
      "source": [
        "from pyspark.ml.feature import HashingTF, IDF\n",
        "\n",
        "# Apply TF-IDF\n",
        "hashingTF = HashingTF(inputCol=\"lemmatized_words\", outputCol=\"rawFeatures\", numFeatures=20)\n",
        "\n",
        "\n",
        "idf = IDF(inputCol=\"rawFeatures\", outputCol=\"features\")\n",
        "idf_model = idf.fit(hashingTF.transform(words))\n",
        "idf_data = idf_model.transform(hashingTF.transform(words))\n",
        "\n",
        "\n"
      ],
      "metadata": {
        "id": "nE2Kl6_1DC7X"
      },
      "execution_count": 10,
      "outputs": []
    },
    {
      "cell_type": "markdown",
      "source": [
        "**Reduce Dimensions**"
      ],
      "metadata": {
        "id": "3GO8dhuu8o6B"
      }
    },
    {
      "cell_type": "markdown",
      "source": [
        "**Training Data**\n",
        "\n",
        "Cleaned Data goes upto 122 rows.\n",
        "For training, I picked upto 121 rows to represent the first 121 books as the book_id is not in any order."
      ],
      "metadata": {
        "id": "b_fuLMB6GUYX"
      }
    },
    {
      "cell_type": "code",
      "source": [
        "train_data = idf_data.limit(121)\n",
        "\n"
      ],
      "metadata": {
        "id": "PJSNqzP_OK4A"
      },
      "execution_count": 11,
      "outputs": []
    },
    {
      "cell_type": "code",
      "source": [
        "train_data.count()"
      ],
      "metadata": {
        "colab": {
          "base_uri": "https://localhost:8080/"
        },
        "id": "AoK0fxBdPSfR",
        "outputId": "a8095ab8-02b5-4148-e2e1-a982bafcc219"
      },
      "execution_count": 12,
      "outputs": [
        {
          "output_type": "execute_result",
          "data": {
            "text/plain": [
              "121"
            ]
          },
          "metadata": {},
          "execution_count": 12
        }
      ]
    },
    {
      "cell_type": "markdown",
      "source": [
        "**K-Means Algorithm - 10 clusters**\n",
        "\n",
        "Partition based clustering was used as we had provided with the number of clusters required in the question.\n",
        "KMeans method was used as that's the only method I was familiar with."
      ],
      "metadata": {
        "id": "BelahLWBEG-_"
      }
    },
    {
      "cell_type": "code",
      "source": [
        "#\n",
        "kmeans = KMeans(k=10, seed=1, featuresCol=\"features\", predictionCol=\"cluster\", maxIter=50)\n",
        "\n",
        "model = kmeans.fit(train_data)"
      ],
      "metadata": {
        "id": "5MwZ7eXnEDV5"
      },
      "execution_count": 13,
      "outputs": []
    },
    {
      "cell_type": "code",
      "source": [
        "terms = []\n",
        "for i in range(3):\n",
        "    cluster_center = model.clusterCenters()[i]\n",
        "    cluster_terms = [f\"term_{j}\" for j in sorted(range(len(cluster_center)), key=lambda x: cluster_center[x], reverse=True)]\n",
        "\n",
        "    terms.append(cluster_terms)\n",
        "    print(f\"Cluster {i + 1} Terms : {cluster_terms}\")"
      ],
      "metadata": {
        "colab": {
          "base_uri": "https://localhost:8080/"
        },
        "id": "xUE2dm7RwLYU",
        "outputId": "c5d678f1-b2d3-4a3f-a80c-eae5cf87830c"
      },
      "execution_count": 14,
      "outputs": [
        {
          "output_type": "stream",
          "name": "stdout",
          "text": [
            "Cluster 1 Terms : ['term_11', 'term_16', 'term_2', 'term_12', 'term_14', 'term_9', 'term_18', 'term_3', 'term_0', 'term_7', 'term_6', 'term_13', 'term_5', 'term_17', 'term_10', 'term_4', 'term_15', 'term_19', 'term_1', 'term_8']\n",
            "Cluster 2 Terms : ['term_16', 'term_7', 'term_18', 'term_0', 'term_3', 'term_14', 'term_5', 'term_11', 'term_15', 'term_6', 'term_13', 'term_12', 'term_2', 'term_9', 'term_1', 'term_8', 'term_10', 'term_4', 'term_17', 'term_19']\n",
            "Cluster 3 Terms : ['term_11', 'term_4', 'term_12', 'term_17', 'term_6', 'term_1', 'term_19', 'term_10', 'term_2', 'term_5', 'term_18', 'term_15', 'term_8', 'term_16', 'term_3', 'term_9', 'term_7', 'term_0', 'term_14', 'term_13']\n"
          ]
        }
      ]
    },
    {
      "cell_type": "markdown",
      "source": [
        "**Please Note**\n",
        "\n",
        "The question asks for the 136th book. However, for my case, after dropping all the NULL values I have 122 books left from original 144 rows. I used 121 of them for Training and the Last one(122) for Testing.\n",
        "\n",
        "Since there is no order for *book_id*, I selected the last item which is the 122nd book.\n",
        "Alternative approach is to look at the 122nd's *book_id* and use that."
      ],
      "metadata": {
        "id": "zklkbtJTDDXf"
      }
    },
    {
      "cell_type": "code",
      "source": [
        "row_122 = idf_data.limit(122).collect()[-1]\n",
        "row_122"
      ],
      "metadata": {
        "colab": {
          "base_uri": "https://localhost:8080/"
        },
        "id": "odfp9ZGUfQJO",
        "outputId": "29c06931-6449-4588-8bc8-60d5525708e7"
      },
      "execution_count": 15,
      "outputs": [
        {
          "output_type": "execute_result",
          "data": {
            "text/plain": [
              "Row(book_id=1545, name='Unprocessed: How to achieve vibrant health and your ideal weight.', description='Chef AJ has a unique ability to create healthy foods that taste great. Whether you want to lower your cholesterol, prevent or reverse many common lifestyle diseases, lose weight or just look and feel great, Chef AJ can show you how to incorporate more fresh fruits and vegetables in your diet in ways that are easy, delicious and fun.', words=['chef', 'aj', 'has', 'a', 'unique', 'ability', 'to', 'create', 'healthy', 'foods', 'that', 'taste', 'great', 'whether', 'you', 'want', 'to', 'lower', 'your', 'cholesterol', 'prevent', 'or', 'reverse', 'many', 'common', 'lifestyle', 'diseases', 'lose', 'weight', 'or', 'just', 'look', 'and', 'feel', 'great', 'chef', 'aj', 'can', 'show', 'you', 'how', 'to', 'incorporate', 'more', 'fresh', 'fruits', 'and', 'vegetables', 'in', 'your', 'diet', 'in', 'ways', 'that', 'are', 'easy', 'delicious', 'and', 'fun'], filtered_words=['chef', 'aj', 'unique', 'ability', 'create', 'healthy', 'foods', 'taste', 'great', 'whether', 'want', 'lower', 'cholesterol', 'prevent', 'reverse', 'many', 'common', 'lifestyle', 'diseases', 'lose', 'weight', 'look', 'feel', 'great', 'chef', 'aj', 'show', 'incorporate', 'fresh', 'fruits', 'vegetables', 'diet', 'ways', 'easy', 'delicious', 'fun'], lemmatized_words=['chef', 'aj', 'unique', 'ability', 'create', 'healthy', 'food', 'taste', 'great', 'whether', 'want', 'low', 'cholesterol', 'prevent', 'reverse', 'many', 'common', 'lifestyle', 'disease', 'lose', 'weight', 'look', 'feel', 'great', 'chef', 'aj', 'show', 'incorporate', 'fresh', 'fruit', 'vegetable', 'diet', 'way', 'easy', 'delicious', 'fun'], rawFeatures=SparseVector(20, {0: 2.0, 1: 1.0, 2: 2.0, 4: 2.0, 5: 2.0, 6: 3.0, 8: 2.0, 10: 4.0, 11: 2.0, 12: 3.0, 13: 1.0, 14: 2.0, 15: 2.0, 18: 4.0, 19: 4.0}), features=SparseVector(20, {0: 0.2234, 1: 0.1208, 2: 0.2975, 4: 0.2787, 5: 0.2787, 6: 0.3625, 8: 0.1696, 10: 0.3039, 11: 0.3356, 12: 0.5034, 13: 0.0586, 14: 0.3164, 15: 0.2053, 18: 0.5574, 19: 0.4106}))"
            ]
          },
          "metadata": {},
          "execution_count": 15
        }
      ]
    },
    {
      "cell_type": "markdown",
      "source": [
        "Approach 1 : Specifying by row number"
      ],
      "metadata": {
        "id": "k2yjBC4bEi5I"
      }
    },
    {
      "cell_type": "code",
      "source": [
        "from pyspark.ml.linalg import Vectors\n",
        "from pyspark.sql import Row\n",
        "\n",
        "row_data = Row(features=row_122[\"features\"])\n",
        "\n",
        "single_row_df = spark.createDataFrame([row_data])\n",
        "\n",
        "# Model used to make prediction of the 122nd book\n",
        "prediction_122 = model.transform(single_row_df).select(\"cluster\").collect()[0][\"cluster\"]\n",
        "\n",
        "print(f\"The Book in 122nd row belongs to Cluster: {prediction_122}\")\n"
      ],
      "metadata": {
        "colab": {
          "base_uri": "https://localhost:8080/"
        },
        "id": "vJdLHONobL3W",
        "outputId": "28dff8b0-ec85-4d80-81c9-c8673ceff0f6"
      },
      "execution_count": 16,
      "outputs": [
        {
          "output_type": "stream",
          "name": "stdout",
          "text": [
            "The Book in 122nd row belongs to Cluster: 0\n"
          ]
        }
      ]
    },
    {
      "cell_type": "markdown",
      "source": [
        "Approach 2 : Specifying the ***122nd book's book_id*** and then filter it."
      ],
      "metadata": {
        "id": "tYVs8-JYEp8N"
      }
    },
    {
      "cell_type": "code",
      "source": [
        "book_id = 1545\n",
        "try:\n",
        "    row_data = idf_data.filter(idf_data[\"book_id\"] == book_id).select(\"features\").collect()[0]\n",
        "\n",
        "    row_data = Row(features=row_data[\"features\"])\n",
        "    single_row_df = spark.createDataFrame([row_data])\n",
        "\n",
        "    prediction = model.transform(single_row_df).select(\"cluster\").collect()[0][\"cluster\"]\n",
        "\n",
        "    print(f\"The Book with book_id {book_id} belongs to Cluster: {prediction}\")\n",
        "\n",
        "except IndexError:\n",
        "    print(f\"Book with book_id {book_id} not found in vectorized_data.\")\n",
        "except Exception as e:\n",
        "    print(f\"An error occurred: {e}\")"
      ],
      "metadata": {
        "colab": {
          "base_uri": "https://localhost:8080/"
        },
        "id": "1Cf27olHEZNL",
        "outputId": "ddfbf511-1e7a-4e5e-9b1e-8fd5ec05a368"
      },
      "execution_count": 17,
      "outputs": [
        {
          "output_type": "stream",
          "name": "stdout",
          "text": [
            "The Book with book_id 1545 belongs to Cluster: 0\n"
          ]
        }
      ]
    },
    {
      "cell_type": "code",
      "source": [
        "import seaborn as sns\n",
        "import matplotlib.pyplot as plt\n",
        "from pyspark.sql.functions import col\n",
        "\n",
        "predictions = model.transform(idf_data)\n",
        "\n",
        "# First five clusters\n",
        "\n",
        "clusters = predictions.filter(col(\"cluster\").between(0, 4))\n",
        "\n",
        "clusters_pd = clusters.select(\"name\", \"cluster\", \"features\").toPandas()\n",
        "\n",
        "# Dimensions of Vectorized_data are used to do the plotting\n",
        "# Here , I reduced the dimensions from 20 to 2\n",
        "clusters_pd[\"feature_1\"] = clusters_pd[\"features\"].apply(lambda x: x[0] if len(x) > 0 else None)\n",
        "clusters_pd[\"feature_2\"] = clusters_pd[\"features\"].apply(lambda x: x[1] if len(x) > 1 else None)\n",
        "\n",
        "# Colors to use\n",
        "custom_palette = {0: 'red', 1: 'green', 2: 'yellow', 3: 'black', 4: 'blue'}\n",
        "\n",
        "\n",
        "\n",
        "plt.figure(figsize=(10, 6))\n",
        "\n",
        "# Scatter plot\n",
        "scatter_plot = sns.scatterplot(x=\"feature_1\", y=\"feature_2\", hue=\"cluster\", data=clusters_pd, palette=custom_palette, legend=\"full\")\n",
        "\n",
        "scatter_plot.legend(loc='upper right', bbox_to_anchor=(1.15, 1))\n",
        "\n",
        "plt.title(\"Cluster Visualization - First Five Clusters\")\n",
        "plt.show()\n"
      ],
      "metadata": {
        "colab": {
          "base_uri": "https://localhost:8080/",
          "height": 564
        },
        "id": "XiaDfXFNkWx3",
        "outputId": "db7c80eb-d52e-4d0d-f5b8-deee1bbc419d"
      },
      "execution_count": 18,
      "outputs": [
        {
          "output_type": "display_data",
          "data": {
            "text/plain": [
              "<Figure size 1000x600 with 1 Axes>"
            ],
            "image/png": "[encoded data removed]"
          },
          "metadata": {}
        }
      ]
    },
    {
      "cell_type": "markdown",
      "source": [
        "**Model Evaluation**"
      ],
      "metadata": {
        "id": "_VRiWr4AJmFS"
      }
    },
    {
      "cell_type": "code",
      "source": [
        "from pyspark.ml.evaluation import ClusteringEvaluator\n",
        "\n",
        "evaluator = ClusteringEvaluator(predictionCol=\"cluster\", featuresCol=\"features\", metricName=\"silhouette\")\n",
        "\n",
        "silhouette_score = evaluator.evaluate(predictions)\n",
        "print(f\"Silhouette Score: {silhouette_score}\")\n"
      ],
      "metadata": {
        "colab": {
          "base_uri": "https://localhost:8080/"
        },
        "id": "Gu42uBZCJlfr",
        "outputId": "e2467bf0-0e0d-475f-8423-07c2f9dac8d0"
      },
      "execution_count": 19,
      "outputs": [
        {
          "output_type": "stream",
          "name": "stdout",
          "text": [
            "Silhouette Score: 0.13661917390906717\n"
          ]
        }
      ]
    },
    {
      "cell_type": "markdown",
      "source": [
        "A silhouette score of 0.137 indicates a fair distance of  separation between clusters, but it is not the best.Some suggestions to enhance this include :  \n",
        "\n",
        "1. **Optimizing the Number of Clusters (k):**  In our case, it was already given. However, using methods such as elbow method might help in establishing an optimal cluster value.\n",
        "\n",
        "\n",
        "2. **Trying Different Clustering Algorithms:**\n",
        "   - Experimenting with alternative clustering algorithms available in Spark, such as Bisecting KMeans, Gaussian Mixture Model (GMM), or hierarchical clustering. Different algorithms may perform better on specific types of data.\n",
        "\n",
        "3. **Optimal Dimensionality Reduction:**\n",
        "\n"
      ],
      "metadata": {
        "id": "5Oe2BUr_KCD-"
      }
    }
  ]
}