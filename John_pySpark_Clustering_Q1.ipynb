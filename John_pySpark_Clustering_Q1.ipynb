{
  "nbformat": 4,
  "nbformat_minor": 0,
  "metadata": {
    "colab": {
      "provenance": []
    },
    "kernelspec": {
      "name": "python3",
      "display_name": "Python 3"
    },
    "language_info": {
      "name": "python"
    }
  },
  "cells": [
    {
      "cell_type": "code",
      "execution_count": null,
      "metadata": {
        "colab": {
          "base_uri": "https://localhost:8080/"
        },
        "id": "ch0XaUzr8_SU",
        "outputId": "bd54041f-d792-4fd3-d860-e2755ab2a667"
      },
      "outputs": [
        {
          "output_type": "stream",
          "name": "stdout",
          "text": [
            "Collecting pyspark\n",
            "  Downloading pyspark-3.5.0.tar.gz (316.9 MB)\n",
            "\u001b[2K     \u001b[90m━━━━━━━━━━━━━━━━━━━━━━━━━━━━━━━━━━━━━━━━\u001b[0m \u001b[32m316.9/316.9 MB\u001b[0m \u001b[31m2.6 MB/s\u001b[0m eta \u001b[36m0:00:00\u001b[0m\n",
            "\u001b[?25h  Preparing metadata (setup.py) ... \u001b[?25l\u001b[?25hdone\n",
            "Requirement already satisfied: py4j in /usr/local/lib/python3.10/dist-packages (0.10.9.7)\n",
            "Building wheels for collected packages: pyspark\n",
            "  Building wheel for pyspark (setup.py) ... \u001b[?25l\u001b[?25hdone\n",
            "  Created wheel for pyspark: filename=pyspark-3.5.0-py2.py3-none-any.whl size=317425345 sha256=38f291b59b2502b756f475ae5cc3b7cab3530f4cf40949acc3d840bb20676fe6\n",
            "  Stored in directory: /root/.cache/pip/wheels/41/4e/10/c2cf2467f71c678cfc8a6b9ac9241e5e44a01940da8fbb17fc\n",
            "Successfully built pyspark\n",
            "Installing collected packages: pyspark\n",
            "Successfully installed pyspark-3.5.0\n"
          ]
        }
      ],
      "source": [
        "!pip install pyspark py4j"
      ]
    },
    {
      "cell_type": "code",
      "source": [
        "#Create a Spark Session\n",
        "from pyspark.sql import SparkSession\n",
        "\n",
        "spark= SparkSession.builder.appName(\"description\").getOrCreate()\n"
      ],
      "metadata": {
        "id": "yT-ZQiET9L6y"
      },
      "execution_count": null,
      "outputs": []
    },
    {
      "cell_type": "code",
      "source": [
        "from pyspark.sql.types import StructType, StructField, IntegerType, StringType\n",
        "\n",
        "# Schema defined as infering  it directly with spark alters the content in my case.\n",
        "schema = StructType([\n",
        "    StructField(\"book_id\", IntegerType(), True),\n",
        "    StructField(\"name\", StringType(), True),\n",
        "    StructField(\"description\", StringType(), True)\n",
        "])\n",
        "\n",
        "\n",
        "file_path = \"/content/drive/MyDrive/Data Mining/description.csv\"\n",
        "\n",
        "# Allows for multiple lines in a given row\n",
        "df_description = spark.read.option(\"multiline\", \"true\").option(\"escape\", \"\\\"\").csv(file_path, schema=schema, header=True)\n",
        "\n",
        "\n",
        "# Show all rows\n",
        "df_description.show(df_description.count())\n",
        "\n"
      ],
      "metadata": {
        "id": "3gLcMNxq9Ro8",
        "colab": {
          "base_uri": "https://localhost:8080/"
        },
        "outputId": "a897ee9a-fc49-45fa-9aa6-68c5d9549d35"
      },
      "execution_count": null,
      "outputs": [
        {
          "output_type": "stream",
          "name": "stdout",
          "text": [
            "+-------+--------------------+--------------------+\n",
            "|book_id|                name|         description|\n",
            "+-------+--------------------+--------------------+\n",
            "|   4833|    The Glass Castle|A tender, moving ...|\n",
            "|    590|Night (The Night ...|Born into a Jewis...|\n",
            "|   4264|Angela's Ashes (F...|Imbued on every p...|\n",
            "|   3361|    Eat, Pray, Love |A celebrated writ...|\n",
            "|   4535|Into Thin Air: A ...|A bank of clouds ...|\n",
            "|    518|Tuesdays with Morrie|Maybe it was a gr...|\n",
            "|   3781|Running with Scis...|The true story of...|\n",
            "|   3190|       Into the Wild|In April 1992 a y...|\n",
            "|   3147|I Know Why the Ca...|Sent by their mot...|\n",
            "|    225|A Child Called \"I...|This book chronic...|\n",
            "|   3035|Chickens, Mules a...|Perhaps if Joe an...|\n",
            "|     99|Persepolis: The S...|Wise, funny, and ...|\n",
            "|   3594|The Autobiography...|Through a life of...|\n",
            "|   4971|The Hiding Place:...|At one time Corri...|\n",
            "|   1381|All Creatures Gre...|Delve into the ma...|\n",
            "|   3099|         Confessions|Augustine's Confe...|\n",
            "|     45|Me Talk Pretty On...|David Sedaris' mo...|\n",
            "|   3269|Marley and Me: Li...|John and Jenny we...|\n",
            "|   2786|          John Adams|The enthralling, ...|\n",
            "|   4484|Man's Search for ...|Psychiatrist Vikt...|\n",
            "|   3042|Maus I: A Survivo...|A story of a Jewi...|\n",
            "|   2865|Wild Swans: Three...|The story of thre...|\n",
            "|   1061|A Long Way Gone: ...|The devastating s...|\n",
            "|    883|         Confessions|                NULL|\n",
            "|    847|    The Last Lecture|Based on the extr...|\n",
            "|     84|Martin Heidegger:...|One of the centur...|\n",
            "|   4222|             Infidel|One of today’s mo...|\n",
            "|   4414|          Bossypants|Before Liz Lemon,...|\n",
            "|    239|Wild: From Lost t...|At twenty-two, Ch...|\n",
            "|   1964|The Diary of a Yo...|Anne Frank's extr...|\n",
            "|   3571|Oral and Maxillof...|This is a compreh...|\n",
            "|   1847|Barron's GRE, 21s...|This edition of B...|\n",
            "|   1334|George Balanchine...|Written by the gi...|\n",
            "|   4885|A Partner in Holi...|\"The lessons in K...|\n",
            "|   1831|Construction Sche...|This text is a co...|\n",
            "|   4868|Literature and It...|Literature is a c...|\n",
            "|   1940|Straight on Till ...|Drawing on her pe...|\n",
            "|   2491|Diagrammatica: Th...|This book provide...|\n",
            "|     15|Book of Common Pr...|Available for the...|\n",
            "|   3196|  A Handful of Stars|This powerful mid...|\n",
            "|     61|Almost Anorexic: ...|Determine if your...|\n",
            "|   3769|Pre-ANDA Litigati...|All pharmaceutica...|\n",
            "|   4540|Creative, Success...|23 very well-know...|\n",
            "|   3389|Organ Transplanta...|Every day, newspa...|\n",
            "|   3034|The Age of Acquie...|A groundbreaking ...|\n",
            "|    822|The Multiples Man...|A guide for paren...|\n",
            "|    993|Oregon High: A Cl...|OREGON HIGH : A C...|\n",
            "|   3575|HTML & XHTML: The...|Put everthing you...|\n",
            "|   4931|Anti Inflammatory...|Kate has put toge...|\n",
            "|   1622|Leopard Geckos (C...|Leopard Geckos ar...|\n",
            "|    540|Botswana & Its Na...|Especially in the...|\n",
            "|   4968|Eat the Rich: A T...|America's favorit...|\n",
            "|    276|Paw Patrol Phonic...|This Step into Re...|\n",
            "|   1583|                NULL|                NULL|\n",
            "|   4208|Historical Maps o...|As a defining mom...|\n",
            "|   NULL|                NULL|                NULL|\n",
            "|     91|The Story of the ...|earn the team's o...|\n",
            "|   1618|Love in Provence:...|Love is something...|\n",
            "|   1890|Polymeric Multico...|Designed for a gr...|\n",
            "|   3828|      Fantasy League|12-year-old Charl...|\n",
            "|   2089|Be the Ultimate A...|Release date June...|\n",
            "|   4667|Parables: The Gre...|We all love a goo...|\n",
            "|   NULL|                NULL|                NULL|\n",
            "|    766|Microsoft Windows...|IT security can b...|\n",
            "|   2390|Shadowrun: Third ...|The Shadows Have ...|\n",
            "|   3913|The Crime Wave: C...|Though he is cele...|\n",
            "|   1127|The English Count...|There is somethin...|\n",
            "|   NULL|                NULL|                NULL|\n",
            "|   1577|ICD-10-CM 2015: T...|This comprehensiv...|\n",
            "|   4772| The Words of Gandhi|Gandhi's ideas ar...|\n",
            "|    322|            Shortcut|The train tracks ...|\n",
            "|   2984|Medical Mycology:...|\"Medical Mycology...|\n",
            "|   NULL|                NULL|                NULL|\n",
            "|    888|Reasons Mommy Drinks|Being a new mom i...|\n",
            "|   3744|Manual of High Ri...|The only book of ...|\n",
            "|    207|Oscillations and ...|Bridging lower-di...|\n",
            "|   3836|             DAMAGES|When Donna Sabia ...|\n",
            "|    447|Sermons on Timoth...|Calvin's exposito...|\n",
            "|   2492|Oils and Vinegars...|Oils and vinegars...|\n",
            "|     16|The Handbook of P...|In this authorita...|\n",
            "|   2523|Stage Plays from ...|One-act stage ada...|\n",
            "|   4479|Runner's World Me...|While all runners...|\n",
            "|   1557|Mosaics Inside & ...|This book makes e...|\n",
            "|   2802|She Appears! Enco...|Referred to as th...|\n",
            "|   4216|A Companion to Mu...|A Companion to Mu...|\n",
            "|    726|                NULL|                NULL|\n",
            "|    408|Indoor Marijuana ...| The classic \"Ind...|\n",
            "|   1565|This Book Is Full...|The novel is a fo...|\n",
            "|   4924|The Secret to Lon...|The Secret to Lon...|\n",
            "|   2292|Rabbi Israel Sala...|Israel Salanter w...|\n",
            "|   4732|The Healthiest Ci...|Between 1850 and ...|\n",
            "|   3018|My Fair Gentleman...|Jack would rather...|\n",
            "|   4459|Stand Up Paddling...|The first and onl...|\n",
            "|   1541|                NULL|                NULL|\n",
            "|   1627|Unnatural Talent:...|The journey from ...|\n",
            "|   1085|Brainstorm: The P...|In this groundbre...|\n",
            "|   2660| E-Commerce Concepts|This book is a mi...|\n",
            "|   3174|Well Enough Alone...|Jennifer Traig do...|\n",
            "|   4389|                NULL|                NULL|\n",
            "|   4923|How to Have a Big...|This book is load...|\n",
            "|   1570|                NULL|                NULL|\n",
            "|   2298|                NULL|                NULL|\n",
            "|      7|Principles of Mar...|This edition of t...|\n",
            "|    479|                NULL|                NULL|\n",
            "|   2685|Mercy Watson: Som...|Some may find it ...|\n",
            "|   3574|     If You're Lucky|When seventeen-ye...|\n",
            "|    145|Great-Tasting Pot...|The potato must b...|\n",
            "|   NULL|                NULL|                NULL|\n",
            "|   1505|Healing Without M...|Today's health-co...|\n",
            "|   1430|Eternity's Sunris...|William Blake, ov...|\n",
            "|   2205|Paraguay (Bradt T...|At the heart of S...|\n",
            "|   1143|Treating Trauma a...|This is the autho...|\n",
            "|    554|A Terrible Reveng...|The genocidal bar...|\n",
            "|   3694|Plastics: America...|Plastics explains...|\n",
            "|   3086|Microbiologically...|This book focuses...|\n",
            "|   2723|Life Reimagined: ...|Are you at a poin...|\n",
            "|   3075|It's St. Patrick'...|This Level 1 rhym...|\n",
            "|   4324|Strands of Sorrow...|A hardened group ...|\n",
            "|    119| Analytic Philosophy|This substantial ...|\n",
            "|   2640|The Modern Coral ...|This volume deals...|\n",
            "|     93|                NULL|                NULL|\n",
            "|   1337|                NULL|                NULL|\n",
            "|    448|Hunting the Rocki...|This 291- page bo...|\n",
            "|   4031|The Slums of Aspe...|Environmentalism ...|\n",
            "|    687|                NULL|                NULL|\n",
            "|   2840|Mobile & Social G...|The book explores...|\n",
            "|   2709|Ready, Freddy! #2...|Everyone's favori...|\n",
            "|   4365|                NULL|                NULL|\n",
            "|   2181|On the Backroad t...|On the Backroad t...|\n",
            "|   4758|Spiritual Astrolo...|The first book to...|\n",
            "|    107|Passing on Bypass...|This book describ...|\n",
            "|   1963|Walking the Walk ...|Leslie Sansone te...|\n",
            "|   1186|                NULL|                NULL|\n",
            "|    433|                NULL|                NULL|\n",
            "|   2276|God Made All of M...|It's easy to conv...|\n",
            "|   NULL|                NULL|                NULL|\n",
            "|   NULL|                NULL|                NULL|\n",
            "|   2441|Beyond Courage: T...|Under the noses o...|\n",
            "|   3549|The Scientist as ...|From Galileo to t...|\n",
            "|   2307|The Life and Love...|Once you have had...|\n",
            "|    690|Fish Tales: Stori...|From the wild sal...|\n",
            "|   3329|Health: The Basic...|This Edition of D...|\n",
            "|   1545|Unprocessed: How ...|Chef AJ has a uni...|\n",
            "+-------+--------------------+--------------------+\n",
            "\n"
          ]
        }
      ]
    },
    {
      "cell_type": "markdown",
      "source": [
        "Drop null values"
      ],
      "metadata": {
        "id": "3MrqtuBb7RoS"
      }
    },
    {
      "cell_type": "code",
      "source": [
        "# Drop NULL values from the DataFrame\n",
        "df_description= df_description.na.drop()"
      ],
      "metadata": {
        "id": "eBCvqEdp7Q9V"
      },
      "execution_count": null,
      "outputs": []
    },
    {
      "cell_type": "markdown",
      "source": [
        "**Resulting Rows**\n",
        "\n",
        "After dropping all the NULL values, I am left with 122 ROWS of DATA."
      ],
      "metadata": {
        "id": "pE-G1W-oRTtg"
      }
    },
    {
      "cell_type": "code",
      "source": [
        "df_description.count()"
      ],
      "metadata": {
        "colab": {
          "base_uri": "https://localhost:8080/"
        },
        "id": "Nah7XlMnPI-K",
        "outputId": "6348cb45-bbf4-4fff-e034-84a53ef6533f"
      },
      "execution_count": null,
      "outputs": [
        {
          "output_type": "execute_result",
          "data": {
            "text/plain": [
              "122"
            ]
          },
          "metadata": {},
          "execution_count": 5
        }
      ]
    },
    {
      "cell_type": "code",
      "source": [
        "df_description.show(df_description.count())"
      ],
      "metadata": {
        "colab": {
          "base_uri": "https://localhost:8080/"
        },
        "id": "yO1UFOMAlpwc",
        "outputId": "8fc41bbd-bd60-42a3-c776-a4b42cc3ffca"
      },
      "execution_count": null,
      "outputs": [
        {
          "output_type": "stream",
          "name": "stdout",
          "text": [
            "+-------+--------------------+--------------------+\n",
            "|book_id|                name|         description|\n",
            "+-------+--------------------+--------------------+\n",
            "|   4833|    The Glass Castle|A tender, moving ...|\n",
            "|    590|Night (The Night ...|Born into a Jewis...|\n",
            "|   4264|Angela's Ashes (F...|Imbued on every p...|\n",
            "|   3361|    Eat, Pray, Love |A celebrated writ...|\n",
            "|   4535|Into Thin Air: A ...|A bank of clouds ...|\n",
            "|    518|Tuesdays with Morrie|Maybe it was a gr...|\n",
            "|   3781|Running with Scis...|The true story of...|\n",
            "|   3190|       Into the Wild|In April 1992 a y...|\n",
            "|   3147|I Know Why the Ca...|Sent by their mot...|\n",
            "|    225|A Child Called \"I...|This book chronic...|\n",
            "|   3035|Chickens, Mules a...|Perhaps if Joe an...|\n",
            "|     99|Persepolis: The S...|Wise, funny, and ...|\n",
            "|   3594|The Autobiography...|Through a life of...|\n",
            "|   4971|The Hiding Place:...|At one time Corri...|\n",
            "|   1381|All Creatures Gre...|Delve into the ma...|\n",
            "|   3099|         Confessions|Augustine's Confe...|\n",
            "|     45|Me Talk Pretty On...|David Sedaris' mo...|\n",
            "|   3269|Marley and Me: Li...|John and Jenny we...|\n",
            "|   2786|          John Adams|The enthralling, ...|\n",
            "|   4484|Man's Search for ...|Psychiatrist Vikt...|\n",
            "|   3042|Maus I: A Survivo...|A story of a Jewi...|\n",
            "|   2865|Wild Swans: Three...|The story of thre...|\n",
            "|   1061|A Long Way Gone: ...|The devastating s...|\n",
            "|    847|    The Last Lecture|Based on the extr...|\n",
            "|     84|Martin Heidegger:...|One of the centur...|\n",
            "|   4222|             Infidel|One of today’s mo...|\n",
            "|   4414|          Bossypants|Before Liz Lemon,...|\n",
            "|    239|Wild: From Lost t...|At twenty-two, Ch...|\n",
            "|   1964|The Diary of a Yo...|Anne Frank's extr...|\n",
            "|   3571|Oral and Maxillof...|This is a compreh...|\n",
            "|   1847|Barron's GRE, 21s...|This edition of B...|\n",
            "|   1334|George Balanchine...|Written by the gi...|\n",
            "|   4885|A Partner in Holi...|\"The lessons in K...|\n",
            "|   1831|Construction Sche...|This text is a co...|\n",
            "|   4868|Literature and It...|Literature is a c...|\n",
            "|   1940|Straight on Till ...|Drawing on her pe...|\n",
            "|   2491|Diagrammatica: Th...|This book provide...|\n",
            "|     15|Book of Common Pr...|Available for the...|\n",
            "|   3196|  A Handful of Stars|This powerful mid...|\n",
            "|     61|Almost Anorexic: ...|Determine if your...|\n",
            "|   3769|Pre-ANDA Litigati...|All pharmaceutica...|\n",
            "|   4540|Creative, Success...|23 very well-know...|\n",
            "|   3389|Organ Transplanta...|Every day, newspa...|\n",
            "|   3034|The Age of Acquie...|A groundbreaking ...|\n",
            "|    822|The Multiples Man...|A guide for paren...|\n",
            "|    993|Oregon High: A Cl...|OREGON HIGH : A C...|\n",
            "|   3575|HTML & XHTML: The...|Put everthing you...|\n",
            "|   4931|Anti Inflammatory...|Kate has put toge...|\n",
            "|   1622|Leopard Geckos (C...|Leopard Geckos ar...|\n",
            "|    540|Botswana & Its Na...|Especially in the...|\n",
            "|   4968|Eat the Rich: A T...|America's favorit...|\n",
            "|    276|Paw Patrol Phonic...|This Step into Re...|\n",
            "|   4208|Historical Maps o...|As a defining mom...|\n",
            "|     91|The Story of the ...|earn the team's o...|\n",
            "|   1618|Love in Provence:...|Love is something...|\n",
            "|   1890|Polymeric Multico...|Designed for a gr...|\n",
            "|   3828|      Fantasy League|12-year-old Charl...|\n",
            "|   2089|Be the Ultimate A...|Release date June...|\n",
            "|   4667|Parables: The Gre...|We all love a goo...|\n",
            "|    766|Microsoft Windows...|IT security can b...|\n",
            "|   2390|Shadowrun: Third ...|The Shadows Have ...|\n",
            "|   3913|The Crime Wave: C...|Though he is cele...|\n",
            "|   1127|The English Count...|There is somethin...|\n",
            "|   1577|ICD-10-CM 2015: T...|This comprehensiv...|\n",
            "|   4772| The Words of Gandhi|Gandhi's ideas ar...|\n",
            "|    322|            Shortcut|The train tracks ...|\n",
            "|   2984|Medical Mycology:...|\"Medical Mycology...|\n",
            "|    888|Reasons Mommy Drinks|Being a new mom i...|\n",
            "|   3744|Manual of High Ri...|The only book of ...|\n",
            "|    207|Oscillations and ...|Bridging lower-di...|\n",
            "|   3836|             DAMAGES|When Donna Sabia ...|\n",
            "|    447|Sermons on Timoth...|Calvin's exposito...|\n",
            "|   2492|Oils and Vinegars...|Oils and vinegars...|\n",
            "|     16|The Handbook of P...|In this authorita...|\n",
            "|   2523|Stage Plays from ...|One-act stage ada...|\n",
            "|   4479|Runner's World Me...|While all runners...|\n",
            "|   1557|Mosaics Inside & ...|This book makes e...|\n",
            "|   2802|She Appears! Enco...|Referred to as th...|\n",
            "|   4216|A Companion to Mu...|A Companion to Mu...|\n",
            "|    408|Indoor Marijuana ...| The classic \"Ind...|\n",
            "|   1565|This Book Is Full...|The novel is a fo...|\n",
            "|   4924|The Secret to Lon...|The Secret to Lon...|\n",
            "|   2292|Rabbi Israel Sala...|Israel Salanter w...|\n",
            "|   4732|The Healthiest Ci...|Between 1850 and ...|\n",
            "|   3018|My Fair Gentleman...|Jack would rather...|\n",
            "|   4459|Stand Up Paddling...|The first and onl...|\n",
            "|   1627|Unnatural Talent:...|The journey from ...|\n",
            "|   1085|Brainstorm: The P...|In this groundbre...|\n",
            "|   2660| E-Commerce Concepts|This book is a mi...|\n",
            "|   3174|Well Enough Alone...|Jennifer Traig do...|\n",
            "|   4923|How to Have a Big...|This book is load...|\n",
            "|      7|Principles of Mar...|This edition of t...|\n",
            "|   2685|Mercy Watson: Som...|Some may find it ...|\n",
            "|   3574|     If You're Lucky|When seventeen-ye...|\n",
            "|    145|Great-Tasting Pot...|The potato must b...|\n",
            "|   1505|Healing Without M...|Today's health-co...|\n",
            "|   1430|Eternity's Sunris...|William Blake, ov...|\n",
            "|   2205|Paraguay (Bradt T...|At the heart of S...|\n",
            "|   1143|Treating Trauma a...|This is the autho...|\n",
            "|    554|A Terrible Reveng...|The genocidal bar...|\n",
            "|   3694|Plastics: America...|Plastics explains...|\n",
            "|   3086|Microbiologically...|This book focuses...|\n",
            "|   2723|Life Reimagined: ...|Are you at a poin...|\n",
            "|   3075|It's St. Patrick'...|This Level 1 rhym...|\n",
            "|   4324|Strands of Sorrow...|A hardened group ...|\n",
            "|    119| Analytic Philosophy|This substantial ...|\n",
            "|   2640|The Modern Coral ...|This volume deals...|\n",
            "|    448|Hunting the Rocki...|This 291- page bo...|\n",
            "|   4031|The Slums of Aspe...|Environmentalism ...|\n",
            "|   2840|Mobile & Social G...|The book explores...|\n",
            "|   2709|Ready, Freddy! #2...|Everyone's favori...|\n",
            "|   2181|On the Backroad t...|On the Backroad t...|\n",
            "|   4758|Spiritual Astrolo...|The first book to...|\n",
            "|    107|Passing on Bypass...|This book describ...|\n",
            "|   1963|Walking the Walk ...|Leslie Sansone te...|\n",
            "|   2276|God Made All of M...|It's easy to conv...|\n",
            "|   2441|Beyond Courage: T...|Under the noses o...|\n",
            "|   3549|The Scientist as ...|From Galileo to t...|\n",
            "|   2307|The Life and Love...|Once you have had...|\n",
            "|    690|Fish Tales: Stori...|From the wild sal...|\n",
            "|   3329|Health: The Basic...|This Edition of D...|\n",
            "|   1545|Unprocessed: How ...|Chef AJ has a uni...|\n",
            "+-------+--------------------+--------------------+\n",
            "\n"
          ]
        }
      ]
    },
    {
      "cell_type": "markdown",
      "source": [
        "**Tokenize Data**"
      ],
      "metadata": {
        "id": "ylI-_Xq8C07r"
      }
    },
    {
      "cell_type": "code",
      "source": [
        "from pyspark.ml.feature import HashingTF, IDF, Tokenizer, StopWordsRemover\n",
        "from pyspark.ml.clustering import KMeans\n",
        "from pyspark.ml import Pipeline\n",
        "from pyspark.sql.functions import col\n",
        "import seaborn as sns\n",
        "from matplotlib import pyplot as plt\n",
        "\n",
        "\n",
        "\n",
        "# Tokenize the text\n",
        "tokenizer = Tokenizer(inputCol=\"description\", outputCol=\"words\")\n",
        "\n",
        "words = tokenizer.transform(df_description)"
      ],
      "metadata": {
        "id": "6E5xne4ICz-g"
      },
      "execution_count": null,
      "outputs": []
    },
    {
      "cell_type": "code",
      "source": [
        "# Show sample Tokenized words\n",
        "words.select(\"book_id\", \"words\").show(10, truncate=False)\n"
      ],
      "metadata": {
        "colab": {
          "base_uri": "https://localhost:8080/"
        },
        "id": "jpNOwhldEy90",
        "outputId": "14624e11-965e-4afb-d675-d3c9b5ec3d99"
      },
      "execution_count": null,
      "outputs": [
        {
          "output_type": "stream",
          "name": "stdout",
          "text": [
            "+-------+----------------------------------------------------------------------------------------------------------------------------------------------------------------------------------------------------------------------------------------------------------------------------------------------------------------------------------------------------------------------------------------------------------------------------------------------------------------------------------------------------------------------------------------------------------------------------------------------------------------------------------------------------------------------------------------------------------------------------------------------------------------------------------------------------------------------------------------------------------------------------------------------------------------------------------------------------------------------------------------------------------------------------------------------------------------------------------------------------------------------------------------------------------------------------------------------------------------------------------------------------------------------------------------------------------------------------------------------------------------------------------------------------------------------------------------------------------------------------------------------------------------------------------------------------------------------------------------------------------------------------------------------------------------------------------------------------------------------------------------------------------------------------------------------------------------------------------------------------------------------------------------------------------------------------------------------------------------------------------------------------------------------------------------------------------------------------------------------------------------------------------------------------------------------------------------------------------------------------------------------------------------------------------------------------------------------------------------------+\n",
            "|book_id|words                                                                                                                                                                                                                                                                                                                                                                                                                                                                                                                                                                                                                                                                                                                                                                                                                                                                                                                                                                                                                                                                                                                                                                                                                                                                                                                                                                                                                                                                                                                                                                                                                                                                                                                                                                                                                                                                                                                                                                                                                                                                                                                                                                                                                                                                                                                                         |\n",
            "+-------+----------------------------------------------------------------------------------------------------------------------------------------------------------------------------------------------------------------------------------------------------------------------------------------------------------------------------------------------------------------------------------------------------------------------------------------------------------------------------------------------------------------------------------------------------------------------------------------------------------------------------------------------------------------------------------------------------------------------------------------------------------------------------------------------------------------------------------------------------------------------------------------------------------------------------------------------------------------------------------------------------------------------------------------------------------------------------------------------------------------------------------------------------------------------------------------------------------------------------------------------------------------------------------------------------------------------------------------------------------------------------------------------------------------------------------------------------------------------------------------------------------------------------------------------------------------------------------------------------------------------------------------------------------------------------------------------------------------------------------------------------------------------------------------------------------------------------------------------------------------------------------------------------------------------------------------------------------------------------------------------------------------------------------------------------------------------------------------------------------------------------------------------------------------------------------------------------------------------------------------------------------------------------------------------------------------------------------------------+\n",
            "|4833   |[a, tender,, moving, tale, of, unconditional, love, in, a, family, that,, despite, its, profound, flaws,, gave, the, author, the, fiery, determination, to, carve, out, a, successful, life, on, her, own, terms., jeannette, walls, grew, up, with, parents, whose, ideals, and, stubborn, nonconformity, were, both, their, curse, and, their, salvation., rex, and, rose, mary, walls, had, four, children., in, the, beginning,, they, lived, like, nomads,, moving, among, southwest, desert, towns,, camping, in, the, mountains., rex, was, a, charismatic,, brilliant, man, who,, when, sober,, captured, his, children's, imagination,, teaching, them, physics,, geology,, and, above, all,, how, to, embrace, life, fearlessly., rose, mary,, who, painted, and, wrote, and, couldn't, stand, the, responsibility, of, providing, for, her, family,, called, herself, an, \"excitement, addict.\", cooking, a, meal, that, would, be, consumed, in, fifteen, minutes, had, no, appeal, when, she, could, make, a, painting, that, might, last, forever., , later,, when, the, money, ran, out,, or, the, romance, of, the, wandering, life, faded,, the, walls, retreated, to, the, dismal, west, virginia, mining, town, --, and, the, family, --, rex, walls, had, done, everything, he, could, to, escape., he, drank., he, stole, the, grocery, money, and, disappeared, for, days., as, the, dysfunction, of, the, family, escalated,, jeannette, and, her, brother, and, sisters, had, to, fend, for, themselves,, supporting, one, another, as, they, weathered, their, parents', betrayals, and,, finally,, found, the, resources, and, will, to, leave, home., , what, is, so, astonishing, about, jeannette, walls, is, not, just, that, she, had, the, guts, and, tenacity, and, intelligence, to, get, out,, but, that, she, describes, her, parents, with, such, deep, affection, and, generosity., hers, is, a, story, of, triumph, against, all, odds,, but, also, a, tender,, moving, tale, of, unconditional, love, in, a, family, that, despite, its, profound, flaws, gave, her, the, fiery, determination, to, carve, out, a, successful, life, on, her, own, terms., , for, two, decades,, jeannette, walls, hid, her, roots., now, she, tells, her, own, story.]                                               |\n",
            "|590    |[born, into, a, jewish, ghetto, in, hungary,, as, a, child,, elie, wiesel, was, sent, to, the, nazi, concentration, camps, at, auschwitz, and, buchenwald., this, is, his, account, of, that, atrocity:, the, ever-increasing, horrors, he, endured,, the, loss, of, his, family, and, his, struggle, to, survive, in, a, world, that, stripped, him, of, humanity,, dignity, and, faith., describing, in, simple, terms, the, tragic, murder, of, a, people, from, a, survivor's, perspective,, night, is, among, the, most, personal,, intimate, and, poignant, of, all, accounts, of, the, holocaust., a, compelling, consideration, of, the, darkest, side, of, human, nature, and, the, enduring, power, of, hope,, it, remains, one, of, the, most, important, works, of, the, twentieth, century.]                                                                                                                                                                                                                                                                                                                                                                                                                                                                                                                                                                                                                                                                                                                                                                                                                                                                                                                                                                                                                                                                                                                                                                                                                                                                                                                                                                                                                                                                                                                                     |\n",
            "|4264   |[imbued, on, every, page, with, frank, mccourt's, astounding, humor, and, compassion., this, is, a, glorious, book, that, bears, all, the, marks, of, a, classic., , \"when, i, look, back, on, my, childhood, i, wonder, how, i, managed, to, survive, at, all., it, was,, of, course,, a, miserable, childhood:, the, happy, childhood, is, hardly, worth, your, while., worse, than, the, ordinary, miserable, childhood, is, the, miserable, irish, childhood,, and, worse, yet, is, the, miserable, irish, catholic, childhood.\", , , so, begins, the, pulitzer, prize, winning, memoir, of, frank, mccourt,, born, in, depression-era, brooklyn, to, recent, irish, immigrants, and, raised, in, the, slums, of, limerick,, ireland., frank's, mother,, angela,, has, no, money, to, feed, the, children, since, frank's, father,, malachy,, rarely, works,, and, when, he, does, he, drinks, his, wages., yet, malachy--, exasperating,, irresponsible, and, beguiling--, does, nurture, in, frank, an, appetite, for, the, one, thing, he, can, provide:, a, story., frank, lives, for, his, father's, tales, of, cuchulain,, who, saved, ireland,, and, of, the, angel, on, the, seventh, step,, who, brings, his, mother, babies., , , perhaps, it, is, story, that, accounts, for, frank's, survival., wearing, rags, for, diapers,, begging, a, pig's, head, for, christmas, dinner, and, gathering, coal, from, the, roadside, to, light, a, fire,, frank, endures, poverty,, near-starvation, and, the, casual, cruelty, of, relatives, and, neighbors--yet, lives, to, tell, his, tale, with, eloquence,, exuberance, and, remarkable, forgiveness., , , angela's, ashes,, imbued, on, every, page, with, frank, mccourt's, astounding, humor, and, compassion,, is, a, glorious, book, that, bears, all, the, marks, of, a, classic.]                                                                                                                                                                                                                                                                                                                                                                                                                                                                                          |\n",
            "|3361   |[a, celebrated, writer's, irresistible,, candid,, and, eloquent, account, of, her, pursuit, of, worldly, pleasure,, spiritual, devotion,, and, what, she, really, wanted, out, of, life., , , around, the, time, elizabeth, gilbert, turned, thirty,, she, went, through, an, early-onslaught, midlife, crisis., she, had, everything, an, educated,, ambitious, american, woman, was, supposed, to, want—a, husband,, a, house,, a, successful, career., but, instead, of, feeling, happy, and, fulfilled,, she, was, consumed, with, panic,, grief,, and, confusion., she, went, through, a, divorce,, a, crushing, depression,, another, failed, love,, and, the, eradication, of, everything, she, ever, thought, she, was, supposed, to, be., , , to, recover, from, all, this,, gilbert, took, a, radical, step., in, order, to, give, herself, the, time, and, space, to, find, out, who, she, really, was, and, what, she, really, wanted,, she, got, rid, of, her, belongings,, quit, her, job,, and, undertook, a, yearlong, journey, around, the, world—all, alone., eat,, pray,, love, is, the, absorbing, chronicle, of, that, year., her, aim, was, to, visit, three, places, where, she, could, examine, one, aspect, of, her, own, nature, set, against, the, backdrop, of, a, culture, that, has, traditionally, done, that, one, thing, very, well., in, rome,, she, studied, the, art, of, pleasure,, learning, to, speak, italian, and, gaining, the, twenty-three, happiest, pounds, of, her, life., india, was, for, the, art, of, devotion,, and, with, the, help, of, a, native, guru, and, a, surprisingly, wise, cowboy, from, texas,, she, embarked, on, four, uninterrupted, months, of, spiritual, exploration., in, bali,, she, studied, the, art, of, balance, between, worldly, enjoyment, and, divine, transcendence., she, became, the, pupil, of, an, elderly, medicine, man, and, also, fell, in, love, the, best, way—unexpectedly., , , an, intensely, articulate, and, moving, memoir, of, self-discovery,, eat,, pray,, love, is, about, what, can, happen, when, you, claim, responsibility, for, your, own, contentment, and, stop, trying, to, live, in, imitation, of, society’s, ideals., it, is, certain, to, touch, anyone, who, has, ever, woken, up, to, the, unrelenting, need, for, change]|\n",
            "|4535   |[a, bank, of, clouds, was, assembling, on, the, not-so-distant, horizon,, but, journalist-mountaineer, jon, krakauer,, standing, on, the, summit, of, mt., everest,, saw, nothing, that, \"suggested, that, a, murderous, storm, was, bearing, down.\", he, was, wrong., the, storm,, which, claimed, five, lives, and, left, countless, more--including, krakauer's--in, guilt-ridden, disarray,, would, also, provide, the, impetus, for, into, thin, air,, krakauer's, epic, account, of, the, may, 1996, disaster.]                                                                                                                                                                                                                                                                                                                                                                                                                                                                                                                                                                                                                                                                                                                                                                                                                                                                                                                                                                                                                                                                                                                                                                                                                                                                                                                                                                                                                                                                                                                                                                                                                                                                                                                                                                                                                         |\n",
            "|518    |[maybe, it, was, a, grandparent,, or, a, teacher, or, a, colleague., someone, older,, patient, and, wise,, who, understood, you, when, you, were, young, and, searching,, and, gave, you, sound, advice, to, help, you, make, your, way, through, it., for, mitch, albom,, that, person, was, morrie, schwartz,, his, college, professor, from, nearly, twenty, years, ago., , maybe,, like, mitch,, you, lost, track, of, this, mentor, as, you, made, your, way,, and, the, insights, faded., wouldn't, you, like, to, see, that, person, again,, ask, the, bigger, questions, that, still, haunt, you?, , , mitch, albom, had, that, second, chance., he, rediscovered, morrie, in, the, last, months, of, the, older, man's, life., knowing, he, was, dying, of, als, -, or, motor, neurone, disease, -, mitch, visited, morrie, in, his, study, every, tuesday,, just, as, they, used, to, back, in, college., their, rekindled, relationship, turned, into, one, final, 'class':, lessons, in, how, to, live.]                                                                                                                                                                                                                                                                                                                                                                                                                                                                                                                                                                                                                                                                                                                                                                                                                                                                                                                                                                                                                                                                                                                                                                                                                                                                                                                          |\n",
            "|3781   |[the, true, story, of, an, outlaw, childhood, where, rules, were, unheard, of,, the, christmas, tree, stayed, up, all, year, round,, valium, was, consumed, like, candy,, and, if, things, got, dull, an, electroshock-therapy, machine, could, provide, entertainment., , running, with, scissors, is, the, true, story, of, a, boy, whose, mother, (a, poet, with, delusions, of, anne, sexton), gave, him, away, to, be, raised, by, her, unorthodox, psychiatrist, who, bore, a, striking, resemblance, to, santa, claus., so, at, the, age, of, twelve,, burroughs, found, himself, amidst, victorian, squalor, living, with, the, doctor’s, bizarre, family,, and, befriending, a, pedophile, who, resided, in, the, backyard, shed., the, story, of, an, outlaw, childhood, where, rules, were, unheard, of,, and, the, christmas, tree, stayed, up, all, year, round,, where, valium, was, consumed, like, candy,, and, if, things, got, dull, an, electroshock-, therapy, machine, could, provide, entertainment., the, funny,, harrowing, and, bestselling, account, of, an, ordinary, boy’s, survival, under, the, most, extraordinary, circumstances.]                                                                                                                                                                                                                                                                                                                                                                                                                                                                                                                                                                                                                                                                                                                                                                                                                                                                                                                                                                                                                                                                                                                                                                            |\n",
            "|3190   |[in, april, 1992, a, young, man, from, a, well-to-do, family, hitchhiked, to, alaska, and, walked, alone, into, the, wilderness, north, of, mt., mckinley., his, name, was, christopher, johnson, mccandless., he, had, given, $25,000, in, savings, to, charity,, abandoned, his, car, and, most, of, his, possessions,, burned, all, the, cash, in, his, wallet,, and, invented, a, new, life, for, himself., four, months, later,, a, party, of, moose, hunters, found, his, decomposed, body., how, mccandless, came, to, die, is, the, unforgettable, story, of, into, the, wild., , immediately, after, graduating, from, college, in, 1991,, mccandless, had, roamed, through, the, west, and, southwest, on, a, vision, quest, like, those, made, by, his, heroes, jack, london, and, john, muir., in, the, mojave, desert, he, abandoned, his, car,, stripped, it, of, its, license, plates,, and, burned, all, of, his, cash., he, would, give, himself, a, new, name,, alexander, supertramp,, and,, unencumbered, by, money, and, belongings,, he, would, be, free, to, wallow, in, the, raw,, unfiltered, experiences, that, nature, presented., craving, a, blank, spot, on, the, map,, mccandless, simply, threw, away, the, maps., leaving, behind, his, desperate, parents, and, sister,, he, vanished, into, the, wild.]                                                                                                                                                                                                                                                                                                                                                                                                                                                                                                                                                                                                                                                                                                                                                                                                                                                                                                                                                                                                    |\n",
            "|3147   |[sent, by, their, mother, to, live, with, their, devout,, self-sufficient, grandmother, in, a, small, southern, town,, maya, and, her, brother,, bailey,, endure, the, ache, of, abandonment, and, the, prejudice, of, the, local, \"powhitetrash.\", at, eight, years, old, and, back, at, her, mother’s, side, in, st., louis,, maya, is, attacked, by, a, man, many, times, her, age—and, has, to, live, with, the, consequences, for, a, lifetime., years, later,, in, san, francisco,, maya, learns, that, love, for, herself,, the, kindness, of, others,, her, own, strong, spirit,, and, the, ideas, of, great, authors, (\"i, met, and, fell, in, love, with, william, shakespeare\"), will, allow, her, to, be, free, instead, of, imprisoned., , poetic, and, powerful,, i, know, why, the, caged, bird, sings, will, touch, hearts, and, change, minds, for, as, long, as, people, read.]                                                                                                                                                                                                                                                                                                                                                                                                                                                                                                                                                                                                                                                                                                                                                                                                                                                                                                                                                                                                                                                                                                                                                                                                                                                                                                                                                                                                                                             |\n",
            "|225    |[this, book, chronicles, the, unforgettable, account, of, one, of, the, most, severe, child, abuse, cases, in, california, history., it, is, the, story, of, dave, pelzer,, who, was, brutally, beaten, and, starved, by, his, emotionally, unstable,, alcoholic, mother:, a, mother, who, played, tortuous,, unpredictable, games--games, that, left, him, nearly, dead., he, had, to, learn, how, to, play, his, mother's, games, in, order, to, survive, because, she, no, longer, considered, him, a, son,, but, a, slave;, and, no, longer, a, boy,, but, an, \"it.\", dave's, bed, was, an, old, army, cot, in, the, basement,, and, his, clothes, were, torn, and, raunchy., when, his, mother, allowed, him, the, luxury, of, food,, it, was, nothing, more, than, spoiled, scraps, that, even, the, dogs, refused, to, eat., the, outside, world, knew, nothing, of, his, living, nightmare., he, had, nothing, or, no, one, to, turn, to,, but, his, dreams, kept, him, alive--dreams, of, someone, taking, care, of, him,, loving, him, and, calling, him, their, son.]                                                                                                                                                                                                                                                                                                                                                                                                                                                                                                                                                                                                                                                                                                                                                                                                                                                                                                                                                                                                                                                                                                                                                                                                                                                              |\n",
            "+-------+----------------------------------------------------------------------------------------------------------------------------------------------------------------------------------------------------------------------------------------------------------------------------------------------------------------------------------------------------------------------------------------------------------------------------------------------------------------------------------------------------------------------------------------------------------------------------------------------------------------------------------------------------------------------------------------------------------------------------------------------------------------------------------------------------------------------------------------------------------------------------------------------------------------------------------------------------------------------------------------------------------------------------------------------------------------------------------------------------------------------------------------------------------------------------------------------------------------------------------------------------------------------------------------------------------------------------------------------------------------------------------------------------------------------------------------------------------------------------------------------------------------------------------------------------------------------------------------------------------------------------------------------------------------------------------------------------------------------------------------------------------------------------------------------------------------------------------------------------------------------------------------------------------------------------------------------------------------------------------------------------------------------------------------------------------------------------------------------------------------------------------------------------------------------------------------------------------------------------------------------------------------------------------------------------------------------------------------------+\n",
            "only showing top 10 rows\n",
            "\n"
          ]
        }
      ]
    },
    {
      "cell_type": "markdown",
      "source": [
        "**Remove stopwords**"
      ],
      "metadata": {
        "id": "th6o3oJg_aqK"
      }
    },
    {
      "cell_type": "code",
      "source": [
        "stopwords_remover = StopWordsRemover(inputCol=\"words\", outputCol=\"words\")\n"
      ],
      "metadata": {
        "id": "qcLxR_PU-5Xk"
      },
      "execution_count": null,
      "outputs": []
    },
    {
      "cell_type": "markdown",
      "source": [
        "**Lemmatize**"
      ],
      "metadata": {
        "id": "VeW4WGO8vMO9"
      }
    },
    {
      "cell_type": "code",
      "source": [
        "# from pyspark.sql.functions import col, udf\n",
        "# from pyspark.sql.types import ArrayType, StringType\n",
        "# import spacy\n",
        "\n",
        "\n",
        "# nlp = spacy.load(\"en_core_web_sm\")\n",
        "\n",
        "# def lemmatize_tokens(tokens):\n",
        "#     return [token.lemma_ for token in nlp(\" \".join(tokens))]\n",
        "\n",
        "# lemmatize_udf = udf(lemmatize_tokens, ArrayType(StringType()))\n",
        "# words = words.withColumn(\"words\", lemmatize_udf(col(\"words\")))\n"
      ],
      "metadata": {
        "id": "-XM8MtTjt2IG"
      },
      "execution_count": null,
      "outputs": []
    },
    {
      "cell_type": "markdown",
      "source": [
        "**Vectorize Tokenized Data**\n",
        "\n",
        "\n",
        "In Spark ML, TF-IDF is separate into two parts: TF (+hashing) and IDF. TF: HashingTF is a Transformer which takes sets of terms and converts those sets into fixed-length feature vectors."
      ],
      "metadata": {
        "id": "4WXvYXvoDH7K"
      }
    },
    {
      "cell_type": "code",
      "source": [
        "# Apply TF-IDF\n",
        "hashingTF = HashingTF(inputCol=\"words\", outputCol=\"rawFeatures\", numFeatures=20)\n",
        "idf = IDF(inputCol=\"rawFeatures\", outputCol=\"features\")\n",
        "\n",
        "tf_idf_model = idf.fit(hashingTF.transform(words))\n",
        "vectorized_data = tf_idf_model.transform(hashingTF.transform(words))\n"
      ],
      "metadata": {
        "id": "nE2Kl6_1DC7X"
      },
      "execution_count": null,
      "outputs": []
    },
    {
      "cell_type": "code",
      "source": [
        "vectorized_data.count()"
      ],
      "metadata": {
        "colab": {
          "base_uri": "https://localhost:8080/"
        },
        "id": "EIn05InnRKGE",
        "outputId": "3328c580-d942-4ed1-c840-bde1c085c214"
      },
      "execution_count": null,
      "outputs": [
        {
          "output_type": "execute_result",
          "data": {
            "text/plain": [
              "122"
            ]
          },
          "metadata": {},
          "execution_count": 12
        }
      ]
    },
    {
      "cell_type": "markdown",
      "source": [
        "**Training Data**\n",
        "\n",
        "Cleaned Data goes upto 122 rows.\n",
        "For training, I picked upto 121 rows to represent the first 121 books as the book_id is not in any order."
      ],
      "metadata": {
        "id": "b_fuLMB6GUYX"
      }
    },
    {
      "cell_type": "code",
      "source": [
        "train_data = vectorized_data.limit(121)\n"
      ],
      "metadata": {
        "id": "PJSNqzP_OK4A"
      },
      "execution_count": null,
      "outputs": []
    },
    {
      "cell_type": "code",
      "source": [
        "train_data.count()"
      ],
      "metadata": {
        "colab": {
          "base_uri": "https://localhost:8080/"
        },
        "id": "AoK0fxBdPSfR",
        "outputId": "930e0713-e072-4229-c798-7bf3c59f04ee"
      },
      "execution_count": null,
      "outputs": [
        {
          "output_type": "execute_result",
          "data": {
            "text/plain": [
              "121"
            ]
          },
          "metadata": {},
          "execution_count": 14
        }
      ]
    },
    {
      "cell_type": "markdown",
      "source": [
        "**K-Means Algorithm - 10 clusters**\n",
        "\n",
        "Partition based clustering was used as we had provided with the number of clusters required in the question.\n",
        "KMeans method was used as that's the only method I was familiar with."
      ],
      "metadata": {
        "id": "BelahLWBEG-_"
      }
    },
    {
      "cell_type": "code",
      "source": [
        "#\n",
        "kmeans = KMeans(k=10, seed=1, featuresCol=\"features\", predictionCol=\"cluster\", maxIter=50)\n",
        "model = kmeans.fit(train_data)"
      ],
      "metadata": {
        "id": "5MwZ7eXnEDV5"
      },
      "execution_count": null,
      "outputs": []
    },
    {
      "cell_type": "code",
      "source": [
        "# Top 5 Terms in each cluster\n",
        "terms = []\n",
        "for i in range(3):\n",
        "    cluster_center = model.clusterCenters()[i]\n",
        "    cluster_terms = [f\"term_{j}\" for j in sorted(range(len(cluster_center)), key=lambda x: cluster_center[x], reverse=True)]\n",
        "\n",
        "    terms.append(cluster_terms)\n",
        "    print(f\"Cluster {i + 1} Terms : {cluster_terms}\")\n"
      ],
      "metadata": {
        "colab": {
          "base_uri": "https://localhost:8080/"
        },
        "id": "NvIjb8DD9r-2",
        "outputId": "df866669-054a-454b-8f9f-d28bfb067182"
      },
      "execution_count": null,
      "outputs": [
        {
          "output_type": "stream",
          "name": "stdout",
          "text": [
            "Cluster 1 Terms : ['term_4', 'term_0', 'term_2', 'term_14', 'term_17', 'term_19', 'term_7', 'term_6', 'term_13', 'term_18', 'term_1', 'term_5', 'term_10', 'term_8', 'term_3', 'term_9', 'term_16', 'term_15', 'term_12', 'term_11']\n",
            "Cluster 2 Terms : ['term_18', 'term_0', 'term_4', 'term_2', 'term_14', 'term_1', 'term_12', 'term_5', 'term_17', 'term_6', 'term_9', 'term_19', 'term_13', 'term_16', 'term_10', 'term_8', 'term_3', 'term_7', 'term_15', 'term_11']\n",
            "Cluster 3 Terms : ['term_19', 'term_1', 'term_12', 'term_14', 'term_9', 'term_0', 'term_2', 'term_18', 'term_4', 'term_5', 'term_17', 'term_16', 'term_13', 'term_10', 'term_7', 'term_6', 'term_3', 'term_8', 'term_15', 'term_11']\n"
          ]
        }
      ]
    },
    {
      "cell_type": "markdown",
      "source": [
        "**Please Note**\n",
        "\n",
        "The question asks for the 136th book. However, for my case, after dropping all the NULL values I have 122 books left from original 144 rows. I used 121 of them for Training and the Last one(122) for Testing.\n",
        "\n",
        "Since there is no order for *book_id*, I selected the last item which is the 122nd book.\n",
        "Alternative approach is to look at the 122nd's *book_id* and use that."
      ],
      "metadata": {
        "id": "zklkbtJTDDXf"
      }
    },
    {
      "cell_type": "code",
      "source": [
        "row_122 = vectorized_data.limit(122).collect()[-1]\n",
        "row_122"
      ],
      "metadata": {
        "colab": {
          "base_uri": "https://localhost:8080/"
        },
        "id": "odfp9ZGUfQJO",
        "outputId": "63ce88ea-eba1-4958-f40b-85e4e22413fc"
      },
      "execution_count": null,
      "outputs": [
        {
          "output_type": "execute_result",
          "data": {
            "text/plain": [
              "Row(book_id=1545, name='Unprocessed: How to achieve vibrant health and your ideal weight.', description='Chef AJ has a unique ability to create healthy foods that taste great. Whether you want to lower your cholesterol, prevent or reverse many common lifestyle diseases, lose weight or just look and feel great, Chef AJ can show you how to incorporate more fresh fruits and vegetables in your diet in ways that are easy, delicious and fun.', words=['chef', 'aj', 'has', 'a', 'unique', 'ability', 'to', 'create', 'healthy', 'foods', 'that', 'taste', 'great.', 'whether', 'you', 'want', 'to', 'lower', 'your', 'cholesterol,', 'prevent', 'or', 'reverse', 'many', 'common', 'lifestyle', 'diseases,', 'lose', 'weight', 'or', 'just', 'look', 'and', 'feel', 'great,', 'chef', 'aj', 'can', 'show', 'you', 'how', 'to', 'incorporate', 'more', 'fresh', 'fruits', 'and', 'vegetables', 'in', 'your', 'diet', 'in', 'ways', 'that', 'are', 'easy,', 'delicious', 'and', 'fun.'], rawFeatures=SparseVector(20, {0: 3.0, 1: 4.0, 2: 2.0, 3: 6.0, 4: 2.0, 5: 2.0, 6: 4.0, 7: 3.0, 8: 5.0, 9: 1.0, 10: 1.0, 11: 5.0, 12: 4.0, 13: 3.0, 14: 3.0, 15: 1.0, 16: 1.0, 18: 6.0, 19: 3.0}), features=SparseVector(20, {0: 0.2544, 1: 0.2344, 2: 0.1874, 3: 0.1482, 4: 0.152, 5: 0.1172, 6: 0.2344, 7: 0.0741, 8: 0.1235, 9: 0.05, 10: 0.0331, 11: 0.0, 12: 0.2344, 13: 0.1245, 14: 0.2811, 15: 0.0082, 16: 0.05, 18: 0.6159, 19: 0.2018}))"
            ]
          },
          "metadata": {},
          "execution_count": 17
        }
      ]
    },
    {
      "cell_type": "markdown",
      "source": [
        "Approach 1 : Specifying by row number"
      ],
      "metadata": {
        "id": "k2yjBC4bEi5I"
      }
    },
    {
      "cell_type": "code",
      "source": [
        "from pyspark.ml.linalg import Vectors\n",
        "from pyspark.sql import Row\n",
        "\n",
        "row_data = Row(features=row_122[\"features\"])\n",
        "\n",
        "single_row_df = spark.createDataFrame([row_data])\n",
        "\n",
        "# Model used to make prediction of the 122nd book\n",
        "prediction_122 = model.transform(single_row_df).select(\"cluster\").collect()[0][\"cluster\"]\n",
        "\n",
        "print(f\"The Book in 122nd row belongs to Cluster: {prediction_122}\")\n"
      ],
      "metadata": {
        "colab": {
          "base_uri": "https://localhost:8080/"
        },
        "id": "vJdLHONobL3W",
        "outputId": "c8b20523-084d-46e0-c5cc-a81bc09e5d04"
      },
      "execution_count": null,
      "outputs": [
        {
          "output_type": "stream",
          "name": "stdout",
          "text": [
            "The Book in 122nd row belongs to Cluster: 1\n"
          ]
        }
      ]
    },
    {
      "cell_type": "markdown",
      "source": [
        "Approach 2 : Specifying the ***122nd book's book_id*** and then filter it."
      ],
      "metadata": {
        "id": "tYVs8-JYEp8N"
      }
    },
    {
      "cell_type": "code",
      "source": [
        "book_id = 1545\n",
        "try:\n",
        "    row_data = vectorized_data.filter(vectorized_data[\"book_id\"] == book_id).select(\"features\").collect()[0]\n",
        "\n",
        "    row_data = Row(features=row_data[\"features\"])\n",
        "    single_row_df = spark.createDataFrame([row_data])\n",
        "\n",
        "    prediction = model.transform(single_row_df).select(\"cluster\").collect()[0][\"cluster\"]\n",
        "\n",
        "    print(f\"The Book with book_id {book_id} belongs to Cluster: {prediction}\")\n",
        "\n",
        "except IndexError:\n",
        "    print(f\"Book with book_id {book_id} not found in vectorized_data.\")\n",
        "except Exception as e:\n",
        "    print(f\"An error occurred: {e}\")"
      ],
      "metadata": {
        "colab": {
          "base_uri": "https://localhost:8080/"
        },
        "id": "1Cf27olHEZNL",
        "outputId": "dabb6c08-1cec-464b-82aa-79c38d1c7d1b"
      },
      "execution_count": null,
      "outputs": [
        {
          "output_type": "stream",
          "name": "stdout",
          "text": [
            "The Book with book_id 1545 belongs to Cluster: 1\n"
          ]
        }
      ]
    },
    {
      "cell_type": "code",
      "source": [
        "import seaborn as sns\n",
        "import matplotlib.pyplot as plt\n",
        "from pyspark.sql.functions import col\n",
        "\n",
        "predictions = model.transform(vectorized_data)\n",
        "\n",
        "# First five clusters\n",
        "\n",
        "clusters = predictions.filter(col(\"cluster\").between(0, 4))\n",
        "\n",
        "clusters_pd = clusters.select(\"name\", \"cluster\", \"features\").toPandas()\n",
        "\n",
        "# Dimensions of Vectorized_data are used to do the plotting\n",
        "# Here , I reduced the dimensions from 20 to 2\n",
        "clusters_pd[\"feature_1\"] = clusters_pd[\"features\"].apply(lambda x: x[0] if len(x) > 0 else None)\n",
        "clusters_pd[\"feature_2\"] = clusters_pd[\"features\"].apply(lambda x: x[1] if len(x) > 1 else None)\n",
        "\n",
        "# Colors to use\n",
        "custom_palette = {0: 'red', 1: 'green', 2: 'yellow', 3: 'black', 4: 'blue'}\n",
        "\n",
        "\n",
        "\n",
        "plt.figure(figsize=(10, 6))\n",
        "\n",
        "# Scatter plot\n",
        "scatter_plot = sns.scatterplot(x=\"feature_1\", y=\"feature_2\", hue=\"cluster\", data=clusters_pd, palette=custom_palette, legend=\"full\")\n",
        "\n",
        "scatter_plot.legend(loc='upper right', bbox_to_anchor=(1.15, 1))\n",
        "\n",
        "plt.title(\"Cluster Visualization - First Five Clusters\")\n",
        "plt.show()\n"
      ],
      "metadata": {
        "colab": {
          "base_uri": "https://localhost:8080/",
          "height": 564
        },
        "id": "XiaDfXFNkWx3",
        "outputId": "f9c20f6e-1083-4cfd-b880-dfd0486bb3aa"
      },
      "execution_count": null,
      "outputs": [
        {
          "output_type": "display_data",
          "data": {
            "text/plain": [
              "<Figure size 1000x600 with 1 Axes>"
            ],
            "image/png": "[encoded data removed]"
          },
          "metadata": {}
        }
      ]
    }
  ]
}