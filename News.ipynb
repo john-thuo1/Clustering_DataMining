{
  "nbformat": 4,
  "nbformat_minor": 0,
  "metadata": {
    "colab": {
      "provenance": []
    },
    "kernelspec": {
      "name": "python3",
      "display_name": "Python 3"
    },
    "language_info": {
      "name": "python"
    }
  },
  "cells": [
    {
      "cell_type": "markdown",
      "source": [
        "**The data is scraped from Google Search News**\n",
        "\n",
        "The data scraped consists of 2 main columns : **Link and Title**.\n",
        "The goal is to cluster the news articles according to similarity of Title of the articles using kMeans."
      ],
      "metadata": {
        "id": "UI8m8ozK6oSW"
      }
    },
    {
      "cell_type": "code",
      "source": [
        "import json\n",
        "import requests\n",
        "from bs4 import BeautifulSoup\n",
        "import csv\n",
        "\n",
        "def get_news_data(start_page, end_page):\n",
        "    headers = {\n",
        "        \"User-Agent\": \"Mozilla/5.0 (Windows NT 10.0; Win64; x64) AppleWebKit/537.36 (KHTML, like Gecko) Chrome/101.0.4951.54 Safari/537.36\"\n",
        "    }\n",
        "    news_results = []\n",
        "    index_counter = 0\n",
        "    for page in range(start_page, end_page + 1):\n",
        "        url = f\"https://www.google.com/search?q=news&gl=us&tbm=nws&num=100&start={100 * (page - 1)}\"\n",
        "        response = requests.get(url, headers=headers)\n",
        "        soup = BeautifulSoup(response.content, \"html.parser\")\n",
        "\n",
        "        for el in soup.select(\"div.SoaBEf\"):\n",
        "            index_counter += 1\n",
        "            news_results.append(\n",
        "                {\n",
        "                    \"index\": index_counter,\n",
        "                    \"link\": el.find(\"a\")[\"href\"],\n",
        "                    \"title\": el.select_one(\"div.MBeuO\").get_text(),\n",
        "\n",
        "                }\n",
        "            )\n",
        "\n",
        "    # Save to CSV file\n",
        "    with open('/content/drive/MyDrive/Data Mining/news_data.csv', 'w', newline='', encoding='utf-8') as csv_file:\n",
        "        csv_writer = csv.writer(csv_file)\n",
        "        csv_writer.writerow(['Index', 'Link', 'Title'])\n",
        "\n",
        "        for article in news_results:\n",
        "            csv_writer.writerow([article['index'], article['link'], article['title']])\n",
        "\n",
        "    print(f\"News data from page {start_page} to {end_page} has been saved to news_data.csv.\")\n",
        "\n",
        "start_page = 1\n",
        "end_page = 15\n",
        "\n",
        "get_news_data(start_page, end_page)\n"
      ],
      "metadata": {
        "colab": {
          "base_uri": "https://localhost:8080/"
        },
        "id": "q9rsq8qxwhmI",
        "outputId": "76e4ba2a-782d-4bae-c9e9-f30d4c7d9a0e"
      },
      "execution_count": null,
      "outputs": [
        {
          "output_type": "stream",
          "name": "stdout",
          "text": [
            "News data from page 1 to 15 has been saved to news_data.csv.\n"
          ]
        }
      ]
    },
    {
      "cell_type": "markdown",
      "source": [
        "**Preprocessing**"
      ],
      "metadata": {
        "id": "1-vvjFNjL_n3"
      }
    },
    {
      "cell_type": "code",
      "source": [
        "import pandas as pd\n",
        "\n",
        "df_news = pd.read_csv(\"/content/drive/MyDrive/Data Mining/news_data.csv\", index_col='Index')\n"
      ],
      "metadata": {
        "id": "8iAj3bud--3v"
      },
      "execution_count": 1,
      "outputs": []
    },
    {
      "cell_type": "code",
      "source": [
        "# Check for missing values\n",
        "df_news.info()"
      ],
      "metadata": {
        "colab": {
          "base_uri": "https://localhost:8080/"
        },
        "id": "_8olA_LlNB6d",
        "outputId": "3d46550d-1ed1-4057-aeb3-06703b0844c1"
      },
      "execution_count": 2,
      "outputs": [
        {
          "output_type": "stream",
          "name": "stdout",
          "text": [
            "<class 'pandas.core.frame.DataFrame'>\n",
            "Int64Index: 781 entries, 1 to 781\n",
            "Data columns (total 2 columns):\n",
            " #   Column  Non-Null Count  Dtype \n",
            "---  ------  --------------  ----- \n",
            " 0   Link    781 non-null    object\n",
            " 1   Title   781 non-null    object\n",
            "dtypes: object(2)\n",
            "memory usage: 18.3+ KB\n"
          ]
        }
      ]
    },
    {
      "cell_type": "code",
      "source": [
        "df_news.head()"
      ],
      "metadata": {
        "colab": {
          "base_uri": "https://localhost:8080/",
          "height": 238
        },
        "id": "2pSIqIt2NeDM",
        "outputId": "479eaf6e-12b5-4998-9a63-4aebfba8d429"
      },
      "execution_count": 3,
      "outputs": [
        {
          "output_type": "execute_result",
          "data": {
            "text/plain": [
              "                                                    Link  \\\n",
              "Index                                                      \n",
              "1      https://www.defense.gov/News/News-Stories/Arti...   \n",
              "2      https://www.nbcnews.com/news/weather/live-blog...   \n",
              "3      https://www.sandiego.edu/news/detail.php?_focu...   \n",
              "4      https://www.chinohills.org/CivicAlerts.aspx?AI...   \n",
              "5      https://www.uta.edu/news/news-releases/2024/02...   \n",
              "\n",
              "                                                   Title  \n",
              "Index                                                     \n",
              "1      Strikes Against Iran-backed Militias Had 'Good...  \n",
              "2      California flood warnings live updates: 3 dead...  \n",
              "3      Video: USD in the News Highlights for January ...  \n",
              "4      News & Announcements • The City of Chino Hills...  \n",
              "5      UTA experts to explore eclipse at Planetarium ...  "
            ],
            "text/html": [
              "\n",
              "  <div id=\"df-c8b25a34-b61b-4a6e-82df-05d8c35e3d05\" class=\"colab-df-container\">\n",
              "    <div>\n",
              "<style scoped>\n",
              "    .dataframe tbody tr th:only-of-type {\n",
              "        vertical-align: middle;\n",
              "    }\n",
              "\n",
              "    .dataframe tbody tr th {\n",
              "        vertical-align: top;\n",
              "    }\n",
              "\n",
              "    .dataframe thead th {\n",
              "        text-align: right;\n",
              "    }\n",
              "</style>\n",
              "<table border=\"1\" class=\"dataframe\">\n",
              "  <thead>\n",
              "    <tr style=\"text-align: right;\">\n",
              "      <th></th>\n",
              "      <th>Link</th>\n",
              "      <th>Title</th>\n",
              "    </tr>\n",
              "    <tr>\n",
              "      <th>Index</th>\n",
              "      <th></th>\n",
              "      <th></th>\n",
              "    </tr>\n",
              "  </thead>\n",
              "  <tbody>\n",
              "    <tr>\n",
              "      <th>1</th>\n",
              "      <td>https://www.defense.gov/News/News-Stories/Arti...</td>\n",
              "      <td>Strikes Against Iran-backed Militias Had 'Good...</td>\n",
              "    </tr>\n",
              "    <tr>\n",
              "      <th>2</th>\n",
              "      <td>https://www.nbcnews.com/news/weather/live-blog...</td>\n",
              "      <td>California flood warnings live updates: 3 dead...</td>\n",
              "    </tr>\n",
              "    <tr>\n",
              "      <th>3</th>\n",
              "      <td>https://www.sandiego.edu/news/detail.php?_focu...</td>\n",
              "      <td>Video: USD in the News Highlights for January ...</td>\n",
              "    </tr>\n",
              "    <tr>\n",
              "      <th>4</th>\n",
              "      <td>https://www.chinohills.org/CivicAlerts.aspx?AI...</td>\n",
              "      <td>News &amp; Announcements • The City of Chino Hills...</td>\n",
              "    </tr>\n",
              "    <tr>\n",
              "      <th>5</th>\n",
              "      <td>https://www.uta.edu/news/news-releases/2024/02...</td>\n",
              "      <td>UTA experts to explore eclipse at Planetarium ...</td>\n",
              "    </tr>\n",
              "  </tbody>\n",
              "</table>\n",
              "</div>\n",
              "    <div class=\"colab-df-buttons\">\n",
              "\n",
              "  <div class=\"colab-df-container\">\n",
              "    <button class=\"colab-df-convert\" onclick=\"convertToInteractive('df-c8b25a34-b61b-4a6e-82df-05d8c35e3d05')\"\n",
              "            title=\"Convert this dataframe to an interactive table.\"\n",
              "            style=\"display:none;\">\n",
              "\n",
              "  <svg xmlns=\"http://www.w3.org/2000/svg\" height=\"24px\" viewBox=\"0 -960 960 960\">\n",
              "    <path d=\"M120-120v-720h720v720H120Zm60-500h600v-160H180v160Zm220 220h160v-160H400v160Zm0 220h160v-160H400v160ZM180-400h160v-160H180v160Zm440 0h160v-160H620v160ZM180-180h160v-160H180v160Zm440 0h160v-160H620v160Z\"/>\n",
              "  </svg>\n",
              "    </button>\n",
              "\n",
              "  <style>\n",
              "    .colab-df-container {\n",
              "      display:flex;\n",
              "      gap: 12px;\n",
              "    }\n",
              "\n",
              "    .colab-df-convert {\n",
              "      background-color: #E8F0FE;\n",
              "      border: none;\n",
              "      border-radius: 50%;\n",
              "      cursor: pointer;\n",
              "      display: none;\n",
              "      fill: #1967D2;\n",
              "      height: 32px;\n",
              "      padding: 0 0 0 0;\n",
              "      width: 32px;\n",
              "    }\n",
              "\n",
              "    .colab-df-convert:hover {\n",
              "      background-color: #E2EBFA;\n",
              "      box-shadow: 0px 1px 2px rgba(60, 64, 67, 0.3), 0px 1px 3px 1px rgba(60, 64, 67, 0.15);\n",
              "      fill: #174EA6;\n",
              "    }\n",
              "\n",
              "    .colab-df-buttons div {\n",
              "      margin-bottom: 4px;\n",
              "    }\n",
              "\n",
              "    [theme=dark] .colab-df-convert {\n",
              "      background-color: #3B4455;\n",
              "      fill: #D2E3FC;\n",
              "    }\n",
              "\n",
              "    [theme=dark] .colab-df-convert:hover {\n",
              "      background-color: #434B5C;\n",
              "      box-shadow: 0px 1px 3px 1px rgba(0, 0, 0, 0.15);\n",
              "      filter: drop-shadow(0px 1px 2px rgba(0, 0, 0, 0.3));\n",
              "      fill: #FFFFFF;\n",
              "    }\n",
              "  </style>\n",
              "\n",
              "    <script>\n",
              "      const buttonEl =\n",
              "        document.querySelector('#df-c8b25a34-b61b-4a6e-82df-05d8c35e3d05 button.colab-df-convert');\n",
              "      buttonEl.style.display =\n",
              "        google.colab.kernel.accessAllowed ? 'block' : 'none';\n",
              "\n",
              "      async function convertToInteractive(key) {\n",
              "        const element = document.querySelector('#df-c8b25a34-b61b-4a6e-82df-05d8c35e3d05');\n",
              "        const dataTable =\n",
              "          await google.colab.kernel.invokeFunction('convertToInteractive',\n",
              "                                                    [key], {});\n",
              "        if (!dataTable) return;\n",
              "\n",
              "        const docLinkHtml = 'Like what you see? Visit the ' +\n",
              "          '<a target=\"_blank\" href=https://colab.research.google.com/notebooks/data_table.ipynb>data table notebook</a>'\n",
              "          + ' to learn more about interactive tables.';\n",
              "        element.innerHTML = '';\n",
              "        dataTable['output_type'] = 'display_data';\n",
              "        await google.colab.output.renderOutput(dataTable, element);\n",
              "        const docLink = document.createElement('div');\n",
              "        docLink.innerHTML = docLinkHtml;\n",
              "        element.appendChild(docLink);\n",
              "      }\n",
              "    </script>\n",
              "  </div>\n",
              "\n",
              "\n",
              "<div id=\"df-c69e7fdf-2019-444c-a496-e03c564c2169\">\n",
              "  <button class=\"colab-df-quickchart\" onclick=\"quickchart('df-c69e7fdf-2019-444c-a496-e03c564c2169')\"\n",
              "            title=\"Suggest charts\"\n",
              "            style=\"display:none;\">\n",
              "\n",
              "<svg xmlns=\"http://www.w3.org/2000/svg\" height=\"24px\"viewBox=\"0 0 24 24\"\n",
              "     width=\"24px\">\n",
              "    <g>\n",
              "        <path d=\"M19 3H5c-1.1 0-2 .9-2 2v14c0 1.1.9 2 2 2h14c1.1 0 2-.9 2-2V5c0-1.1-.9-2-2-2zM9 17H7v-7h2v7zm4 0h-2V7h2v10zm4 0h-2v-4h2v4z\"/>\n",
              "    </g>\n",
              "</svg>\n",
              "  </button>\n",
              "\n",
              "<style>\n",
              "  .colab-df-quickchart {\n",
              "      --bg-color: #E8F0FE;\n",
              "      --fill-color: #1967D2;\n",
              "      --hover-bg-color: #E2EBFA;\n",
              "      --hover-fill-color: #174EA6;\n",
              "      --disabled-fill-color: #AAA;\n",
              "      --disabled-bg-color: #DDD;\n",
              "  }\n",
              "\n",
              "  [theme=dark] .colab-df-quickchart {\n",
              "      --bg-color: #3B4455;\n",
              "      --fill-color: #D2E3FC;\n",
              "      --hover-bg-color: #434B5C;\n",
              "      --hover-fill-color: #FFFFFF;\n",
              "      --disabled-bg-color: #3B4455;\n",
              "      --disabled-fill-color: #666;\n",
              "  }\n",
              "\n",
              "  .colab-df-quickchart {\n",
              "    background-color: var(--bg-color);\n",
              "    border: none;\n",
              "    border-radius: 50%;\n",
              "    cursor: pointer;\n",
              "    display: none;\n",
              "    fill: var(--fill-color);\n",
              "    height: 32px;\n",
              "    padding: 0;\n",
              "    width: 32px;\n",
              "  }\n",
              "\n",
              "  .colab-df-quickchart:hover {\n",
              "    background-color: var(--hover-bg-color);\n",
              "    box-shadow: 0 1px 2px rgba(60, 64, 67, 0.3), 0 1px 3px 1px rgba(60, 64, 67, 0.15);\n",
              "    fill: var(--button-hover-fill-color);\n",
              "  }\n",
              "\n",
              "  .colab-df-quickchart-complete:disabled,\n",
              "  .colab-df-quickchart-complete:disabled:hover {\n",
              "    background-color: var(--disabled-bg-color);\n",
              "    fill: var(--disabled-fill-color);\n",
              "    box-shadow: none;\n",
              "  }\n",
              "\n",
              "  .colab-df-spinner {\n",
              "    border: 2px solid var(--fill-color);\n",
              "    border-color: transparent;\n",
              "    border-bottom-color: var(--fill-color);\n",
              "    animation:\n",
              "      spin 1s steps(1) infinite;\n",
              "  }\n",
              "\n",
              "  @keyframes spin {\n",
              "    0% {\n",
              "      border-color: transparent;\n",
              "      border-bottom-color: var(--fill-color);\n",
              "      border-left-color: var(--fill-color);\n",
              "    }\n",
              "    20% {\n",
              "      border-color: transparent;\n",
              "      border-left-color: var(--fill-color);\n",
              "      border-top-color: var(--fill-color);\n",
              "    }\n",
              "    30% {\n",
              "      border-color: transparent;\n",
              "      border-left-color: var(--fill-color);\n",
              "      border-top-color: var(--fill-color);\n",
              "      border-right-color: var(--fill-color);\n",
              "    }\n",
              "    40% {\n",
              "      border-color: transparent;\n",
              "      border-right-color: var(--fill-color);\n",
              "      border-top-color: var(--fill-color);\n",
              "    }\n",
              "    60% {\n",
              "      border-color: transparent;\n",
              "      border-right-color: var(--fill-color);\n",
              "    }\n",
              "    80% {\n",
              "      border-color: transparent;\n",
              "      border-right-color: var(--fill-color);\n",
              "      border-bottom-color: var(--fill-color);\n",
              "    }\n",
              "    90% {\n",
              "      border-color: transparent;\n",
              "      border-bottom-color: var(--fill-color);\n",
              "    }\n",
              "  }\n",
              "</style>\n",
              "\n",
              "  <script>\n",
              "    async function quickchart(key) {\n",
              "      const quickchartButtonEl =\n",
              "        document.querySelector('#' + key + ' button');\n",
              "      quickchartButtonEl.disabled = true;  // To prevent multiple clicks.\n",
              "      quickchartButtonEl.classList.add('colab-df-spinner');\n",
              "      try {\n",
              "        const charts = await google.colab.kernel.invokeFunction(\n",
              "            'suggestCharts', [key], {});\n",
              "      } catch (error) {\n",
              "        console.error('Error during call to suggestCharts:', error);\n",
              "      }\n",
              "      quickchartButtonEl.classList.remove('colab-df-spinner');\n",
              "      quickchartButtonEl.classList.add('colab-df-quickchart-complete');\n",
              "    }\n",
              "    (() => {\n",
              "      let quickchartButtonEl =\n",
              "        document.querySelector('#df-c69e7fdf-2019-444c-a496-e03c564c2169 button');\n",
              "      quickchartButtonEl.style.display =\n",
              "        google.colab.kernel.accessAllowed ? 'block' : 'none';\n",
              "    })();\n",
              "  </script>\n",
              "</div>\n",
              "    </div>\n",
              "  </div>\n"
            ]
          },
          "metadata": {},
          "execution_count": 3
        }
      ]
    },
    {
      "cell_type": "markdown",
      "source": [
        "**Tokenize, Lemmatize and drop stopwords using nltk**"
      ],
      "metadata": {
        "id": "Pro3M-GeP-N-"
      }
    },
    {
      "cell_type": "code",
      "source": [
        "from sklearn.feature_extraction.text import TfidfVectorizer\n",
        "from sklearn.decomposition import PCA\n",
        "from sklearn.cluster import KMeans\n",
        "import matplotlib.pyplot as plt\n",
        "from nltk.corpus import stopwords\n",
        "from nltk.stem import WordNetLemmatizer\n",
        "from nltk.tokenize import word_tokenize\n",
        "import nltk\n",
        "from sklearn.metrics import silhouette_score\n",
        "from sklearn.cluster import KMeans\n",
        "\n",
        "\n",
        "# Remove stopwords, tokenize, Lemmatization\n",
        "nltk.download('stopwords')\n",
        "nltk.download('punkt')\n",
        "nltk.download('wordnet')\n",
        "\n",
        "\n",
        "stop_words = set(stopwords.words('english'))\n",
        "lemmatizer = WordNetLemmatizer()\n",
        "\n",
        "df_news['Title'] = df_news['Title'].apply(lambda x: ' '.join([lemmatizer.lemmatize(word) for word in word_tokenize(x.lower()) if word.isalpha() and word not in stop_words]))\n"
      ],
      "metadata": {
        "id": "TSbH_WFFQRWx",
        "colab": {
          "base_uri": "https://localhost:8080/"
        },
        "outputId": "f947b88c-07f3-41f4-a2cd-902888bc3c10"
      },
      "execution_count": 4,
      "outputs": [
        {
          "output_type": "stream",
          "name": "stderr",
          "text": [
            "[nltk_data] Downloading package stopwords to /root/nltk_data...\n",
            "[nltk_data]   Unzipping corpora/stopwords.zip.\n",
            "[nltk_data] Downloading package punkt to /root/nltk_data...\n",
            "[nltk_data]   Unzipping tokenizers/punkt.zip.\n",
            "[nltk_data] Downloading package wordnet to /root/nltk_data...\n"
          ]
        }
      ]
    },
    {
      "cell_type": "code",
      "source": [
        "# Vectorize\n",
        "\n",
        "# TF-IDF Vectorization\n",
        "vectorizer = TfidfVectorizer()\n",
        "tfidf_matrix = vectorizer.fit_transform(df_news['Title'])"
      ],
      "metadata": {
        "id": "1RPIWEkcflM0"
      },
      "execution_count": 5,
      "outputs": []
    },
    {
      "cell_type": "markdown",
      "source": [
        "**Optimal Clusters**\n",
        "\n",
        "To determine the optimal number of clusters, I used Elbow Method\n",
        "Elbow Method is a technique that we use to determine the number of centroids(k) to use in a k-means clustering algorithm.  In this method to determine the k-value we continuously iterate for k=1 to k=n (Here n is the hyperparameter that we choose as per our requirement). For every value of k, we calculate the within-cluster sum of squares (WCSS) value.\n",
        "\n",
        "WCSS - It is defined as the sum of square distances between the centroids and\n",
        "each points.\n",
        "\n",
        "From the graph, I will use 5 clusters as my optimum to start with."
      ],
      "metadata": {
        "id": "WPFzp6KGhsKY"
      }
    },
    {
      "cell_type": "code",
      "source": [
        "# Elbow Method to find optimal number of clusters\n",
        "wcss = []\n",
        "for i in range(1, 20):\n",
        "    kmeans = KMeans(n_clusters=i, init='k-means++', max_iter=300, n_init=10, random_state=0)\n",
        "    kmeans.fit(tfidf_matrix)\n",
        "    wcss.append(kmeans.inertia_)\n",
        "\n",
        "# Plot the Elbow Method graph\n",
        "plt.plot(range(1, 20), wcss)\n",
        "plt.title('Elbow Method')\n",
        "plt.xlabel('Number of clusters')\n",
        "plt.ylabel('WCSS')  # WCSS stands for 'Within-Cluster-Sum-of-Squares'\n",
        "plt.show()"
      ],
      "metadata": {
        "colab": {
          "base_uri": "https://localhost:8080/",
          "height": 472
        },
        "id": "F05YhzKJhYWn",
        "outputId": "e2c27d83-09e7-47cb-fe12-dc5a3a6d61a6"
      },
      "execution_count": 6,
      "outputs": [
        {
          "output_type": "display_data",
          "data": {
            "text/plain": [
              "<Figure size 640x480 with 1 Axes>"
            ],
            "image/png": "[encoded data removed]"
          },
          "metadata": {}
        }
      ]
    },
    {
      "cell_type": "code",
      "source": [
        "tfidf_matrix"
      ],
      "metadata": {
        "colab": {
          "base_uri": "https://localhost:8080/"
        },
        "id": "VPxnwB7-jyjk",
        "outputId": "11b39d45-d260-4597-aaed-06f7ab7f0d56"
      },
      "execution_count": 7,
      "outputs": [
        {
          "output_type": "execute_result",
          "data": {
            "text/plain": [
              "<781x2360 sparse matrix of type '<class 'numpy.float64'>'\n",
              "\twith 5043 stored elements in Compressed Sparse Row format>"
            ]
          },
          "metadata": {},
          "execution_count": 7
        }
      ]
    },
    {
      "cell_type": "code",
      "source": [
        "optimal_clusters = 5\n",
        "\n",
        "# PCA for dimensionality reduction\n",
        "pca = PCA(n_components=2)\n",
        "tfidf_matrix_pca = pca.fit_transform(tfidf_matrix.toarray())\n",
        "\n",
        "# K-Means Clustering\n",
        "kmeans = KMeans(n_clusters=optimal_clusters, init='k-means++', max_iter=300, n_init=10, random_state=0)\n"
      ],
      "metadata": {
        "id": "MClJmiwSi9-3"
      },
      "execution_count": 32,
      "outputs": []
    },
    {
      "cell_type": "markdown",
      "source": [
        "**Model Prediction**"
      ],
      "metadata": {
        "id": "1JUcMyhpjN1Z"
      }
    },
    {
      "cell_type": "code",
      "source": [
        "df_news['Cluster'] = kmeans.fit_predict(tfidf_matrix)"
      ],
      "metadata": {
        "id": "mmdVTtlgjJ5l"
      },
      "execution_count": 33,
      "outputs": []
    },
    {
      "cell_type": "code",
      "source": [
        "df_news.head()"
      ],
      "metadata": {
        "colab": {
          "base_uri": "https://localhost:8080/",
          "height": 238
        },
        "id": "R4FgowqmX3DR",
        "outputId": "adcb1e58-660a-4ee1-edbe-e1f9efa5b3d0"
      },
      "execution_count": 34,
      "outputs": [
        {
          "output_type": "execute_result",
          "data": {
            "text/plain": [
              "                                                    Link  \\\n",
              "Index                                                      \n",
              "1      https://www.defense.gov/News/News-Stories/Arti...   \n",
              "2      https://www.nbcnews.com/news/weather/live-blog...   \n",
              "3      https://www.sandiego.edu/news/detail.php?_focu...   \n",
              "4      https://www.chinohills.org/CivicAlerts.aspx?AI...   \n",
              "5      https://www.uta.edu/news/news-releases/2024/02...   \n",
              "\n",
              "                                                   Title  Cluster  \n",
              "Index                                                              \n",
              "1           strike militia effect pentagon spokesman say        3  \n",
              "2      california flood warning live update dead mill...        3  \n",
              "3                       video usd news highlight january        4  \n",
              "4             news announcement city chino hill spring r        0  \n",
              "5      uta expert explore eclipse planetarium panel d...        3  "
            ],
            "text/html": [
              "\n",
              "  <div id=\"df-afe48864-4c2c-409e-8277-4878f566e5b8\" class=\"colab-df-container\">\n",
              "    <div>\n",
              "<style scoped>\n",
              "    .dataframe tbody tr th:only-of-type {\n",
              "        vertical-align: middle;\n",
              "    }\n",
              "\n",
              "    .dataframe tbody tr th {\n",
              "        vertical-align: top;\n",
              "    }\n",
              "\n",
              "    .dataframe thead th {\n",
              "        text-align: right;\n",
              "    }\n",
              "</style>\n",
              "<table border=\"1\" class=\"dataframe\">\n",
              "  <thead>\n",
              "    <tr style=\"text-align: right;\">\n",
              "      <th></th>\n",
              "      <th>Link</th>\n",
              "      <th>Title</th>\n",
              "      <th>Cluster</th>\n",
              "    </tr>\n",
              "    <tr>\n",
              "      <th>Index</th>\n",
              "      <th></th>\n",
              "      <th></th>\n",
              "      <th></th>\n",
              "    </tr>\n",
              "  </thead>\n",
              "  <tbody>\n",
              "    <tr>\n",
              "      <th>1</th>\n",
              "      <td>https://www.defense.gov/News/News-Stories/Arti...</td>\n",
              "      <td>strike militia effect pentagon spokesman say</td>\n",
              "      <td>3</td>\n",
              "    </tr>\n",
              "    <tr>\n",
              "      <th>2</th>\n",
              "      <td>https://www.nbcnews.com/news/weather/live-blog...</td>\n",
              "      <td>california flood warning live update dead mill...</td>\n",
              "      <td>3</td>\n",
              "    </tr>\n",
              "    <tr>\n",
              "      <th>3</th>\n",
              "      <td>https://www.sandiego.edu/news/detail.php?_focu...</td>\n",
              "      <td>video usd news highlight january</td>\n",
              "      <td>4</td>\n",
              "    </tr>\n",
              "    <tr>\n",
              "      <th>4</th>\n",
              "      <td>https://www.chinohills.org/CivicAlerts.aspx?AI...</td>\n",
              "      <td>news announcement city chino hill spring r</td>\n",
              "      <td>0</td>\n",
              "    </tr>\n",
              "    <tr>\n",
              "      <th>5</th>\n",
              "      <td>https://www.uta.edu/news/news-releases/2024/02...</td>\n",
              "      <td>uta expert explore eclipse planetarium panel d...</td>\n",
              "      <td>3</td>\n",
              "    </tr>\n",
              "  </tbody>\n",
              "</table>\n",
              "</div>\n",
              "    <div class=\"colab-df-buttons\">\n",
              "\n",
              "  <div class=\"colab-df-container\">\n",
              "    <button class=\"colab-df-convert\" onclick=\"convertToInteractive('df-afe48864-4c2c-409e-8277-4878f566e5b8')\"\n",
              "            title=\"Convert this dataframe to an interactive table.\"\n",
              "            style=\"display:none;\">\n",
              "\n",
              "  <svg xmlns=\"http://www.w3.org/2000/svg\" height=\"24px\" viewBox=\"0 -960 960 960\">\n",
              "    <path d=\"M120-120v-720h720v720H120Zm60-500h600v-160H180v160Zm220 220h160v-160H400v160Zm0 220h160v-160H400v160ZM180-400h160v-160H180v160Zm440 0h160v-160H620v160ZM180-180h160v-160H180v160Zm440 0h160v-160H620v160Z\"/>\n",
              "  </svg>\n",
              "    </button>\n",
              "\n",
              "  <style>\n",
              "    .colab-df-container {\n",
              "      display:flex;\n",
              "      gap: 12px;\n",
              "    }\n",
              "\n",
              "    .colab-df-convert {\n",
              "      background-color: #E8F0FE;\n",
              "      border: none;\n",
              "      border-radius: 50%;\n",
              "      cursor: pointer;\n",
              "      display: none;\n",
              "      fill: #1967D2;\n",
              "      height: 32px;\n",
              "      padding: 0 0 0 0;\n",
              "      width: 32px;\n",
              "    }\n",
              "\n",
              "    .colab-df-convert:hover {\n",
              "      background-color: #E2EBFA;\n",
              "      box-shadow: 0px 1px 2px rgba(60, 64, 67, 0.3), 0px 1px 3px 1px rgba(60, 64, 67, 0.15);\n",
              "      fill: #174EA6;\n",
              "    }\n",
              "\n",
              "    .colab-df-buttons div {\n",
              "      margin-bottom: 4px;\n",
              "    }\n",
              "\n",
              "    [theme=dark] .colab-df-convert {\n",
              "      background-color: #3B4455;\n",
              "      fill: #D2E3FC;\n",
              "    }\n",
              "\n",
              "    [theme=dark] .colab-df-convert:hover {\n",
              "      background-color: #434B5C;\n",
              "      box-shadow: 0px 1px 3px 1px rgba(0, 0, 0, 0.15);\n",
              "      filter: drop-shadow(0px 1px 2px rgba(0, 0, 0, 0.3));\n",
              "      fill: #FFFFFF;\n",
              "    }\n",
              "  </style>\n",
              "\n",
              "    <script>\n",
              "      const buttonEl =\n",
              "        document.querySelector('#df-afe48864-4c2c-409e-8277-4878f566e5b8 button.colab-df-convert');\n",
              "      buttonEl.style.display =\n",
              "        google.colab.kernel.accessAllowed ? 'block' : 'none';\n",
              "\n",
              "      async function convertToInteractive(key) {\n",
              "        const element = document.querySelector('#df-afe48864-4c2c-409e-8277-4878f566e5b8');\n",
              "        const dataTable =\n",
              "          await google.colab.kernel.invokeFunction('convertToInteractive',\n",
              "                                                    [key], {});\n",
              "        if (!dataTable) return;\n",
              "\n",
              "        const docLinkHtml = 'Like what you see? Visit the ' +\n",
              "          '<a target=\"_blank\" href=https://colab.research.google.com/notebooks/data_table.ipynb>data table notebook</a>'\n",
              "          + ' to learn more about interactive tables.';\n",
              "        element.innerHTML = '';\n",
              "        dataTable['output_type'] = 'display_data';\n",
              "        await google.colab.output.renderOutput(dataTable, element);\n",
              "        const docLink = document.createElement('div');\n",
              "        docLink.innerHTML = docLinkHtml;\n",
              "        element.appendChild(docLink);\n",
              "      }\n",
              "    </script>\n",
              "  </div>\n",
              "\n",
              "\n",
              "<div id=\"df-80bfacac-5359-4a9e-b44d-438f02cb8bdf\">\n",
              "  <button class=\"colab-df-quickchart\" onclick=\"quickchart('df-80bfacac-5359-4a9e-b44d-438f02cb8bdf')\"\n",
              "            title=\"Suggest charts\"\n",
              "            style=\"display:none;\">\n",
              "\n",
              "<svg xmlns=\"http://www.w3.org/2000/svg\" height=\"24px\"viewBox=\"0 0 24 24\"\n",
              "     width=\"24px\">\n",
              "    <g>\n",
              "        <path d=\"M19 3H5c-1.1 0-2 .9-2 2v14c0 1.1.9 2 2 2h14c1.1 0 2-.9 2-2V5c0-1.1-.9-2-2-2zM9 17H7v-7h2v7zm4 0h-2V7h2v10zm4 0h-2v-4h2v4z\"/>\n",
              "    </g>\n",
              "</svg>\n",
              "  </button>\n",
              "\n",
              "<style>\n",
              "  .colab-df-quickchart {\n",
              "      --bg-color: #E8F0FE;\n",
              "      --fill-color: #1967D2;\n",
              "      --hover-bg-color: #E2EBFA;\n",
              "      --hover-fill-color: #174EA6;\n",
              "      --disabled-fill-color: #AAA;\n",
              "      --disabled-bg-color: #DDD;\n",
              "  }\n",
              "\n",
              "  [theme=dark] .colab-df-quickchart {\n",
              "      --bg-color: #3B4455;\n",
              "      --fill-color: #D2E3FC;\n",
              "      --hover-bg-color: #434B5C;\n",
              "      --hover-fill-color: #FFFFFF;\n",
              "      --disabled-bg-color: #3B4455;\n",
              "      --disabled-fill-color: #666;\n",
              "  }\n",
              "\n",
              "  .colab-df-quickchart {\n",
              "    background-color: var(--bg-color);\n",
              "    border: none;\n",
              "    border-radius: 50%;\n",
              "    cursor: pointer;\n",
              "    display: none;\n",
              "    fill: var(--fill-color);\n",
              "    height: 32px;\n",
              "    padding: 0;\n",
              "    width: 32px;\n",
              "  }\n",
              "\n",
              "  .colab-df-quickchart:hover {\n",
              "    background-color: var(--hover-bg-color);\n",
              "    box-shadow: 0 1px 2px rgba(60, 64, 67, 0.3), 0 1px 3px 1px rgba(60, 64, 67, 0.15);\n",
              "    fill: var(--button-hover-fill-color);\n",
              "  }\n",
              "\n",
              "  .colab-df-quickchart-complete:disabled,\n",
              "  .colab-df-quickchart-complete:disabled:hover {\n",
              "    background-color: var(--disabled-bg-color);\n",
              "    fill: var(--disabled-fill-color);\n",
              "    box-shadow: none;\n",
              "  }\n",
              "\n",
              "  .colab-df-spinner {\n",
              "    border: 2px solid var(--fill-color);\n",
              "    border-color: transparent;\n",
              "    border-bottom-color: var(--fill-color);\n",
              "    animation:\n",
              "      spin 1s steps(1) infinite;\n",
              "  }\n",
              "\n",
              "  @keyframes spin {\n",
              "    0% {\n",
              "      border-color: transparent;\n",
              "      border-bottom-color: var(--fill-color);\n",
              "      border-left-color: var(--fill-color);\n",
              "    }\n",
              "    20% {\n",
              "      border-color: transparent;\n",
              "      border-left-color: var(--fill-color);\n",
              "      border-top-color: var(--fill-color);\n",
              "    }\n",
              "    30% {\n",
              "      border-color: transparent;\n",
              "      border-left-color: var(--fill-color);\n",
              "      border-top-color: var(--fill-color);\n",
              "      border-right-color: var(--fill-color);\n",
              "    }\n",
              "    40% {\n",
              "      border-color: transparent;\n",
              "      border-right-color: var(--fill-color);\n",
              "      border-top-color: var(--fill-color);\n",
              "    }\n",
              "    60% {\n",
              "      border-color: transparent;\n",
              "      border-right-color: var(--fill-color);\n",
              "    }\n",
              "    80% {\n",
              "      border-color: transparent;\n",
              "      border-right-color: var(--fill-color);\n",
              "      border-bottom-color: var(--fill-color);\n",
              "    }\n",
              "    90% {\n",
              "      border-color: transparent;\n",
              "      border-bottom-color: var(--fill-color);\n",
              "    }\n",
              "  }\n",
              "</style>\n",
              "\n",
              "  <script>\n",
              "    async function quickchart(key) {\n",
              "      const quickchartButtonEl =\n",
              "        document.querySelector('#' + key + ' button');\n",
              "      quickchartButtonEl.disabled = true;  // To prevent multiple clicks.\n",
              "      quickchartButtonEl.classList.add('colab-df-spinner');\n",
              "      try {\n",
              "        const charts = await google.colab.kernel.invokeFunction(\n",
              "            'suggestCharts', [key], {});\n",
              "      } catch (error) {\n",
              "        console.error('Error during call to suggestCharts:', error);\n",
              "      }\n",
              "      quickchartButtonEl.classList.remove('colab-df-spinner');\n",
              "      quickchartButtonEl.classList.add('colab-df-quickchart-complete');\n",
              "    }\n",
              "    (() => {\n",
              "      let quickchartButtonEl =\n",
              "        document.querySelector('#df-80bfacac-5359-4a9e-b44d-438f02cb8bdf button');\n",
              "      quickchartButtonEl.style.display =\n",
              "        google.colab.kernel.accessAllowed ? 'block' : 'none';\n",
              "    })();\n",
              "  </script>\n",
              "</div>\n",
              "    </div>\n",
              "  </div>\n"
            ]
          },
          "metadata": {},
          "execution_count": 34
        }
      ]
    },
    {
      "cell_type": "markdown",
      "source": [
        "**Model Evaluation**\n",
        "\n",
        "To evaluate , I used silhoutte score.\n",
        "\n",
        "The **silhouette score** measures how similar an object is to its own cluster compared to other clusters. The value ranges from -1 to 1, with a high value indicating good separation between clusters.\n",
        "\n",
        "\n"
      ],
      "metadata": {
        "id": "KTBLsClWT1GG"
      }
    },
    {
      "cell_type": "code",
      "source": [
        "from sklearn.metrics import silhouette_score\n",
        "\n",
        "silhouette_avg = silhouette_score(tfidf_matrix_pca, df_news['Cluster'])\n",
        "print(f\"Silhouette Score: {silhouette_avg}\")\n"
      ],
      "metadata": {
        "colab": {
          "base_uri": "https://localhost:8080/"
        },
        "id": "jrbdMafhT0JN",
        "outputId": "cc65eea8-c89a-45e6-acb0-35047726f935"
      },
      "execution_count": 35,
      "outputs": [
        {
          "output_type": "stream",
          "name": "stdout",
          "text": [
            "Silhouette Score: 0.3736740239642491\n"
          ]
        }
      ]
    },
    {
      "cell_type": "markdown",
      "source": [
        "**Silhouette Score:**\n",
        "\n",
        "The silhouette score is 0.37, which indicates a moderate level of separation between clusters. A higher silhouette score is generally desirable.\n",
        "\n",
        "Having a bit more data points and experimenting with different number of clusters/ or clustering methods might improve this."
      ],
      "metadata": {
        "id": "6ePfhhP4V-mf"
      }
    },
    {
      "cell_type": "markdown",
      "source": [
        "**Model Evaluation with 3 Clusters**"
      ],
      "metadata": {
        "id": "E_Wn_5pJlYcm"
      }
    },
    {
      "cell_type": "code",
      "source": [
        "optimal_clusters = 3\n",
        "\n",
        "# PCA for dimensionality reduction\n",
        "pca = PCA(n_components=2)\n",
        "tfidf_matrix_pca = pca.fit_transform(tfidf_matrix.toarray())\n",
        "\n",
        "# K-Means Clustering\n",
        "kmeans = KMeans(n_clusters=optimal_clusters, init='k-means++', max_iter=300, n_init=10, random_state=0)"
      ],
      "metadata": {
        "id": "QHn0B2h3lXEZ"
      },
      "execution_count": 36,
      "outputs": []
    },
    {
      "cell_type": "code",
      "source": [
        "df_news['Cluster'] = kmeans.fit_predict(tfidf_matrix)\n",
        "from sklearn.metrics import silhouette_score\n",
        "\n",
        "silhouette_avg = silhouette_score(tfidf_matrix_pca, df_news['Cluster'])\n",
        "print(f\"Silhouette Score: {silhouette_avg}\")"
      ],
      "metadata": {
        "colab": {
          "base_uri": "https://localhost:8080/"
        },
        "id": "5BIQ5CvOlyj-",
        "outputId": "4e9c3e65-881a-48a3-dc63-6c467b67a0ab"
      },
      "execution_count": 37,
      "outputs": [
        {
          "output_type": "stream",
          "name": "stdout",
          "text": [
            "Silhouette Score: 0.6459529685372984\n"
          ]
        }
      ]
    },
    {
      "cell_type": "markdown",
      "source": [
        "With 3 clusters , The silhouette score is 0.646, which indicates a better level of separation between clusters. A higher silhouette score is generally desirable.\n",
        "\n",
        "If changing the number of clusters from 5 to 3 results in an increase in the silhouette score from 0.37 to 0.6, it suggests that the data may be more naturally grouped into three clusters rather than five. This is a positive sign, as it indicates a better fit for the clustering algorithm.\n"
      ],
      "metadata": {
        "id": "_O4VhzcFmBQt"
      }
    },
    {
      "cell_type": "code",
      "source": [
        "!pip install plotly"
      ],
      "metadata": {
        "colab": {
          "base_uri": "https://localhost:8080/"
        },
        "id": "c_BLe_weyf4M",
        "outputId": "504cfc17-3190-4fab-8437-3f5217c9b5eb"
      },
      "execution_count": null,
      "outputs": [
        {
          "output_type": "stream",
          "name": "stdout",
          "text": [
            "Requirement already satisfied: plotly in /usr/local/lib/python3.10/dist-packages (5.15.0)\n",
            "Requirement already satisfied: tenacity>=6.2.0 in /usr/local/lib/python3.10/dist-packages (from plotly) (8.2.3)\n",
            "Requirement already satisfied: packaging in /usr/local/lib/python3.10/dist-packages (from plotly) (23.2)\n"
          ]
        }
      ]
    },
    {
      "cell_type": "code",
      "source": [
        "import plotly.express as px\n",
        "\n",
        "# Assuming tfidf_matrix_pca is a NumPy array\n",
        "# Convert the NumPy array to a DataFrame for Plotly Express\n",
        "import pandas as pd\n",
        "df_plotly = pd.DataFrame({\n",
        "    'PC1': tfidf_matrix_pca[:, 0],\n",
        "    'PC2': tfidf_matrix_pca[:, 1],\n",
        "    'Cluster': df_news['Cluster'].astype(int).astype(str)  # Convert to integer and then to string\n",
        "})\n",
        "\n",
        "# Create scatterplot using Plotly Express\n",
        "fig = px.scatter(df_plotly, x='PC1', y='PC2', color='Cluster', title='PCA Scatterplot of News Articles with Clusters',\n",
        "                 labels={'PC1': 'Principal Component 1', 'PC2': 'Principal Component 2'},\n",
        "                 category_orders={'Cluster': sorted(df_news['Cluster'].unique())},\n",
        "                 size_max=10)\n",
        "\n",
        "# Show the plot\n",
        "fig.show()\n"
      ],
      "metadata": {
        "colab": {
          "base_uri": "https://localhost:8080/",
          "height": 542
        },
        "id": "wAQA0SmtyeVr",
        "outputId": "5b6a8304-99e5-4aca-fa22-352735cd9966"
      },
      "execution_count": 38,
      "outputs": [
        {
          "output_type": "display_data",
          "data": {
            "text/html": [
              "<html>\n",
              "<head><meta charset=\"utf-8\" /></head>\n",
              "<body>\n",
              "    <div>            <script src=\"https://cdnjs.cloudflare.com/ajax/libs/mathjax/2.7.5/MathJax.js?config=TeX-AMS-MML_SVG\"></script><script type=\"text/javascript\">if (window.MathJax && window.MathJax.Hub && window.MathJax.Hub.Config) {window.MathJax.Hub.Config({SVG: {font: \"STIX-Web\"}});}</script>                <script type=\"text/javascript\">window.PlotlyConfig = {MathJaxConfig: 'local'};</script>\n",
              "        <script charset=\"utf-8\" src=\"https://cdn.plot.ly/plotly-2.24.1.min.js\"></script>                <div id=\"05dcdb72-660d-4d01-936c-e05c68ce3b2b\" class=\"plotly-graph-div\" style=\"height:525px; width:100%;\"></div>            <script type=\"text/javascript\">                                    window.PLOTLYENV=window.PLOTLYENV || {};                                    if (document.getElementById(\"05dcdb72-660d-4d01-936c-e05c68ce3b2b\")) {                    Plotly.newPlot(                        \"05dcdb72-660d-4d01-936c-e05c68ce3b2b\",                        [{\"hovertemplate\":\"Cluster=2\\u003cbr\\u003ePrincipal Component 1=%{x}\\u003cbr\\u003ePrincipal Component 2=%{y}\\u003cextra\\u003e\\u003c\\u002fextra\\u003e\",\"legendgroup\":\"2\",\"marker\":{\"color\":\"#ab63fa\",\"symbol\":\"circle\"},\"mode\":\"markers\",\"name\":\"2\",\"orientation\":\"v\",\"showlegend\":true,\"x\":[-0.10426585339431377,-0.08140226524917481,-0.08846459611061452,-0.10115284804436303,-0.07872083443186369,-0.1198907792395113,-0.09997089984683385,-0.06396113312732049,-0.002045666800360873,-0.09122477977261945,-0.08953912118382876,-0.10866616290913027,-0.08907879075643471,-0.08547610271709812,-0.09248103002407838,-0.08964341586996798,-0.10839468033408133,-0.089609816762116,-0.08732549946107311,-0.09247591429185699,0.00024645019289154773,-0.09206875700743514,-0.12147914085189701,-0.05102504942034515,-0.09035626119805755,-0.08214507754122764,-0.09576922897717927,-0.0857853933932639,-0.09392810479548662,-0.07453399787014929,-0.09106045328117977,-0.09192558438416501,-0.0885345135512608,-0.09005815545798283,-0.10421239060729043,-0.003872474527049668,-0.10085986427213031,-0.09822535144021202,-0.08902720862711286,-0.09052880573490824,-0.09971026290273094,-0.1234371261812518,-0.09248714002049399,-0.001714312865623518,-0.08917445173191159,-0.09094520522965907,-0.09373472079312495,-0.01621732145312089,-0.09048259719812914,-0.08952003631266726,-0.09635306709580832,-0.08987589851930716,-0.09473254486696688,-0.10770958574399493,-0.10086917599017521,-0.09571771340619036,-0.10408960027351905,-0.10039798431006552,-0.09433824530028395,-0.08734394568541563,-0.08715747390418459,-0.07876878565186073,-0.09111643328855125,-0.1088773942859948,-0.07793644798336156,-0.05708655019454649,-0.08720651211920037,-0.10105167813665046,-0.09525336480869429,-0.08163070089132073,-0.08854514778511552,-0.10029239052767104,-0.09704007653246713,-0.08330691855601162,-0.11594734917837762,-0.10057594881427394,-0.06302187613261212,-0.08870443441598914,-0.09096948210316955,-0.09409155926256486,-0.011362112784493113,-0.10510004788580962,-0.0895831236680568,-0.09321833300499786,-0.10371914364577463,-0.09894293874162072,0.01145772504762845,-0.030515859573167343,-0.09511812185356033,-0.10862637933597821,-0.09359380759930161,-0.08366681383565726,0.011214542873676485,-0.10887464489667237,-0.09593432984298596,-0.08864464566174134,-0.10219108787510962,-0.021256024478824378,-0.11407314703487936,-0.009467782406368953,-0.07599545136878426,-0.09278597169792682,-0.09313534925508653,-0.08820836116089914,-0.09313089970127426,-0.1001276162199185,-0.09146066138659212,-0.020888978149837322,-0.09625379046235946,-0.09256599987680554,-0.09461018705465729,-0.10413887681134107,-0.09388196330316279,-0.09564051977116536,-0.0992718361856324,-0.10057716922254127,-0.10224588820843189,-0.09379738544910876,-0.08872565099643234,-0.08802830141590609,-0.10783928250697583,-0.08709513180756918,-0.08880948022045351,-0.09224834314443371,-0.10697032502288437,-0.05691418925839127,-0.09364115520538736,-0.10711297085508509,-0.09260552127456222,-0.0911506195235628,-0.08985857124460074,-0.10402977007167699,-0.09836983717203734,-0.08969122575258724,-0.08851534591665777,-0.10026547807604672,-0.09565681294123866,-0.08852892866027888,-0.009735361581963623,-0.08668625297897817,-0.09414195252606866,-0.11641832626426665,-0.08735433618498371,-0.08772535219639715,-0.10950070648428481,-0.09204604266488035,-0.09889912973365318,-0.08345047253803532,-0.10917425805003902,-0.10153011018501415,-0.1148789300164875,-0.10005873160052739,-0.09942069572323613,-0.09489073210449585,-0.0694174125843732,-0.09357912252876885,-0.11812830939101002,-0.10569654958543903,-0.11905453519313214,-0.08957549989969121,-0.08463435383294697,-0.10209875295018461,-0.09155800728110093,-0.10350217355352165,-0.13253276167124264,-0.10028648032089865,-0.08985635192445385,-0.0948941648301181,-0.11329444199445517,-0.09053507781940519,-0.08959081439308178,-0.09647061453432511,-0.08882852659794635,-0.09907378118154776,-0.09548511132249272,-0.10074959571169356,-0.09049332174216292,-0.09120119732753741,-0.0871334593822224,-0.08777210225173945,-0.09888147059951641,-0.11356701123990229,-0.05657135906700578,-0.09386850237429205,-0.09790075797628375,-0.10246545465947804,-0.09317739446595381,-0.09346622586868475,-0.10877065284487418,-0.10637671297165383,-0.09529814151497082,-0.0869759863566654,-0.09051360372723481,-0.10322349597738974,-0.10322349597738974,-0.027370301549456546,-0.08833528881634423,-0.10252364881181163,-0.017416332869719105,-0.10162631130946853,-0.10714828569467445,-0.07864545993493945,-0.0906639677247182,-0.09990750133401893,-0.10061274473760891,-0.09448781417745424,-0.09251539246420212,-0.10454362563422392,-0.09703348430527138,-0.1031728279499298,-0.0957584268514389,-0.09365808335337293,-0.11364400338288239,-0.012322653911255272,-0.09409529862538896,-0.11879350701575098,-0.09981465987695885,-0.08760909649691541,-0.10067628614914141,-0.0915219190361468,-0.09000616181628655,-0.09575508742564208,-0.09854334132781131,-0.09622149662264212,-0.12675501817138268,-0.09823567376365712,-0.11176437108590069,-0.09837860587504689,-0.08723998162767672,-0.09639049206623633,-0.0878002567710157,-0.10367633182871314,-0.0945583911589919,-0.09065151714982471,-0.1091812579032648,-0.09634532519757161,-0.11210972008381606,-0.09205652526832442,-0.08997401339495989,-0.11981236673597807,-0.0825120940310041,-0.11485053415928455,-0.09686504426543864,-0.09756021662101928,-0.04537806673615836,-0.10013000030891206,-0.09149929268458483,-0.09558024836343623,-0.08728114529940287,-0.03205457191234259,-0.09104973505968228,-0.09378642117926458,-0.007192346071239736,-0.10032453270524458,-0.11535840030023739,-0.10959337426916091,-0.10345947054565123,-0.08700117012247705,-0.09105882689055203,-0.01171762870358457,-0.10904789344010217,-0.08723998201186667,-0.09382516255682209,-0.1046813881612473,-0.10769154680841005,-0.09496981145128708,-0.10697178975992852,-0.08815550076683629,-0.08644499471977976,-0.04886691306179571,-0.09462227375338607,-0.09109248698083408,-0.0893234043764088,-0.08545539674608589,-0.101018556302202,-0.0946717593201714,-0.0894306354367285,-0.10134477726111162,-0.09181535826298036,-0.10077727878801913,-0.09019403143663639,-0.0992377587175471,-0.004045467393332741,-0.09652299191935271,-0.10155130820526205,-0.0964400431843513,-0.0948065988791905,-0.08881974026082995,-0.09539488373955393,-0.09163724832758578,-0.12583880365270103,-0.09073504293451973,-0.09386790503538237,-0.10569654957997097,-0.022640861524051335,-0.09214134166243292,-0.0792233733905692,-0.09346470789582864,-0.08877331964077853,-0.1016011421383662,-0.0874385539919535,-0.09633115475461364,-0.08779470494010108,-0.10243424230404267,-0.09320124873446625,-0.08960673179917089,-0.1012463958672288,-0.09183578970449852,-0.0773609710359533,-0.082069479115817,-0.09035974647520358,-0.04806039272852567,-0.09029401359778198,-0.10020933962963699,-0.09570719920045687,-0.09766783943316355,-0.10052656360381856,-0.09720827232218458,-0.09403851297639162,-0.08959257256376371,-0.01377577115335289,-0.08802315741357822,-0.08723998078535833,-0.10038076802036928,-0.0769492897577545,-0.0978429647769485,-0.08955476598344707,-0.09378988968669887,-0.08432116757545419,-0.0922682980045833,-0.09656784747763103,-0.11089796081826182,-0.08994075827059192,-0.10569654957402753,-0.08697223626342776,-0.09289996252698036,0.0278614413020768,-0.08590588776993403,-0.09913798493646069,-0.08672187777351477,-0.08588739525978607,-0.09469087147223905,-0.09884776718802958,-0.09361216084947191,0.0012995600197267675,-0.09299940972480157,-0.012036610391153287,-0.09869829149516797,-0.09440446287873501,-0.09412818634916757,-0.09568754661821716,-0.10682682949358306,-0.09992535809753221,-0.09748042250215103,-0.08889710531906679,-0.09279334815584145,-0.09985932863025938,-0.09848851034596469,-0.0959881169584262,-0.10707048321795058,-0.09479138680180102,-0.09527365745190423,-0.08265061303441916,-0.09984511939416531,-0.08991175558522534,-0.08723998124856978,0.002449609162820176,-0.09622695115472006,-0.09157017306762903,-0.10572845509130757,-0.08012254588468724,-0.10079787194446592,-0.08869220038201343,-0.08723998136760529,-0.0786931176493262,-0.09472223062199481,-0.09518697803525344,-0.10048761054071266,-0.0862768537221441,-0.08813871088046223,-0.07703112680010536,-0.09730440327360806,-0.09865776445137568,-0.10313401853847057,-0.10990475711515672,-0.09274645378679333,-0.08934022779133619,-0.09534313811874268,-0.09295103817652081,-0.0912651170531589,-0.08403069935509626,-0.09200493064078114,-0.11560403883210651,-0.09389924343206475,-0.09551569679457238,-0.09471417415215604,-0.08723998133108715,-0.08657083567111566,-0.11212098730523654,-0.10033793740645107,-0.07530981772062965,-0.10325316969422939,-0.10038652264150746,-0.08720979517111453,-0.0925455850132857,-0.10737138339670639,-0.10520373524869737,-0.09058009696100239,-0.08909285198565926,-0.10508639821000255,-0.09658389134256305,-0.10138100869203899,-0.10295437018825147,-0.08926427951599662,-0.09458203803513535,-0.0631761346993304,-0.12209165950396127,-0.09671219889471931,-0.11455223141250419,-0.0872399831400665,-0.10415623638136604,-0.09378104686619525,-0.09669267584627862,-0.09613852127480396,-0.10473937411249447,-0.09684014343335369,-0.09324499509911614,-0.09775957693634185,-0.1076846450484194,-0.08993032279397513,-0.08907573128005733,-0.08572119676841213,-0.07505385564342087,-0.0832158940339697,-0.07688544753458214,-0.08645416684564415,-0.0928635426832179,-0.07036872104625634,-0.09785404154335317,-0.023021669812035232,-0.09288599663433718,-0.09266867066771722,-0.0958199014885501,-0.03076237674363659,-0.08723998327361034,-0.09820113623715768,-0.003856039556730982,-0.06675652907831531,-0.08637305364827635,-0.1116776780751832,0.017131545238706147,-0.0870348161917997,0.009589534677031131,-0.08926170143286796,-0.08448152662750137,-0.0931036944253571,-0.08833765157763844,-0.08188780651057605,-0.08188780650733728,-0.08825525709645618,0.022191168789120273,-0.08834813786897071,-0.09138048235909758,0.00775619174583717,-0.09497945891377349,-0.09126251318593279,-0.01423694072652199,-0.0951031923196883,-0.087239982550474,-0.10314151198388133,-0.09170963766662667],\"xaxis\":\"x\",\"y\":[0.013203868765824281,-0.002678897172112004,0.009860493789775014,0.011442523430323393,-0.007395801627414986,0.012206015429397234,0.007741589654230276,-0.010049832274580468,-0.038306060342034084,0.010044498797111358,0.00873787019739655,0.011474627144346456,0.009744305410160537,0.022024806635940183,0.009547220357920752,0.008487082488636888,0.012220155660212131,0.012609523438280286,0.016272189720994076,0.0105634462383966,-0.03688756973276086,0.010278411083609463,0.012586560383837346,-0.014581416310281762,0.007874457564369492,-0.006613952614269131,0.01166962392653169,0.01750311383987778,0.006191690938442833,0.00752255219067611,0.010917724863836967,0.009383734707593546,0.009867108439547639,0.008867700016615755,0.012201242220128125,-0.03976010107755503,0.011108954707175586,0.00715466509321251,0.009376933975440338,0.0034442678560667947,0.011252610957628716,0.014594275864729113,0.014948075616127104,-0.033188139367628454,0.00906688207301519,0.0066743125321151245,0.010313237842270067,-0.028672357548263055,0.006177779500075029,0.009450725640520716,0.00719628064553612,0.016498144494730766,0.010574252884851214,0.015267685139787126,0.015255777643749675,0.010334900017710055,0.010137059628626805,0.012616595518686796,0.010641034567659791,0.009380493543576108,0.014992343870663272,-0.008263272510895425,0.010198159070686963,0.012079031818717062,-0.020066864165722204,0.10228230449242422,0.009174043092357831,0.010282659485285211,0.009986910282579371,0.01784525048599491,0.005629714637071402,0.011517627689474778,0.009262050252907751,-0.006342356245637009,0.01189058826024289,0.010963721294778572,-0.016020714184905704,0.009251030304213844,0.00818423597917572,0.009517875500894314,-0.02601217448504377,0.0122569270880224,0.014780470547486158,0.007403894928899513,0.010819138873718537,0.01529590819119638,-0.0306421983647357,-0.021855502068483502,0.008171693573714773,0.012762657995919507,0.010962450780438247,-0.00099387703743701,-0.04464825866567186,0.014874573277407602,0.01771059741014522,0.008774207791745437,0.01168103194364478,-0.025818340041825934,0.012500303651640763,-0.028440029099823846,0.012378645655152294,0.010549172940710474,0.010519418693357945,0.009810163073114535,0.0097078894715057,0.010027081942377256,0.007337853214976686,0.10257327118239694,0.009199532960726549,0.016363220755014958,0.013137131697107925,0.009813976228624005,0.014238642160117764,0.008065453303491739,0.010855207566966302,0.01140775485211123,0.010631237251475849,0.010620018093857004,0.009006466432567247,0.005449283543508168,0.012634859841303997,0.007457832924663844,0.009831853348009142,0.009073136243787049,0.012635191831839388,-0.022398540208238654,0.010473980142638398,0.0011627349815479069,0.03361585543472694,0.009710215022223283,0.010036765337315953,0.01189321881017485,0.01067427912372994,0.009985124478511846,0.009865489203978933,0.017576988163278448,0.010185057239318188,0.005297828553454018,-0.030232768738004148,0.016705285980034647,0.010517030609883881,0.01255777403823701,0.0008188165298997319,0.009082011542603028,0.012475542204933755,0.010336225058671683,0.01147183325896996,0.009229175407440973,0.012941590036177071,0.01340693653307906,0.014227411964559749,0.029250555968118958,0.010385300758253868,0.0099948946806494,-0.013172882985989225,0.010627064137259647,0.013083547675935074,0.010895283674478241,0.012420983223371589,0.010885667419503463,0.0104397119785883,0.012147760392610413,-0.0055658170789694515,0.013840348215857895,0.013866842678850098,0.005753330989822804,0.010046949431952052,0.008917971388632446,0.013286048532682672,0.009850461381262911,0.0052090154938358455,0.010546459146845951,0.008961897452443628,0.009410860382868933,0.009513714670057665,0.025422750259901584,0.010154235522388734,0.009675585913394683,0.017437256059384388,0.007815151436757557,0.010726542413019721,0.011346704799785768,-0.019053010096686755,0.004679760579994522,0.018450575314130545,0.017194496193612532,-0.0017675278757844312,0.010439218204539207,0.012578039399158351,0.011751810729951193,0.01047344483194823,0.004173310267933431,0.010152525952161841,0.01285903362452481,0.01285903362452481,-0.03145090770022986,0.009825877928896814,0.009389068752284473,-0.029481541101972528,0.005775544354266091,0.013112673942758241,0.018159474519236593,0.010222174426178572,0.00991034028793218,0.010772462811913288,0.01448144574484594,0.009919180470731518,0.009119682695220023,0.011246557253792597,0.011337758103883835,0.010280365460450493,0.009414523370430833,0.01410193353242782,-0.028655137594247433,0.01071228446375602,0.013473940135714726,0.017055857844872586,0.009351277787515468,0.011902064225926788,0.008601281698381463,0.010391666885277297,0.010959844628854257,0.016339656850226262,0.010255283677972182,0.01687574034036727,0.011906536311736366,0.022072369007960762,0.013815550869632702,0.009686458041569576,0.011005693358376777,0.009555375604316914,0.008655962863120674,0.010467629771617356,0.009343346907977518,0.012251425996806042,0.010204933522656426,0.015533716670897544,0.022967068733507765,0.009517669998677522,0.015517145161828944,-0.01049471441224887,0.01241082494380619,0.010850732221093357,0.017977233047891727,0.10790807840265512,0.013343355391518234,0.008479127196818079,0.011058970366388341,0.008255765901131109,-0.021405877852183397,0.009558608216780614,0.010448015957591207,-0.030317912605167426,0.0077650481118898525,0.014083167464711863,0.012185181648320574,0.010385947923449048,0.007068038624514857,0.014153016083235517,-0.03504926940419584,0.01119371245802255,0.009686454747217393,0.020695763530719117,0.011779432460803747,0.018152920421017734,0.010091415937373553,0.013948326370030021,0.004553814404605123,0.007150905987871689,0.13006765152674093,0.008928095424471113,0.011447540805513605,0.009175223696760377,0.007140763697945831,0.013194053419198494,0.010700006562847645,0.017955214182811905,0.008348936721295124,0.008744444491504055,0.012824674177036779,0.009927430199216672,0.011275493860331314,-0.03242403024612253,0.005880287984214139,0.006981734433001611,0.012953057186346791,0.011382847467924924,0.0044702859247245175,0.009228105142385366,0.012449275455220484,0.016686970653864715,0.009072779706781784,0.008104336757239889,0.010895283778774772,-0.029806965495140506,0.00952389653031186,-0.0011993007730522938,0.009919239490682394,0.0068011423131291,0.011469484409267061,0.009355712163599926,0.010430173816053226,0.005102973241225686,0.011452277443160342,0.010429199825121003,0.007835155875231764,0.010904917059107691,0.010293225967076195,-0.0171916729264448,0.009393613199309666,0.006986742238736907,0.13698966643682822,0.009842270854386062,0.01674699761130723,0.009562297586408492,0.0109183938757842,0.011640633042551583,0.010272443241852522,0.01059482165236311,0.01001947855431403,-0.032638176247747196,0.009440643082132013,0.009686456016427484,0.012730253277503958,0.0022498882435045245,0.011220520446417553,0.009631643438591698,0.007566406895629192,-0.0034869167839152067,0.010345867023495063,0.009756507938384744,0.017429563953351882,0.010077692482944335,0.010895283773733807,0.01416667673523142,0.004533794020526123,0.02735698672151523,0.004768461090652133,0.013568913255598558,0.0031953346051172647,0.0025393575225980754,0.017514407256599866,0.010813530925030854,0.010662046821871971,-0.03448645068567866,0.013321711912480135,0.16637917186209483,0.009650025007010631,0.009766483689846995,0.009991459966241609,0.009754372767382091,0.012029408101247106,0.009378517694501914,0.010094282374308114,0.007272265391872447,0.00845442322239105,0.012650066865420612,0.011157965680722162,0.011562407850909586,0.011999909093391386,0.008803643306793292,0.011616609312976504,0.009227439204351998,0.010409658534560705,0.009289434053607623,0.00968645489251037,-0.03547967845039407,0.017161795619673022,0.003872973061454122,0.012016145702659615,-0.00492628993907985,0.01089678358866607,0.009533547356957947,0.009686459082953498,-0.0045970953351510925,0.005818353150236013,0.01042050608243263,0.010861760734299886,0.007377666984240837,0.009898521368075737,0.01769809019742765,0.005279991381120437,0.010698376396292938,0.009130398660815296,0.012055433542116648,0.007664596931489342,0.010001083043160539,0.013687988725529605,0.00893534634228205,0.011874825400413526,-0.0017938478705034602,0.0018115838425355496,0.011360784576590403,0.010590311715229818,0.010508270175748137,0.009302868656260694,0.009686458862493192,-0.00039174734387548745,0.012629545705430179,0.010232134295082546,0.008673310338535582,0.013874679923608054,0.011513124140671445,0.01828488919573879,0.011767874530600544,0.013199753349469687,0.011830558347335325,0.008300972891656157,0.007035866019314612,0.011274953744411545,0.011875358977517177,0.012589956860149762,0.012936305427549762,0.010326755226712428,0.0108400837902025,0.09386132195601748,0.02540898682468572,0.00862162591792259,0.016644333611244774,0.009686456968023472,0.015561767612758699,0.006945817064407219,0.015103718073387418,0.01067269158130737,0.012972779882523842,0.010968329444049633,0.006698625052301874,0.010647426273814532,0.012693231865398764,0.010729392119010913,0.0056957038691193285,0.00901758031257329,0.003162391198932964,0.008258602162569522,-0.008793154976794965,0.0005251558915773944,0.010494439125956802,-0.017725602011271047,0.010538381587774455,0.15464190020781127,0.010400936772039817,0.009589041671910863,0.02016174680545035,0.13166431313343407,0.009686456596542702,0.01039733649254611,-0.01291237682257444,-0.025490274441812726,0.011330828491424272,0.009730872920471164,0.2076471204522178,0.008976227646948212,0.12862478680324524,0.009975017456940538,0.0035598610423204016,0.006142478546971991,0.009837000527806622,0.00026550553711712755,0.00026550557534605083,0.021368016733581078,0.22027649737378208,0.009801174245216265,0.011363010819307462,-0.015424392746566649,0.009921219730023871,0.010313627144199911,-0.030515426877824183,0.0034110884840850395,0.009686453845431436,0.012014636550830522,0.01423329714402263],\"yaxis\":\"y\",\"type\":\"scatter\"},{\"hovertemplate\":\"Cluster=0\\u003cbr\\u003ePrincipal Component 1=%{x}\\u003cbr\\u003ePrincipal Component 2=%{y}\\u003cextra\\u003e\\u003c\\u002fextra\\u003e\",\"legendgroup\":\"0\",\"marker\":{\"color\":\"#FFA15A\",\"symbol\":\"circle\"},\"mode\":\"markers\",\"name\":\"0\",\"orientation\":\"v\",\"showlegend\":true,\"x\":[0.05433499314074724,0.0356232564045063,0.047145752214575176,-0.004400225740175102,0.03261735258934225,0.03235223767942626,0.0904778633853423,0.07064479060125166,0.04967163976356405,0.05788291631740056,0.014792335800241658,0.02123998973941608,0.02147319568655101,0.04405647051988479,0.052941452146544436,0.11081755937607225,0.010900801949838595,-0.007286737361675099,-0.010758206282366211,0.0904778633853423,0.021024704274311717,0.012030430142894436,0.09160867243389689,0.04511631092765501,0.05459273464340383,0.19772324474153638,0.08448433564376533,0.020333371444825967,0.04022270593182558,0.020405413315826258,0.09619768764340908,0.012977907742774481,0.02478397872472258,0.02060194103776055,0.0904778633853423,0.0904778633853423,0.011577837725667043,0.011453972659099771,0.020339026702891515,0.04833874586182588,0.7692385874466773,0.029069588748174776,0.003143442293119135,0.02147319568655101,0.009352607215236355,0.017983584808007158,0.012261033541436456,0.0904778633853423,0.02478397872472258,0.04427255499288569,0.06873857876747642,0.07838202132989952,0.005151339190005802,0.008035783335003141,0.0347164139795487,0.035895493539485276,0.3023098729892704,0.22167094373828447,0.023682983084427532,0.11353545479416971,0.015146874234119827,0.02147319568655101,0.03791027213649567,0.1746149882782574,0.02049793371875863,0.03255096416080139,0.046464410750604895,0.0349358005400978,0.016388610326133632,0.03448789529443975,0.05140919153094954,0.019410738919188035,0.01046148904539384,0.009830239010211378,0.02044553304955568,0.01609740357105036,0.041078874035689585,0.009205317562580712,0.2095302592849093,0.005804821733701988,0.00394350463656723,0.009275686654337067,0.01116435215267116,0.08763927498795104,0.011730490898281884,0.021074442665189624,0.07297413086559347,0.7692385874466773,0.27939707467171837,0.2790242289979756,0.02902070207330355,0.27742737122591693,0.023557702007103873,0.03816818706582191,0.11961553009134046,0.09030927937332785,0.043257221166382254,0.04682036223467129,0.1019653323819924,0.018787106660974825,0.07677504782195649,0.12728649612214898,0.13220151947112424,0.24639511130540992,0.04918837859804831,0.04157813620142351,0.14431694681434976,0.08896525436648317,0.003981506231982986,0.1133078582039622,0.007400444094557887,0.14431694673743278,0.20870081368730695,0.31562454433279497,0.025815409428729924,0.004686581066392669,0.021240760863771274,0.012897139450850387,0.1131899574955106,0.10755784050011076,0.07450801149722137,0.03177706752373371,0.09185905448956973,0.06889232838791431,0.25601860421675476,0.08894957071184272,0.028297780241242573,0.02803726819218737,0.017657244071781177,0.07562637992027257,0.03141770490858034,0.24859497482318343,0.08803648003317051,0.08303949179723658,0.1456638782274571,0.02734308007216483,0.0671946632228196,0.0110362824732468,0.023857872757429108,0.12126465448242475,0.019410740026188502,0.14431694668397604,0.12449499691501141,0.1303372690924233,0.02734308007216483,0.24467493504052412,0.11595588432175007,0.08099742572363894,0.19448109945324996,0.02734308007216483,0.02076793385943646,0.7692385874466773,0.06656766679689544,0.08512951031919083,0.12547344313232417,0.03801098871760719,0.06384070623236666,0.04094059210280711,0.006039841580232315,0.024094186941345682,0.27939707467171837,0.24639511130540992,0.11399194792397387,0.05760525303248622,0.0399361295837126,0.15457178092274576,0.1305065609171263,0.3023098729892704,0.14398124487871627,0.7692385874466773,0.1443169466766333,0.05369421718422368,0.13325124160263013,0.3023098729892704,0.19202724067019614,0.7692385874466773,0.15356518930833318,0.058295193297882325,0.14431694664635897,0.041874699766121105,0.014343058858162559,0.19202724067019614,0.1717459883678196,0.07005780387841047,0.2259334295125721,0.15713615579696757,0.1443169465734713,0.14431694675810458,0.3097629029546944,0.09001454391479234,0.7692385874466773,0.07456469138629994,0.3023098729892704,0.019010604007328992,0.24517601667512667,0.1443169466014594,0.09706780942641925,0.16019331435833373,0.20557198363691676,0.09939377028348774,0.1702977250960047,0.07853275373603341,0.062379282565082475,0.1409942896145225,0.07648747965281959,0.14431694690841848,0.06571634053729979,0.1443169469350284,0.03023436573095104,0.048690699408734946,0.2354746838539978,0.7692385874466773,0.02629003822683035,0.07568783222701844,0.14431694631130162,0.04343366339470355,0.060996326565762565,0.035908303861176265,0.18870320354728154,0.13030908034870792,0.10975105068286226,0.13744775625264227,0.08373290365352691,0.17123677940070522,0.08430953766098424,0.14431694690692468,0.3023098729892704,0.00707220235887217,0.1974641474713223,0.07111265271959638,0.12925451443922478,0.13919021328304051,0.17095737572136127,0.1972860417613193,0.08430953766096498,0.06750348433765564,0.0348767808074836,0.2227977410802597,0.27052976331642964,0.058498342879689615,0.023061968347731082,0.16401927458594173,0.14431694705778061,0.0499007614447779,0.05006628275416116,0.01708102366497508,0.027747359501459526,0.1502431355185626,0.11307607792103128,0.06863356136793475,0.03386692132951979,0.07951657011400642,0.7692385874466773,0.180037520398539,0.7692385874466773,0.01941073958729428,0.01636227845903676,0.20270790318457796,0.03497983460955965,0.113186500691649,0.25747878589990203,0.3215270696496314,0.021308829421663823,0.07295495261963066,0.03491801338289273,0.038226569011098284,0.3086851898077147,0.10274973296818941,0.23195571466926063,0.028234512988008255,0.11602036775313376,0.05285557767464264,0.27805921209544937,0.11418432385082333],\"xaxis\":\"x\",\"y\":[-0.06999502129613384,-0.05302184999216253,-0.06260303116091957,-0.04331162123693887,-0.07072408012300044,-0.053752296360112604,-0.10615173313305204,-0.08437567787653712,-0.07328807158463582,-0.06093193950993791,-0.04994701939713559,-0.056425581788801624,-0.060845721093748084,-0.06389499681270143,-0.07634666411584413,-0.1028506889872461,-0.04967114816894889,-0.031016972089867572,-0.03421793175090389,-0.10615173313305204,-0.049530373806218726,-0.05133109307213995,-0.07668808216305582,-0.05727178609517824,-0.07126818290375193,0.0944668879682255,-0.06705642322022067,-0.04868905285002884,-0.05754796079005341,-0.05575899345125854,-0.0774785649045099,-0.046307188050564004,-0.057260704561565075,-0.049667732727555584,-0.10615173313305204,-0.10615173313305204,-0.04358961280979616,-0.027628277199427054,-0.03567435100942474,-0.06417903209134064,-0.3863155360276665,-0.041244095427271116,-0.03801338512326821,-0.060845721093748084,-0.037574556503499286,-0.03143689715696145,-0.04553163623785754,-0.10615173313305204,-0.057260704561565075,-0.05889911530516223,0.058259693502865105,-0.0788988866780774,-0.04048886606816231,-0.04390473862481822,-0.04906665536433819,-0.047911797008996095,-0.21741237770523714,-0.1717368376939402,-0.04370409515683349,0.07528176871732957,-0.05030188542682595,-0.060845721093748084,-0.05165126676394941,-0.14534535957702038,-0.040358466553868544,-0.056043156422497256,-0.061327961513490646,-0.05060426762755869,-0.04263786742517254,-0.03708007964617423,-0.055244314125237205,-0.0405950759109151,-0.03972514790823502,-0.04063435273238272,-0.048657076958602614,-0.04402426492602113,-0.08425233349268493,-0.0371309678858162,-0.12598123733463532,-0.040690766599688434,-0.03055030858850001,-0.03690436458775674,-0.027985140520377438,-0.07421892332906531,-0.03833806059448487,-0.03840396689118834,-0.049466703632448934,-0.3863155360276665,-0.15748203986456466,-0.15466668599829467,-0.05721440617321083,-0.17522740406174656,-0.058355973256533765,-0.05386040539434621,-0.09676331583093442,-0.0860686919082746,-0.06025935698060568,-0.07013021226671745,-0.09387314723469037,-0.049635755657588244,-0.07421987043911817,-0.09456503356452339,-0.09574805538516923,-0.1655454029824024,-0.055558750667851285,-0.052527419512029404,-0.09932188543616939,-0.08019950335440545,-0.03814977051761533,-0.11007672597928086,-0.034699963376606024,-0.09932188499842011,0.1060490017084989,-0.1956008822140652,-0.050562751547437966,-0.04926486385082149,-0.043631690992312754,-0.03930397188886951,0.06212813165825064,-0.08639088213008553,-0.07601856513469211,-0.0464187167270884,-0.10756521941073022,-0.04450139964217182,-0.15322142652927997,-0.07476166406556803,-0.049332325019871934,-0.052498604977409255,-0.040389348575670496,-0.0873856102525174,-0.059311512276126854,-0.14912499141787366,-0.07470777530437259,-0.07095433250199852,-0.11928470177410068,-0.05565544771443373,-0.07011972364692311,-0.04059679917851124,-0.047144324595071736,-0.09982494261912112,-0.04059507254227725,-0.09932188529210773,-0.09942892635813147,-0.10965849223964033,-0.05565544771443373,-0.15936906955540095,0.08005667011991635,-0.054745089538115396,-0.14084079232291943,-0.05565544771443373,-0.041770456479239555,-0.3863155360276665,-0.06667872388194006,0.0427379109968469,-0.11941149125007354,-0.05519583773959628,0.043996150062278805,-0.05370407999087322,-0.03984609753231207,-0.0582346919602218,-0.15748203986456466,-0.1655454029824024,-0.08249062609059048,-0.06701131534147567,-0.05424919656633575,-0.10600124073184232,-0.09459314035317552,-0.21741237770523714,-0.11710036931815909,-0.3863155360276665,-0.09932188636137254,-0.052885254574123096,0.09719611692680552,-0.21741237770523714,-0.1572146576496386,-0.3863155360276665,0.1860585335439767,-0.05242481649583644,-0.09932188740484191,-0.05788417576030882,-0.04587368346225133,-0.1572146576496386,-0.13523839802437115,-0.07834016130163744,-0.17417576577730473,-0.1060668360318448,-0.09932188761798365,-0.09932188526882789,-0.1962136128299533,-0.10316226107858396,-0.3863155360276665,-0.06727155422693996,-0.21741237770523714,-0.04721706234694322,-0.12614400787537788,-0.099321884491496,-0.08774816155490422,-0.12860680346400913,-0.1285164941801834,-0.08380439063854261,-0.13533900524890236,-0.07841635894188191,-0.07244345464738695,0.15778731031664678,-0.06733857252596492,-0.09932188552290883,-0.06685863136978194,-0.09932188579518714,-0.03869011427842636,-0.07698760096071502,-0.1246332996958479,-0.3863155360276665,-0.04192526670910996,-0.09323996279961418,-0.0993218875993604,-0.05598295618795521,-0.08272326179144404,-0.04495973514426396,-0.12735029736252,0.03934596971991729,-0.08963215562371502,-0.11921774472779745,-0.08308744979930939,-0.11384145952060712,-0.10360972514097049,-0.0993218867534931,-0.21741237770523714,-0.03478667812487026,-0.16368570560101456,-0.08124762350473849,-0.09296280624088148,0.09683859636285334,0.11375409393891706,0.1448703309514227,-0.10360972514099433,-0.06865108458373641,-0.04943253574596142,-0.1525523428842898,-0.1837143343358152,-0.08096399924347453,-0.05832373337803814,-0.11002745166269996,-0.09932188527696946,-0.061352519314544426,-0.05158818279900295,-0.032860585763471006,-0.05135151250167918,-0.12137672731327928,0.08549709777717725,-0.0850593558826306,-0.059244987036289554,-0.06888302400359288,-0.3863155360276665,-0.14488631545497882,-0.3863155360276665,-0.04059507381677199,-0.043081884377506464,0.12745198251127607,-0.05045529000033921,-0.10985041748763497,-0.14013354614462725,-0.21554527287136524,-0.049806472055403984,-0.041584549472119564,-0.030326880610242746,-0.0509688231240431,-0.20962036432042616,-0.09956387123007474,-0.14932201225226804,-0.05712631621957112,-0.10132278616431231,-0.06935934193366838,-0.18074252060522672,-0.10307461634687705],\"yaxis\":\"y\",\"type\":\"scatter\"},{\"hovertemplate\":\"Cluster=1\\u003cbr\\u003ePrincipal Component 1=%{x}\\u003cbr\\u003ePrincipal Component 2=%{y}\\u003cextra\\u003e\\u003c\\u002fextra\\u003e\",\"legendgroup\":\"1\",\"marker\":{\"color\":\"#19d3f3\",\"symbol\":\"circle\"},\"mode\":\"markers\",\"name\":\"1\",\"orientation\":\"v\",\"showlegend\":true,\"x\":[0.3147621871889601,0.3497721068076621,0.354477456595194,0.15217550373754446,0.2784094411680433,0.23018753319448523,0.07605473922621749,0.21510102181719148,0.31432818600635437,0.2382076920718449,0.21280603601712686,0.23326562315180388,0.3896218750484718,0.20502167809290917,0.2188947765667139,0.38962187504846263,0.3485284169675853,0.38962187504848966,0.38962187504846446,0.40719182387627467,0.3896218750484867,0.350856522224518,0.1560740293235766,0.4028868634255327,0.33472670930083837,0.3896218750485011,0.40184065476165404,0.2797093800055841,0.04357638822426627,0.3153875142044305,0.18857775420414782,0.19860093269686882,0.38962187504841694,0.3615327173483831,0.16478171270300399,0.35627290042713444],\"xaxis\":\"x\",\"y\":[0.4290299421933514,0.31142614992049805,0.6351130719597022,0.19256488105203948,0.3914554273003081,0.248425683112869,0.2838071166518235,0.24813665341588767,0.49703854700238675,0.34029099982809385,0.31873577486893995,0.24682832822520215,0.6766682867770917,0.2522559264658661,0.3193819797990184,0.6766682867773179,0.6170619031508158,0.6766682867773074,0.6766682867772048,0.6984615482732306,0.6766682867773167,0.6274099735226814,0.4474836330816602,0.6486235496764936,0.6020102107389936,0.6766682867772954,0.6940727683766649,0.5222087007338354,0.28047035474998305,0.59472401791851,0.29738860804420647,0.23689912225201804,0.6766682867770423,0.6391686038926815,0.21959535421814486,0.5380323194730968],\"yaxis\":\"y\",\"type\":\"scatter\"}],                        {\"template\":{\"data\":{\"histogram2dcontour\":[{\"type\":\"histogram2dcontour\",\"colorbar\":{\"outlinewidth\":0,\"ticks\":\"\"},\"colorscale\":[[0.0,\"#0d0887\"],[0.1111111111111111,\"#46039f\"],[0.2222222222222222,\"#7201a8\"],[0.3333333333333333,\"#9c179e\"],[0.4444444444444444,\"#bd3786\"],[0.5555555555555556,\"#d8576b\"],[0.6666666666666666,\"#ed7953\"],[0.7777777777777778,\"#fb9f3a\"],[0.8888888888888888,\"#fdca26\"],[1.0,\"#f0f921\"]]}],\"choropleth\":[{\"type\":\"choropleth\",\"colorbar\":{\"outlinewidth\":0,\"ticks\":\"\"}}],\"histogram2d\":[{\"type\":\"histogram2d\",\"colorbar\":{\"outlinewidth\":0,\"ticks\":\"\"},\"colorscale\":[[0.0,\"#0d0887\"],[0.1111111111111111,\"#46039f\"],[0.2222222222222222,\"#7201a8\"],[0.3333333333333333,\"#9c179e\"],[0.4444444444444444,\"#bd3786\"],[0.5555555555555556,\"#d8576b\"],[0.6666666666666666,\"#ed7953\"],[0.7777777777777778,\"#fb9f3a\"],[0.8888888888888888,\"#fdca26\"],[1.0,\"#f0f921\"]]}],\"heatmap\":[{\"type\":\"heatmap\",\"colorbar\":{\"outlinewidth\":0,\"ticks\":\"\"},\"colorscale\":[[0.0,\"#0d0887\"],[0.1111111111111111,\"#46039f\"],[0.2222222222222222,\"#7201a8\"],[0.3333333333333333,\"#9c179e\"],[0.4444444444444444,\"#bd3786\"],[0.5555555555555556,\"#d8576b\"],[0.6666666666666666,\"#ed7953\"],[0.7777777777777778,\"#fb9f3a\"],[0.8888888888888888,\"#fdca26\"],[1.0,\"#f0f921\"]]}],\"heatmapgl\":[{\"type\":\"heatmapgl\",\"colorbar\":{\"outlinewidth\":0,\"ticks\":\"\"},\"colorscale\":[[0.0,\"#0d0887\"],[0.1111111111111111,\"#46039f\"],[0.2222222222222222,\"#7201a8\"],[0.3333333333333333,\"#9c179e\"],[0.4444444444444444,\"#bd3786\"],[0.5555555555555556,\"#d8576b\"],[0.6666666666666666,\"#ed7953\"],[0.7777777777777778,\"#fb9f3a\"],[0.8888888888888888,\"#fdca26\"],[1.0,\"#f0f921\"]]}],\"contourcarpet\":[{\"type\":\"contourcarpet\",\"colorbar\":{\"outlinewidth\":0,\"ticks\":\"\"}}],\"contour\":[{\"type\":\"contour\",\"colorbar\":{\"outlinewidth\":0,\"ticks\":\"\"},\"colorscale\":[[0.0,\"#0d0887\"],[0.1111111111111111,\"#46039f\"],[0.2222222222222222,\"#7201a8\"],[0.3333333333333333,\"#9c179e\"],[0.4444444444444444,\"#bd3786\"],[0.5555555555555556,\"#d8576b\"],[0.6666666666666666,\"#ed7953\"],[0.7777777777777778,\"#fb9f3a\"],[0.8888888888888888,\"#fdca26\"],[1.0,\"#f0f921\"]]}],\"surface\":[{\"type\":\"surface\",\"colorbar\":{\"outlinewidth\":0,\"ticks\":\"\"},\"colorscale\":[[0.0,\"#0d0887\"],[0.1111111111111111,\"#46039f\"],[0.2222222222222222,\"#7201a8\"],[0.3333333333333333,\"#9c179e\"],[0.4444444444444444,\"#bd3786\"],[0.5555555555555556,\"#d8576b\"],[0.6666666666666666,\"#ed7953\"],[0.7777777777777778,\"#fb9f3a\"],[0.8888888888888888,\"#fdca26\"],[1.0,\"#f0f921\"]]}],\"mesh3d\":[{\"type\":\"mesh3d\",\"colorbar\":{\"outlinewidth\":0,\"ticks\":\"\"}}],\"scatter\":[{\"fillpattern\":{\"fillmode\":\"overlay\",\"size\":10,\"solidity\":0.2},\"type\":\"scatter\"}],\"parcoords\":[{\"type\":\"parcoords\",\"line\":{\"colorbar\":{\"outlinewidth\":0,\"ticks\":\"\"}}}],\"scatterpolargl\":[{\"type\":\"scatterpolargl\",\"marker\":{\"colorbar\":{\"outlinewidth\":0,\"ticks\":\"\"}}}],\"bar\":[{\"error_x\":{\"color\":\"#2a3f5f\"},\"error_y\":{\"color\":\"#2a3f5f\"},\"marker\":{\"line\":{\"color\":\"#E5ECF6\",\"width\":0.5},\"pattern\":{\"fillmode\":\"overlay\",\"size\":10,\"solidity\":0.2}},\"type\":\"bar\"}],\"scattergeo\":[{\"type\":\"scattergeo\",\"marker\":{\"colorbar\":{\"outlinewidth\":0,\"ticks\":\"\"}}}],\"scatterpolar\":[{\"type\":\"scatterpolar\",\"marker\":{\"colorbar\":{\"outlinewidth\":0,\"ticks\":\"\"}}}],\"histogram\":[{\"marker\":{\"pattern\":{\"fillmode\":\"overlay\",\"size\":10,\"solidity\":0.2}},\"type\":\"histogram\"}],\"scattergl\":[{\"type\":\"scattergl\",\"marker\":{\"colorbar\":{\"outlinewidth\":0,\"ticks\":\"\"}}}],\"scatter3d\":[{\"type\":\"scatter3d\",\"line\":{\"colorbar\":{\"outlinewidth\":0,\"ticks\":\"\"}},\"marker\":{\"colorbar\":{\"outlinewidth\":0,\"ticks\":\"\"}}}],\"scattermapbox\":[{\"type\":\"scattermapbox\",\"marker\":{\"colorbar\":{\"outlinewidth\":0,\"ticks\":\"\"}}}],\"scatterternary\":[{\"type\":\"scatterternary\",\"marker\":{\"colorbar\":{\"outlinewidth\":0,\"ticks\":\"\"}}}],\"scattercarpet\":[{\"type\":\"scattercarpet\",\"marker\":{\"colorbar\":{\"outlinewidth\":0,\"ticks\":\"\"}}}],\"carpet\":[{\"aaxis\":{\"endlinecolor\":\"#2a3f5f\",\"gridcolor\":\"white\",\"linecolor\":\"white\",\"minorgridcolor\":\"white\",\"startlinecolor\":\"#2a3f5f\"},\"baxis\":{\"endlinecolor\":\"#2a3f5f\",\"gridcolor\":\"white\",\"linecolor\":\"white\",\"minorgridcolor\":\"white\",\"startlinecolor\":\"#2a3f5f\"},\"type\":\"carpet\"}],\"table\":[{\"cells\":{\"fill\":{\"color\":\"#EBF0F8\"},\"line\":{\"color\":\"white\"}},\"header\":{\"fill\":{\"color\":\"#C8D4E3\"},\"line\":{\"color\":\"white\"}},\"type\":\"table\"}],\"barpolar\":[{\"marker\":{\"line\":{\"color\":\"#E5ECF6\",\"width\":0.5},\"pattern\":{\"fillmode\":\"overlay\",\"size\":10,\"solidity\":0.2}},\"type\":\"barpolar\"}],\"pie\":[{\"automargin\":true,\"type\":\"pie\"}]},\"layout\":{\"autotypenumbers\":\"strict\",\"colorway\":[\"#636efa\",\"#EF553B\",\"#00cc96\",\"#ab63fa\",\"#FFA15A\",\"#19d3f3\",\"#FF6692\",\"#B6E880\",\"#FF97FF\",\"#FECB52\"],\"font\":{\"color\":\"#2a3f5f\"},\"hovermode\":\"closest\",\"hoverlabel\":{\"align\":\"left\"},\"paper_bgcolor\":\"white\",\"plot_bgcolor\":\"#E5ECF6\",\"polar\":{\"bgcolor\":\"#E5ECF6\",\"angularaxis\":{\"gridcolor\":\"white\",\"linecolor\":\"white\",\"ticks\":\"\"},\"radialaxis\":{\"gridcolor\":\"white\",\"linecolor\":\"white\",\"ticks\":\"\"}},\"ternary\":{\"bgcolor\":\"#E5ECF6\",\"aaxis\":{\"gridcolor\":\"white\",\"linecolor\":\"white\",\"ticks\":\"\"},\"baxis\":{\"gridcolor\":\"white\",\"linecolor\":\"white\",\"ticks\":\"\"},\"caxis\":{\"gridcolor\":\"white\",\"linecolor\":\"white\",\"ticks\":\"\"}},\"coloraxis\":{\"colorbar\":{\"outlinewidth\":0,\"ticks\":\"\"}},\"colorscale\":{\"sequential\":[[0.0,\"#0d0887\"],[0.1111111111111111,\"#46039f\"],[0.2222222222222222,\"#7201a8\"],[0.3333333333333333,\"#9c179e\"],[0.4444444444444444,\"#bd3786\"],[0.5555555555555556,\"#d8576b\"],[0.6666666666666666,\"#ed7953\"],[0.7777777777777778,\"#fb9f3a\"],[0.8888888888888888,\"#fdca26\"],[1.0,\"#f0f921\"]],\"sequentialminus\":[[0.0,\"#0d0887\"],[0.1111111111111111,\"#46039f\"],[0.2222222222222222,\"#7201a8\"],[0.3333333333333333,\"#9c179e\"],[0.4444444444444444,\"#bd3786\"],[0.5555555555555556,\"#d8576b\"],[0.6666666666666666,\"#ed7953\"],[0.7777777777777778,\"#fb9f3a\"],[0.8888888888888888,\"#fdca26\"],[1.0,\"#f0f921\"]],\"diverging\":[[0,\"#8e0152\"],[0.1,\"#c51b7d\"],[0.2,\"#de77ae\"],[0.3,\"#f1b6da\"],[0.4,\"#fde0ef\"],[0.5,\"#f7f7f7\"],[0.6,\"#e6f5d0\"],[0.7,\"#b8e186\"],[0.8,\"#7fbc41\"],[0.9,\"#4d9221\"],[1,\"#276419\"]]},\"xaxis\":{\"gridcolor\":\"white\",\"linecolor\":\"white\",\"ticks\":\"\",\"title\":{\"standoff\":15},\"zerolinecolor\":\"white\",\"automargin\":true,\"zerolinewidth\":2},\"yaxis\":{\"gridcolor\":\"white\",\"linecolor\":\"white\",\"ticks\":\"\",\"title\":{\"standoff\":15},\"zerolinecolor\":\"white\",\"automargin\":true,\"zerolinewidth\":2},\"scene\":{\"xaxis\":{\"backgroundcolor\":\"#E5ECF6\",\"gridcolor\":\"white\",\"linecolor\":\"white\",\"showbackground\":true,\"ticks\":\"\",\"zerolinecolor\":\"white\",\"gridwidth\":2},\"yaxis\":{\"backgroundcolor\":\"#E5ECF6\",\"gridcolor\":\"white\",\"linecolor\":\"white\",\"showbackground\":true,\"ticks\":\"\",\"zerolinecolor\":\"white\",\"gridwidth\":2},\"zaxis\":{\"backgroundcolor\":\"#E5ECF6\",\"gridcolor\":\"white\",\"linecolor\":\"white\",\"showbackground\":true,\"ticks\":\"\",\"zerolinecolor\":\"white\",\"gridwidth\":2}},\"shapedefaults\":{\"line\":{\"color\":\"#2a3f5f\"}},\"annotationdefaults\":{\"arrowcolor\":\"#2a3f5f\",\"arrowhead\":0,\"arrowwidth\":1},\"geo\":{\"bgcolor\":\"white\",\"landcolor\":\"#E5ECF6\",\"subunitcolor\":\"white\",\"showland\":true,\"showlakes\":true,\"lakecolor\":\"white\"},\"title\":{\"x\":0.05},\"mapbox\":{\"style\":\"light\"}}},\"xaxis\":{\"anchor\":\"y\",\"domain\":[0.0,1.0],\"title\":{\"text\":\"Principal Component 1\"}},\"yaxis\":{\"anchor\":\"x\",\"domain\":[0.0,1.0],\"title\":{\"text\":\"Principal Component 2\"}},\"legend\":{\"title\":{\"text\":\"Cluster\"},\"tracegroupgap\":0},\"title\":{\"text\":\"PCA Scatterplot of News Articles with Clusters\"}},                        {\"responsive\": true}                    ).then(function(){\n",
              "                            \n",
              "var gd = document.getElementById('05dcdb72-660d-4d01-936c-e05c68ce3b2b');\n",
              "var x = new MutationObserver(function (mutations, observer) {{\n",
              "        var display = window.getComputedStyle(gd).display;\n",
              "        if (!display || display === 'none') {{\n",
              "            console.log([gd, 'removed!']);\n",
              "            Plotly.purge(gd);\n",
              "            observer.disconnect();\n",
              "        }}\n",
              "}});\n",
              "\n",
              "// Listen for the removal of the full notebook cells\n",
              "var notebookContainer = gd.closest('#notebook-container');\n",
              "if (notebookContainer) {{\n",
              "    x.observe(notebookContainer, {childList: true});\n",
              "}}\n",
              "\n",
              "// Listen for the clearing of the current output cell\n",
              "var outputEl = gd.closest('.output');\n",
              "if (outputEl) {{\n",
              "    x.observe(outputEl, {childList: true});\n",
              "}}\n",
              "\n",
              "                        })                };                            </script>        </div>\n",
              "</body>\n",
              "</html>"
            ]
          },
          "metadata": {}
        }
      ]
    }
  ]
}